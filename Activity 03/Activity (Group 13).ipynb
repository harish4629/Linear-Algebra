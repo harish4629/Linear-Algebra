{
 "cells": [
  {
   "cell_type": "code",
   "execution_count": 1,
   "id": "a96397e5",
   "metadata": {
    "slideshow": {
     "slide_type": "notes"
    }
   },
   "outputs": [
    {
     "name": "stdout",
     "output_type": "stream",
     "text": [
      "Collecting RISE\n",
      "  Downloading rise-5.7.1-py2.py3-none-any.whl (4.3 MB)\n",
      "\u001b[K     |████████████████████████████████| 4.3 MB 120 kB/s eta 0:00:01     |████████▌                       | 1.1 MB 291 kB/s eta 0:00:11\n",
      "\u001b[?25hRequirement already satisfied: notebook>=6.0 in /data/user/0/ru.iiec.pydroid3/files/aarch64-linux-android/lib/python3.8/site-packages (from RISE) (6.4.0)\n",
      "Requirement already satisfied: nbconvert in /data/user/0/ru.iiec.pydroid3/files/aarch64-linux-android/lib/python3.8/site-packages (from notebook>=6.0->RISE) (6.1.0)\n",
      "Requirement already satisfied: prometheus-client in /data/user/0/ru.iiec.pydroid3/files/aarch64-linux-android/lib/python3.8/site-packages (from notebook>=6.0->RISE) (0.11.0)\n",
      "Requirement already satisfied: ipykernel in /data/user/0/ru.iiec.pydroid3/files/aarch64-linux-android/lib/python3.8/site-packages (from notebook>=6.0->RISE) (6.0.3)\n",
      "Requirement already satisfied: traitlets>=4.2.1 in /data/user/0/ru.iiec.pydroid3/files/aarch64-linux-android/lib/python3.8/site-packages (from notebook>=6.0->RISE) (5.0.5)\n",
      "Requirement already satisfied: ipython-genutils in /data/user/0/ru.iiec.pydroid3/files/aarch64-linux-android/lib/python3.8/site-packages (from notebook>=6.0->RISE) (0.2.0)\n",
      "Requirement already satisfied: pyzmq>=17 in /data/user/0/ru.iiec.pydroid3/files/aarch64-linux-android/lib/python3.8/site-packages (from notebook>=6.0->RISE) (19.0.1)\n",
      "Requirement already satisfied: argon2-cffi in /data/user/0/ru.iiec.pydroid3/files/aarch64-linux-android/lib/python3.8/site-packages (from notebook>=6.0->RISE) (20.1.0)\n",
      "Requirement already satisfied: jupyter-client>=5.3.4 in /data/user/0/ru.iiec.pydroid3/files/aarch64-linux-android/lib/python3.8/site-packages (from notebook>=6.0->RISE) (6.1.12)\n",
      "Requirement already satisfied: Send2Trash>=1.5.0 in /data/user/0/ru.iiec.pydroid3/files/aarch64-linux-android/lib/python3.8/site-packages (from notebook>=6.0->RISE) (1.7.1)\n",
      "Requirement already satisfied: nbformat in /data/user/0/ru.iiec.pydroid3/files/aarch64-linux-android/lib/python3.8/site-packages (from notebook>=6.0->RISE) (5.1.3)\n",
      "Requirement already satisfied: jupyter-core>=4.6.1 in /data/user/0/ru.iiec.pydroid3/files/aarch64-linux-android/lib/python3.8/site-packages (from notebook>=6.0->RISE) (4.7.1)\n",
      "Requirement already satisfied: jinja2 in /data/user/0/ru.iiec.pydroid3/files/aarch64-linux-android/lib/python3.8/site-packages (from notebook>=6.0->RISE) (3.0.1)\n",
      "Requirement already satisfied: terminado>=0.8.3 in /data/user/0/ru.iiec.pydroid3/files/aarch64-linux-android/lib/python3.8/site-packages (from notebook>=6.0->RISE) (0.10.1)\n",
      "Requirement already satisfied: tornado>=6.1 in /data/user/0/ru.iiec.pydroid3/files/aarch64-linux-android/lib/python3.8/site-packages (from notebook>=6.0->RISE) (6.1)\n",
      "Requirement already satisfied: entrypoints>=0.2.2 in /data/user/0/ru.iiec.pydroid3/files/aarch64-linux-android/lib/python3.8/site-packages (from nbconvert->notebook>=6.0->RISE) (0.3)\n",
      "Requirement already satisfied: mistune<2,>=0.8.1 in /data/user/0/ru.iiec.pydroid3/files/aarch64-linux-android/lib/python3.8/site-packages (from nbconvert->notebook>=6.0->RISE) (0.8.4)\n",
      "Requirement already satisfied: bleach in /data/user/0/ru.iiec.pydroid3/files/aarch64-linux-android/lib/python3.8/site-packages (from nbconvert->notebook>=6.0->RISE) (3.3.1)\n",
      "Requirement already satisfied: defusedxml in /data/user/0/ru.iiec.pydroid3/files/aarch64-linux-android/lib/python3.8/site-packages (from nbconvert->notebook>=6.0->RISE) (0.7.1)\n",
      "Requirement already satisfied: pandocfilters>=1.4.1 in /data/user/0/ru.iiec.pydroid3/files/aarch64-linux-android/lib/python3.8/site-packages (from nbconvert->notebook>=6.0->RISE) (1.4.3)\n",
      "Requirement already satisfied: testpath in /data/user/0/ru.iiec.pydroid3/files/aarch64-linux-android/lib/python3.8/site-packages (from nbconvert->notebook>=6.0->RISE) (0.5.0)\n",
      "Requirement already satisfied: nbclient<0.6.0,>=0.5.0 in /data/user/0/ru.iiec.pydroid3/files/aarch64-linux-android/lib/python3.8/site-packages (from nbconvert->notebook>=6.0->RISE) (0.5.3)\n",
      "Requirement already satisfied: jupyterlab-pygments in /data/user/0/ru.iiec.pydroid3/files/aarch64-linux-android/lib/python3.8/site-packages (from nbconvert->notebook>=6.0->RISE) (0.1.2)\n",
      "Requirement already satisfied: pygments>=2.4.1 in /data/user/0/ru.iiec.pydroid3/files/aarch64-linux-android/lib/python3.8/site-packages (from nbconvert->notebook>=6.0->RISE) (2.9.0)\n",
      "Requirement already satisfied: ipython<8.0,>=7.23.1 in /data/user/0/ru.iiec.pydroid3/files/aarch64-linux-android/lib/python3.8/site-packages (from ipykernel->notebook>=6.0->RISE) (7.25.0)\n",
      "Requirement already satisfied: debugpy<2.0,>=1.0.0 in /data/user/0/ru.iiec.pydroid3/files/aarch64-linux-android/lib/python3.8/site-packages (from ipykernel->notebook>=6.0->RISE) (1.3.0)\n",
      "Requirement already satisfied: matplotlib-inline<0.2.0,>=0.1.0 in /data/user/0/ru.iiec.pydroid3/files/aarch64-linux-android/lib/python3.8/site-packages (from ipykernel->notebook>=6.0->RISE) (0.1.2)\n",
      "Requirement already satisfied: six in /data/user/0/ru.iiec.pydroid3/files/aarch64-linux-android/lib/python3.8/site-packages (from argon2-cffi->notebook>=6.0->RISE) (1.15.0)\n",
      "Requirement already satisfied: cffi>=1.0.0 in /data/user/0/ru.iiec.pydroid3/files/aarch64-linux-android/lib/python3.8/site-packages (from argon2-cffi->notebook>=6.0->RISE) (1.14.6)\n",
      "Requirement already satisfied: python-dateutil>=2.1 in /data/user/0/ru.iiec.pydroid3/files/aarch64-linux-android/lib/python3.8/site-packages (from jupyter-client>=5.3.4->notebook>=6.0->RISE) (2.8.2)\n",
      "Requirement already satisfied: jsonschema!=2.5.0,>=2.4 in /data/user/0/ru.iiec.pydroid3/files/aarch64-linux-android/lib/python3.8/site-packages (from nbformat->notebook>=6.0->RISE) (3.2.0)\n",
      "Requirement already satisfied: MarkupSafe>=2.0 in /data/user/0/ru.iiec.pydroid3/files/aarch64-linux-android/lib/python3.8/site-packages (from jinja2->notebook>=6.0->RISE) (2.0.1)\n",
      "Requirement already satisfied: ptyprocess; os_name != \"nt\" in /data/user/0/ru.iiec.pydroid3/files/aarch64-linux-android/lib/python3.8/site-packages (from terminado>=0.8.3->notebook>=6.0->RISE) (0.7.0)\n",
      "Requirement already satisfied: packaging in /data/user/0/ru.iiec.pydroid3/files/aarch64-linux-android/lib/python3.8/site-packages (from bleach->nbconvert->notebook>=6.0->RISE) (21.0)\n",
      "Requirement already satisfied: webencodings in /data/user/0/ru.iiec.pydroid3/files/aarch64-linux-android/lib/python3.8/site-packages (from bleach->nbconvert->notebook>=6.0->RISE) (0.5.1)\n",
      "Requirement already satisfied: nest-asyncio in /data/user/0/ru.iiec.pydroid3/files/aarch64-linux-android/lib/python3.8/site-packages (from nbclient<0.6.0,>=0.5.0->nbconvert->notebook>=6.0->RISE) (1.5.1)\n",
      "Requirement already satisfied: async-generator in /data/user/0/ru.iiec.pydroid3/files/aarch64-linux-android/lib/python3.8/site-packages (from nbclient<0.6.0,>=0.5.0->nbconvert->notebook>=6.0->RISE) (1.10)\n",
      "Requirement already satisfied: pexpect>4.3; sys_platform != \"win32\" in /data/user/0/ru.iiec.pydroid3/files/aarch64-linux-android/lib/python3.8/site-packages (from ipython<8.0,>=7.23.1->ipykernel->notebook>=6.0->RISE) (4.8.0)\n",
      "Requirement already satisfied: backcall in /data/user/0/ru.iiec.pydroid3/files/aarch64-linux-android/lib/python3.8/site-packages (from ipython<8.0,>=7.23.1->ipykernel->notebook>=6.0->RISE) (0.2.0)\n",
      "Requirement already satisfied: pickleshare in /data/user/0/ru.iiec.pydroid3/files/aarch64-linux-android/lib/python3.8/site-packages (from ipython<8.0,>=7.23.1->ipykernel->notebook>=6.0->RISE) (0.7.5)\n",
      "Requirement already satisfied: jedi>=0.16 in /data/user/0/ru.iiec.pydroid3/files/aarch64-linux-android/lib/python3.8/site-packages (from ipython<8.0,>=7.23.1->ipykernel->notebook>=6.0->RISE) (0.17.0)\n",
      "Requirement already satisfied: decorator in /data/user/0/ru.iiec.pydroid3/files/aarch64-linux-android/lib/python3.8/site-packages (from ipython<8.0,>=7.23.1->ipykernel->notebook>=6.0->RISE) (5.0.9)\n",
      "Requirement already satisfied: prompt-toolkit!=3.0.0,!=3.0.1,<3.1.0,>=2.0.0 in /data/user/0/ru.iiec.pydroid3/files/aarch64-linux-android/lib/python3.8/site-packages (from ipython<8.0,>=7.23.1->ipykernel->notebook>=6.0->RISE) (3.0.19)\n",
      "Requirement already satisfied: setuptools>=18.5 in /data/user/0/ru.iiec.pydroid3/files/aarch64-linux-android/lib/python3.8/site-packages (from ipython<8.0,>=7.23.1->ipykernel->notebook>=6.0->RISE) (46.4.0)\n"
     ]
    },
    {
     "name": "stdout",
     "output_type": "stream",
     "text": [
      "Requirement already satisfied: pycparser in /data/user/0/ru.iiec.pydroid3/files/aarch64-linux-android/lib/python3.8/site-packages (from cffi>=1.0.0->argon2-cffi->notebook>=6.0->RISE) (2.20)\n",
      "Requirement already satisfied: attrs>=17.4.0 in /data/user/0/ru.iiec.pydroid3/files/aarch64-linux-android/lib/python3.8/site-packages (from jsonschema!=2.5.0,>=2.4->nbformat->notebook>=6.0->RISE) (21.2.0)\n",
      "Requirement already satisfied: pyrsistent>=0.14.0 in /data/user/0/ru.iiec.pydroid3/files/aarch64-linux-android/lib/python3.8/site-packages (from jsonschema!=2.5.0,>=2.4->nbformat->notebook>=6.0->RISE) (0.18.0)\n",
      "Requirement already satisfied: pyparsing>=2.0.2 in /data/user/0/ru.iiec.pydroid3/files/aarch64-linux-android/lib/python3.8/site-packages (from packaging->bleach->nbconvert->notebook>=6.0->RISE) (2.4.7)\n",
      "Requirement already satisfied: parso>=0.7.0 in /data/user/0/ru.iiec.pydroid3/files/aarch64-linux-android/lib/python3.8/site-packages (from jedi>=0.16->ipython<8.0,>=7.23.1->ipykernel->notebook>=6.0->RISE) (0.7.0)\n",
      "Requirement already satisfied: wcwidth in /data/user/0/ru.iiec.pydroid3/files/aarch64-linux-android/lib/python3.8/site-packages (from prompt-toolkit!=3.0.0,!=3.0.1,<3.1.0,>=2.0.0->ipython<8.0,>=7.23.1->ipykernel->notebook>=6.0->RISE) (0.2.5)\n",
      "Installing collected packages: RISE\n",
      "Successfully installed RISE-5.7.1\n",
      "\u001b[33mWARNING: You are using pip version 20.1.1; however, version 21.2.4 is available.\n",
      "You should consider upgrading via the '/data/user/0/ru.iiec.pydroid3/files/aarch64-linux-android/bin/python3.8 -m pip install --upgrade pip' command.\u001b[0m\n",
      "Note: you may need to restart the kernel to use updated packages.\n"
     ]
    }
   ],
   "source": [
    "pip install RISE "
   ]
  },
  {
   "cell_type": "markdown",
   "id": "DZiQ8omsbF2M",
   "metadata": {
    "id": "DZiQ8omsbF2M",
    "slideshow": {
     "slide_type": "slide"
    }
   },
   "source": [
    "--- \n",
    "## **Group 13** \n",
    "### **2023 - Shubham Mahajan**\n",
    "### **2048 - Nikita Rane**\n",
    "### **2057 - Tushar Sutar**\n",
    "---"
   ]
  },
  {
   "cell_type": "markdown",
   "id": "267cd82f",
   "metadata": {
    "id": "267cd82f",
    "slideshow": {
     "slide_type": "slide"
    }
   },
   "source": [
    "# **Reserved Keywords**\n",
    "\n",
    " Reserved words (also called keywords) are defined with predefined meaning and syntax in the language. These keywords have to be used to develop programming instructions. Reserved words can’t be used as identifiers for other programming elements like name of variable, function etc.\n",
    " Python 3 has 33 keywords.\n",
    " \n",
    " \n",
    "and , except , lambda , with , as , finally , nonlocal, while , assert , false , None , yield , break , for , not , class , from , or , continue , global , pass , def ,if , raise , del , import , return , elif , in , True , else , is , try"
   ]
  },
  {
   "cell_type": "code",
   "execution_count": 2,
   "id": "oVvALeAVn7CZ",
   "metadata": {
    "colab": {
     "base_uri": "https://localhost:8080/"
    },
    "executionInfo": {
     "elapsed": 1880,
     "status": "ok",
     "timestamp": 1628876959508,
     "user": {
      "displayName": "2048-Nikita Rane",
      "photoUrl": "https://lh3.googleusercontent.com/a-/AOh14Gg7oeRexb4EPL1etwiS2ZlaokDYXuDP8tXSbZYoS7s=s64",
      "userId": "11301291689322812470"
     },
     "user_tz": -330
    },
    "id": "oVvALeAVn7CZ",
    "outputId": "1e3d3672-01f7-414b-b3fa-745c9d382af3",
    "slideshow": {
     "slide_type": "subslide"
    }
   },
   "outputs": [
    {
     "data": {
      "text/plain": [
       "['False',\n",
       " 'None',\n",
       " 'True',\n",
       " 'and',\n",
       " 'as',\n",
       " 'assert',\n",
       " 'async',\n",
       " 'await',\n",
       " 'break',\n",
       " 'class',\n",
       " 'continue',\n",
       " 'def',\n",
       " 'del',\n",
       " 'elif',\n",
       " 'else',\n",
       " 'except',\n",
       " 'finally',\n",
       " 'for',\n",
       " 'from',\n",
       " 'global',\n",
       " 'if',\n",
       " 'import',\n",
       " 'in',\n",
       " 'is',\n",
       " 'lambda',\n",
       " 'nonlocal',\n",
       " 'not',\n",
       " 'or',\n",
       " 'pass',\n",
       " 'raise',\n",
       " 'return',\n",
       " 'try',\n",
       " 'while',\n",
       " 'with',\n",
       " 'yield']"
      ]
     },
     "execution_count": 2,
     "metadata": {},
     "output_type": "execute_result"
    }
   ],
   "source": [
    "#To check the keyword list, type following commands in interpreter −\n",
    "import keyword\n",
    "keyword.kwlist"
   ]
  },
  {
   "cell_type": "markdown",
   "id": "f7b1e066",
   "metadata": {
    "id": "f7b1e066",
    "slideshow": {
     "slide_type": "slide"
    }
   },
   "source": [
    "## **Comment**\n",
    " \n",
    "Comments are lines that exist in computer programs that are ignored by compilers and interpreters. Using comments in programs can make code more readable for humans, as it provides some information or explanation about what each part of a program is doing."
   ]
  },
  {
   "cell_type": "code",
   "execution_count": 3,
   "id": "c5260526",
   "metadata": {
    "colab": {
     "base_uri": "https://localhost:8080/"
    },
    "executionInfo": {
     "elapsed": 1926,
     "status": "ok",
     "timestamp": 1628877365729,
     "user": {
      "displayName": "2048-Nikita Rane",
      "photoUrl": "https://lh3.googleusercontent.com/a-/AOh14Gg7oeRexb4EPL1etwiS2ZlaokDYXuDP8tXSbZYoS7s=s64",
      "userId": "11301291689322812470"
     },
     "user_tz": -330
    },
    "id": "c5260526",
    "outputId": "1591b553-b683-4f41-8294-dec5a7e7511f",
    "slideshow": {
     "slide_type": "subslide"
    }
   },
   "outputs": [
    {
     "name": "stdout",
     "output_type": "stream",
     "text": [
      "Hello, World!\n"
     ]
    }
   ],
   "source": [
    "# Print “Hello, World!” to console\n",
    "print(\"Hello, World!\")\n",
    " \n",
    "# Multiple line comment \"\"\"not working\"\"\""
   ]
  },
  {
   "cell_type": "code",
   "execution_count": 4,
   "id": "eaf271f0",
   "metadata": {
    "colab": {
     "base_uri": "https://localhost:8080/",
     "height": 35
    },
    "executionInfo": {
     "elapsed": 519,
     "status": "ok",
     "timestamp": 1628877377336,
     "user": {
      "displayName": "2048-Nikita Rane",
      "photoUrl": "https://lh3.googleusercontent.com/a-/AOh14Gg7oeRexb4EPL1etwiS2ZlaokDYXuDP8tXSbZYoS7s=s64",
      "userId": "11301291689322812470"
     },
     "user_tz": -330
    },
    "id": "eaf271f0",
    "outputId": "a50efcee-c2e8-4c18-bc20-23a27007aa2a"
   },
   "outputs": [
    {
     "data": {
      "text/plain": [
       "'d'"
      ]
     },
     "execution_count": 4,
     "metadata": {},
     "output_type": "execute_result"
    }
   ],
   "source": [
    "'''d'''\n",
    "# ```d```"
   ]
  },
  {
   "cell_type": "markdown",
   "id": "09c507c8",
   "metadata": {
    "id": "09c507c8",
    "slideshow": {
     "slide_type": "slide"
    }
   },
   "source": [
    "# **Assigning values to Variables**\n",
    " \n",
    "Python variables do not need explicit declaration to reserve memory space. The declaration happens automatically when you assign a value to a variable. The equal sign (=) is used to assign values to variables.\n",
    "The operand to the left of the = operator is the name of the variable and the operand to the right of the = operator is the value stored in the variable."
   ]
  },
  {
   "cell_type": "code",
   "execution_count": 5,
   "id": "33d29b97",
   "metadata": {
    "colab": {
     "base_uri": "https://localhost:8080/"
    },
    "executionInfo": {
     "elapsed": 490,
     "status": "ok",
     "timestamp": 1628877786677,
     "user": {
      "displayName": "2048-Nikita Rane",
      "photoUrl": "https://lh3.googleusercontent.com/a-/AOh14Gg7oeRexb4EPL1etwiS2ZlaokDYXuDP8tXSbZYoS7s=s64",
      "userId": "11301291689322812470"
     },
     "user_tz": -330
    },
    "id": "33d29b97",
    "outputId": "83ef4ccb-2cdb-455b-dd60-748de3d79410",
    "slideshow": {
     "slide_type": "subslide"
    }
   },
   "outputs": [
    {
     "name": "stdout",
     "output_type": "stream",
     "text": [
      "150\n",
      "100.5\n",
      "Jackie\n"
     ]
    }
   ],
   "source": [
    "counter = 150         # An integer assignment\n",
    "miles   = 100.5       # A floating point\n",
    "name    = \"Jackie\"    # A string\n",
    " \n",
    "print(counter)\n",
    "print(miles)\n",
    "print(name)"
   ]
  },
  {
   "cell_type": "markdown",
   "id": "kOKbsHkDrxav",
   "metadata": {
    "id": "kOKbsHkDrxav",
    "slideshow": {
     "slide_type": "slide"
    }
   },
   "source": [
    "### **Multiple Assignment**\n",
    "Python allows you to assign a single value to several variables simultaneously."
   ]
  },
  {
   "cell_type": "code",
   "execution_count": 6,
   "id": "5a6b632e",
   "metadata": {
    "colab": {
     "base_uri": "https://localhost:8080/"
    },
    "executionInfo": {
     "elapsed": 502,
     "status": "ok",
     "timestamp": 1628877858010,
     "user": {
      "displayName": "2048-Nikita Rane",
      "photoUrl": "https://lh3.googleusercontent.com/a-/AOh14Gg7oeRexb4EPL1etwiS2ZlaokDYXuDP8tXSbZYoS7s=s64",
      "userId": "11301291689322812470"
     },
     "user_tz": -330
    },
    "id": "5a6b632e",
    "outputId": "67925c03-5349-41a2-e4f7-b2e55cfd4d7a"
   },
   "outputs": [
    {
     "data": {
      "text/plain": [
       "3"
      ]
     },
     "execution_count": 6,
     "metadata": {},
     "output_type": "execute_result"
    }
   ],
   "source": [
    "x,y=3,4\n",
    "x"
   ]
  },
  {
   "cell_type": "code",
   "execution_count": 7,
   "id": "22d56acf",
   "metadata": {
    "colab": {
     "base_uri": "https://localhost:8080/"
    },
    "executionInfo": {
     "elapsed": 548,
     "status": "ok",
     "timestamp": 1628877863359,
     "user": {
      "displayName": "2048-Nikita Rane",
      "photoUrl": "https://lh3.googleusercontent.com/a-/AOh14Gg7oeRexb4EPL1etwiS2ZlaokDYXuDP8tXSbZYoS7s=s64",
      "userId": "11301291689322812470"
     },
     "user_tz": -330
    },
    "id": "22d56acf",
    "outputId": "37630704-c90b-437a-c5ce-11d4bd391099"
   },
   "outputs": [
    {
     "data": {
      "text/plain": [
       "1"
      ]
     },
     "execution_count": 7,
     "metadata": {},
     "output_type": "execute_result"
    }
   ],
   "source": [
    "x=y=1\n",
    "x"
   ]
  },
  {
   "cell_type": "markdown",
   "id": "HKZOmfyYr_Wr",
   "metadata": {
    "id": "HKZOmfyYr_Wr",
    "slideshow": {
     "slide_type": "fragment"
    }
   },
   "source": [
    "**Other examples of Assignment**"
   ]
  },
  {
   "cell_type": "code",
   "execution_count": 8,
   "id": "ef8aa890",
   "metadata": {
    "id": "ef8aa890"
   },
   "outputs": [
    {
     "data": {
      "text/plain": [
       "'Some String'"
      ]
     },
     "execution_count": 8,
     "metadata": {},
     "output_type": "execute_result"
    }
   ],
   "source": [
    "x=\"Some String\"\n",
    "x"
   ]
  },
  {
   "cell_type": "code",
   "execution_count": 9,
   "id": "dc57ebe5",
   "metadata": {
    "id": "dc57ebe5"
   },
   "outputs": [
    {
     "data": {
      "text/plain": [
       "'Some StringAnother String'"
      ]
     },
     "execution_count": 9,
     "metadata": {},
     "output_type": "execute_result"
    }
   ],
   "source": [
    "y=\"Another String\"\n",
    "x+y"
   ]
  },
  {
   "cell_type": "code",
   "execution_count": 10,
   "id": "3896dc87",
   "metadata": {
    "colab": {
     "base_uri": "https://localhost:8080/"
    },
    "executionInfo": {
     "elapsed": 583,
     "status": "ok",
     "timestamp": 1628877871917,
     "user": {
      "displayName": "2048-Nikita Rane",
      "photoUrl": "https://lh3.googleusercontent.com/a-/AOh14Gg7oeRexb4EPL1etwiS2ZlaokDYXuDP8tXSbZYoS7s=s64",
      "userId": "11301291689322812470"
     },
     "user_tz": -330
    },
    "id": "3896dc87",
    "outputId": "04f87cc9-38ec-433b-9e84-3596029bf591"
   },
   "outputs": [
    {
     "data": {
      "text/plain": [
       "(5.4, 3, 'Manoj')"
      ]
     },
     "execution_count": 10,
     "metadata": {},
     "output_type": "execute_result"
    }
   ],
   "source": [
    "x,y,z=\"Manoj\", 3, 5.4\n",
    "z,y,x"
   ]
  },
  {
   "cell_type": "markdown",
   "id": "48e0beeb",
   "metadata": {
    "id": "48e0beeb",
    "slideshow": {
     "slide_type": "slide"
    }
   },
   "source": [
    " \n",
    "# **Standard Datatypes**\n",
    " \n",
    "Data types are the classification or categorization of data items. It represents the kind of value that tells what operations can be performed on a particular data. Since everything is an object in Python programming, data types are actually classes and variables are instance (object) of these classes.\n",
    " \n",
    "1. Number\n",
    "2. String\n",
    "3. List\n",
    "4. Tuples\n",
    "5. Dictionary"
   ]
  },
  {
   "cell_type": "code",
   "execution_count": 11,
   "id": "28133072",
   "metadata": {
    "colab": {
     "base_uri": "https://localhost:8080/"
    },
    "executionInfo": {
     "elapsed": 556,
     "status": "ok",
     "timestamp": 1628878214016,
     "user": {
      "displayName": "2048-Nikita Rane",
      "photoUrl": "https://lh3.googleusercontent.com/a-/AOh14Gg7oeRexb4EPL1etwiS2ZlaokDYXuDP8tXSbZYoS7s=s64",
      "userId": "11301291689322812470"
     },
     "user_tz": -330
    },
    "id": "28133072",
    "outputId": "7b94396d-daaf-493f-f581-bd4a70a64b0a",
    "slideshow": {
     "slide_type": "subslide"
    }
   },
   "outputs": [
    {
     "data": {
      "text/plain": [
       "(1, -2, 0)"
      ]
     },
     "execution_count": 11,
     "metadata": {},
     "output_type": "execute_result"
    }
   ],
   "source": [
    "int_1,int_2,int_3=1, -2, 0\n",
    "int_1,int_2,int_3"
   ]
  },
  {
   "cell_type": "code",
   "execution_count": 12,
   "id": "b0d8481a",
   "metadata": {
    "colab": {
     "base_uri": "https://localhost:8080/"
    },
    "executionInfo": {
     "elapsed": 642,
     "status": "ok",
     "timestamp": 1628878396398,
     "user": {
      "displayName": "2048-Nikita Rane",
      "photoUrl": "https://lh3.googleusercontent.com/a-/AOh14Gg7oeRexb4EPL1etwiS2ZlaokDYXuDP8tXSbZYoS7s=s64",
      "userId": "11301291689322812470"
     },
     "user_tz": -330
    },
    "id": "b0d8481a",
    "outputId": "119bac32-0e77-43c5-ce62-d3d6b038982c"
   },
   "outputs": [
    {
     "data": {
      "text/plain": [
       "3.1454373367"
      ]
     },
     "execution_count": 12,
     "metadata": {},
     "output_type": "execute_result"
    }
   ],
   "source": [
    "float=3.1454373367\n",
    "float"
   ]
  },
  {
   "cell_type": "code",
   "execution_count": 13,
   "id": "ed797cb7",
   "metadata": {
    "colab": {
     "base_uri": "https://localhost:8080/"
    },
    "executionInfo": {
     "elapsed": 512,
     "status": "ok",
     "timestamp": 1628878401532,
     "user": {
      "displayName": "2048-Nikita Rane",
      "photoUrl": "https://lh3.googleusercontent.com/a-/AOh14Gg7oeRexb4EPL1etwiS2ZlaokDYXuDP8tXSbZYoS7s=s64",
      "userId": "11301291689322812470"
     },
     "user_tz": -330
    },
    "id": "ed797cb7",
    "outputId": "16a66bee-25e2-432e-908e-5adb06912ec7",
    "slideshow": {
     "slide_type": "subslide"
    }
   },
   "outputs": [
    {
     "data": {
      "text/plain": [
       "3.14544"
      ]
     },
     "execution_count": 13,
     "metadata": {},
     "output_type": "execute_result"
    }
   ],
   "source": [
    "round(float,5)"
   ]
  },
  {
   "cell_type": "code",
   "execution_count": 14,
   "id": "cfcee818",
   "metadata": {
    "colab": {
     "base_uri": "https://localhost:8080/"
    },
    "executionInfo": {
     "elapsed": 641,
     "status": "ok",
     "timestamp": 1628878434725,
     "user": {
      "displayName": "2048-Nikita Rane",
      "photoUrl": "https://lh3.googleusercontent.com/a-/AOh14Gg7oeRexb4EPL1etwiS2ZlaokDYXuDP8tXSbZYoS7s=s64",
      "userId": "11301291689322812470"
     },
     "user_tz": -330
    },
    "id": "cfcee818",
    "outputId": "63309d56-0ef1-42cc-c49b-dae08d47fc66"
   },
   "outputs": [
    {
     "data": {
      "text/plain": [
       "1243243"
      ]
     },
     "execution_count": 14,
     "metadata": {},
     "output_type": "execute_result"
    }
   ],
   "source": [
    "Long=1243243  # Long Number ????\n",
    "Long"
   ]
  },
  {
   "cell_type": "code",
   "execution_count": 15,
   "id": "0c02639d",
   "metadata": {
    "colab": {
     "base_uri": "https://localhost:8080/"
    },
    "executionInfo": {
     "elapsed": 627,
     "status": "ok",
     "timestamp": 1628878362782,
     "user": {
      "displayName": "2048-Nikita Rane",
      "photoUrl": "https://lh3.googleusercontent.com/a-/AOh14Gg7oeRexb4EPL1etwiS2ZlaokDYXuDP8tXSbZYoS7s=s64",
      "userId": "11301291689322812470"
     },
     "user_tz": -330
    },
    "id": "0c02639d",
    "outputId": "68ac8ca7-d164-4440-ef4c-27b12706a69b"
   },
   "outputs": [
    {
     "data": {
      "text/plain": [
       "(-3.768+6.28j)"
      ]
     },
     "execution_count": 15,
     "metadata": {},
     "output_type": "execute_result"
    }
   ],
   "source": [
    "complex_1,complex_2=3.14j, 2+1.2j\n",
    "complex_1*complex_2"
   ]
  },
  {
   "cell_type": "markdown",
   "id": "ce589b7d",
   "metadata": {
    "id": "ce589b7d",
    "slideshow": {
     "slide_type": "slide"
    }
   },
   "source": [
    "### **String**\n",
    "\n",
    "Strings in python are surrounded by either single quotation marks, or double quotation marks."
   ]
  },
  {
   "cell_type": "code",
   "execution_count": 45,
   "id": "49959f07",
   "metadata": {
    "colab": {
     "base_uri": "https://localhost:8080/",
     "height": 35
    },
    "executionInfo": {
     "elapsed": 588,
     "status": "ok",
     "timestamp": 1628878513600,
     "user": {
      "displayName": "2048-Nikita Rane",
      "photoUrl": "https://lh3.googleusercontent.com/a-/AOh14Gg7oeRexb4EPL1etwiS2ZlaokDYXuDP8tXSbZYoS7s=s64",
      "userId": "11301291689322812470"
     },
     "user_tz": -330
    },
    "id": "49959f07",
    "outputId": "eb49ae08-c6a8-442f-8382-23b80fc58ffc"
   },
   "outputs": [
    {
     "data": {
      "application/vnd.google.colaboratory.intrinsic+json": {
       "type": "string"
      },
      "text/plain": [
       "'0123456789'"
      ]
     },
     "execution_count": 45,
     "metadata": {
      "tags": []
     },
     "output_type": "execute_result"
    }
   ],
   "source": [
    "str=\"0123456789\"\n",
    "str"
   ]
  },
  {
   "cell_type": "code",
   "execution_count": 46,
   "id": "8b4bc7d9",
   "metadata": {
    "colab": {
     "base_uri": "https://localhost:8080/"
    },
    "executionInfo": {
     "elapsed": 21,
     "status": "ok",
     "timestamp": 1628878514327,
     "user": {
      "displayName": "2048-Nikita Rane",
      "photoUrl": "https://lh3.googleusercontent.com/a-/AOh14Gg7oeRexb4EPL1etwiS2ZlaokDYXuDP8tXSbZYoS7s=s64",
      "userId": "11301291689322812470"
     },
     "user_tz": -330
    },
    "id": "8b4bc7d9",
    "outputId": "26f8bbac-dff4-4c57-c30d-b7e3c4dc27fc",
    "slideshow": {
     "slide_type": "fragment"
    }
   },
   "outputs": [
    {
     "name": "stdout",
     "output_type": "stream",
     "text": [
      "0123456789\n",
      "0\n",
      "012\n",
      "56789\n",
      "6\n"
     ]
    }
   ],
   "source": [
    "### indexing and Slicing\n",
    "print(str)\n",
    "print(str[0])\n",
    "print(str[0:3])\n",
    "print(str[5:])\n",
    "print(str[-4])"
   ]
  },
  {
   "cell_type": "code",
   "execution_count": 47,
   "id": "f078200c",
   "metadata": {
    "colab": {
     "base_uri": "https://localhost:8080/",
     "height": 35
    },
    "executionInfo": {
     "elapsed": 689,
     "status": "ok",
     "timestamp": 1628878518337,
     "user": {
      "displayName": "2048-Nikita Rane",
      "photoUrl": "https://lh3.googleusercontent.com/a-/AOh14Gg7oeRexb4EPL1etwiS2ZlaokDYXuDP8tXSbZYoS7s=s64",
      "userId": "11301291689322812470"
     },
     "user_tz": -330
    },
    "id": "f078200c",
    "outputId": "101e0499-9aba-4c78-c9d6-8ec4326d0ac9"
   },
   "outputs": [
    {
     "data": {
      "application/vnd.google.colaboratory.intrinsic+json": {
       "type": "string"
      },
      "text/plain": [
       "'Hello Hello '"
      ]
     },
     "execution_count": 47,
     "metadata": {
      "tags": []
     },
     "output_type": "execute_result"
    }
   ],
   "source": [
    "str=\"Hello \"\n",
    "str*2"
   ]
  },
  {
   "cell_type": "code",
   "execution_count": 48,
   "id": "8e54b64f",
   "metadata": {
    "colab": {
     "base_uri": "https://localhost:8080/",
     "height": 35
    },
    "executionInfo": {
     "elapsed": 34,
     "status": "ok",
     "timestamp": 1628878520137,
     "user": {
      "displayName": "2048-Nikita Rane",
      "photoUrl": "https://lh3.googleusercontent.com/a-/AOh14Gg7oeRexb4EPL1etwiS2ZlaokDYXuDP8tXSbZYoS7s=s64",
      "userId": "11301291689322812470"
     },
     "user_tz": -330
    },
    "id": "8e54b64f",
    "outputId": "34abb381-7e3f-424f-94b9-cebbcab548c6"
   },
   "outputs": [
    {
     "data": {
      "application/vnd.google.colaboratory.intrinsic+json": {
       "type": "string"
      },
      "text/plain": [
       "'Hello ghjj'"
      ]
     },
     "execution_count": 48,
     "metadata": {
      "tags": []
     },
     "output_type": "execute_result"
    }
   ],
   "source": [
    "str+\"ghjj\""
   ]
  },
  {
   "cell_type": "markdown",
   "id": "047a0c80",
   "metadata": {
    "id": "047a0c80",
    "slideshow": {
     "slide_type": "slide"
    }
   },
   "source": [
    "### **Lists**\n",
    "\n",
    "The list is a most versatile datatype available in Python which can be written as a list of comma-separated values (items) between square brackets. Important thing about a list is that items in a list need not be of the same type.\n",
    "Creating a list is as simple as putting different comma-separated values between square brackets."
   ]
  },
  {
   "cell_type": "code",
   "execution_count": 16,
   "id": "3ef187a3",
   "metadata": {
    "colab": {
     "base_uri": "https://localhost:8080/"
    },
    "executionInfo": {
     "elapsed": 921,
     "status": "ok",
     "timestamp": 1628878224660,
     "user": {
      "displayName": "2048-Nikita Rane",
      "photoUrl": "https://lh3.googleusercontent.com/a-/AOh14Gg7oeRexb4EPL1etwiS2ZlaokDYXuDP8tXSbZYoS7s=s64",
      "userId": "11301291689322812470"
     },
     "user_tz": -330
    },
    "id": "3ef187a3",
    "outputId": "2917aea8-ceec-48d7-d9e3-a865ccfbc928",
    "slideshow": {
     "slide_type": "subslide"
    }
   },
   "outputs": [
    {
     "data": {
      "text/plain": [
       "['Manoj', 816, 2009, 'Asst Prof']"
      ]
     },
     "execution_count": 16,
     "metadata": {
      "tags": []
     },
     "output_type": "execute_result"
    }
   ],
   "source": [
    "list=[\"Manoj\",816,2009,\"Asst Prof\"]\n",
    "list"
   ]
  },
  {
   "cell_type": "code",
   "execution_count": 17,
   "id": "eb0e4bc0",
   "metadata": {
    "colab": {
     "base_uri": "https://localhost:8080/"
    },
    "executionInfo": {
     "elapsed": 67,
     "status": "ok",
     "timestamp": 1628878224665,
     "user": {
      "displayName": "2048-Nikita Rane",
      "photoUrl": "https://lh3.googleusercontent.com/a-/AOh14Gg7oeRexb4EPL1etwiS2ZlaokDYXuDP8tXSbZYoS7s=s64",
      "userId": "11301291689322812470"
     },
     "user_tz": -330
    },
    "id": "eb0e4bc0",
    "outputId": "a20a86ce-7b62-4e34-bbff-f1783fec9a18"
   },
   "outputs": [
    {
     "data": {
      "text/plain": [
       "[['Manoj', 816, 2009, 'Asst Prof'], 23.6]"
      ]
     },
     "execution_count": 17,
     "metadata": {
      "tags": []
     },
     "output_type": "execute_result"
    }
   ],
   "source": [
    "list2=[list, 23.6]\n",
    "list2"
   ]
  },
  {
   "cell_type": "code",
   "execution_count": 18,
   "id": "d53ffc2e",
   "metadata": {
    "colab": {
     "base_uri": "https://localhost:8080/"
    },
    "executionInfo": {
     "elapsed": 61,
     "status": "ok",
     "timestamp": 1628878224670,
     "user": {
      "displayName": "2048-Nikita Rane",
      "photoUrl": "https://lh3.googleusercontent.com/a-/AOh14Gg7oeRexb4EPL1etwiS2ZlaokDYXuDP8tXSbZYoS7s=s64",
      "userId": "11301291689322812470"
     },
     "user_tz": -330
    },
    "id": "d53ffc2e",
    "outputId": "7279f0ae-8d7a-492c-f728-2ff12d230127"
   },
   "outputs": [
    {
     "data": {
      "text/plain": [
       "2009"
      ]
     },
     "execution_count": 18,
     "metadata": {
      "tags": []
     },
     "output_type": "execute_result"
    }
   ],
   "source": [
    "list[-2]"
   ]
  },
  {
   "cell_type": "code",
   "execution_count": 19,
   "id": "ca12944e",
   "metadata": {
    "colab": {
     "base_uri": "https://localhost:8080/"
    },
    "executionInfo": {
     "elapsed": 57,
     "status": "ok",
     "timestamp": 1628878224675,
     "user": {
      "displayName": "2048-Nikita Rane",
      "photoUrl": "https://lh3.googleusercontent.com/a-/AOh14Gg7oeRexb4EPL1etwiS2ZlaokDYXuDP8tXSbZYoS7s=s64",
      "userId": "11301291689322812470"
     },
     "user_tz": -330
    },
    "id": "ca12944e",
    "outputId": "4bdc8148-ec96-4f2f-d591-368a2eae25ff",
    "slideshow": {
     "slide_type": "fragment"
    }
   },
   "outputs": [
    {
     "data": {
      "text/plain": [
       "['Manoj',\n",
       " 816,\n",
       " 2009,\n",
       " 'Asst Prof',\n",
       " 'Manoj',\n",
       " 816,\n",
       " 2009,\n",
       " 'Asst Prof',\n",
       " 'Manoj',\n",
       " 816,\n",
       " 2009,\n",
       " 'Asst Prof']"
      ]
     },
     "execution_count": 19,
     "metadata": {
      "tags": []
     },
     "output_type": "execute_result"
    }
   ],
   "source": [
    "list*3"
   ]
  },
  {
   "cell_type": "code",
   "execution_count": 20,
   "id": "8c728d2c",
   "metadata": {
    "colab": {
     "base_uri": "https://localhost:8080/"
    },
    "executionInfo": {
     "elapsed": 51,
     "status": "ok",
     "timestamp": 1628878224679,
     "user": {
      "displayName": "2048-Nikita Rane",
      "photoUrl": "https://lh3.googleusercontent.com/a-/AOh14Gg7oeRexb4EPL1etwiS2ZlaokDYXuDP8tXSbZYoS7s=s64",
      "userId": "11301291689322812470"
     },
     "user_tz": -330
    },
    "id": "8c728d2c",
    "outputId": "ab0ae295-beff-445b-af29-8007d6207d7b",
    "slideshow": {
     "slide_type": "fragment"
    }
   },
   "outputs": [
    {
     "data": {
      "text/plain": [
       "['Manoj', 816, 2009, 'Asst Prof', 'Manoj', 816, 2009, 'Asst Prof']"
      ]
     },
     "execution_count": 20,
     "metadata": {
      "tags": []
     },
     "output_type": "execute_result"
    }
   ],
   "source": [
    "list+list"
   ]
  },
  {
   "cell_type": "code",
   "execution_count": 21,
   "id": "5039010d",
   "metadata": {
    "colab": {
     "base_uri": "https://localhost:8080/"
    },
    "executionInfo": {
     "elapsed": 47,
     "status": "ok",
     "timestamp": 1628878224683,
     "user": {
      "displayName": "2048-Nikita Rane",
      "photoUrl": "https://lh3.googleusercontent.com/a-/AOh14Gg7oeRexb4EPL1etwiS2ZlaokDYXuDP8tXSbZYoS7s=s64",
      "userId": "11301291689322812470"
     },
     "user_tz": -330
    },
    "id": "5039010d",
    "outputId": "1a4bc6d2-e24c-4cbb-e2b0-9c166c3c2af0"
   },
   "outputs": [
    {
     "data": {
      "text/plain": [
       "['Rajaa', 816, 2009, 'Asst Prof']"
      ]
     },
     "execution_count": 21,
     "metadata": {
      "tags": []
     },
     "output_type": "execute_result"
    }
   ],
   "source": [
    "list\n",
    "list[0]=\"Rajaa\"\n",
    "list"
   ]
  },
  {
   "cell_type": "markdown",
   "id": "27ef488a",
   "metadata": {
    "id": "27ef488a",
    "slideshow": {
     "slide_type": "slide"
    }
   },
   "source": [
    "### **Tuples**\n",
    " \n",
    "A tuple is a collection of objects which ordered and immutable. Tuples are sequences, just like lists. The differences between tuples and lists are, the tuples cannot be changed unlike lists and tuples use parentheses, whereas lists use square brackets.\n",
    "Creating a tuple is as simple as putting different comma-separated values. Optionally you can put these comma-separated values between parentheses also."
   ]
  },
  {
   "cell_type": "code",
   "execution_count": 22,
   "id": "cc226524",
   "metadata": {
    "colab": {
     "base_uri": "https://localhost:8080/"
    },
    "executionInfo": {
     "elapsed": 58,
     "status": "ok",
     "timestamp": 1628878226518,
     "user": {
      "displayName": "2048-Nikita Rane",
      "photoUrl": "https://lh3.googleusercontent.com/a-/AOh14Gg7oeRexb4EPL1etwiS2ZlaokDYXuDP8tXSbZYoS7s=s64",
      "userId": "11301291689322812470"
     },
     "user_tz": -330
    },
    "id": "cc226524",
    "outputId": "e4ed3162-4ffb-4dfe-fde4-913ec94d0443"
   },
   "outputs": [
    {
     "data": {
      "text/plain": [
       "('Manoj', 23, 1.2)"
      ]
     },
     "execution_count": 22,
     "metadata": {
      "tags": []
     },
     "output_type": "execute_result"
    }
   ],
   "source": [
    "tuple1=('Manoj',23,1.2)\n",
    "tuple1"
   ]
  },
  {
   "cell_type": "markdown",
   "id": "ac6c4ec7",
   "metadata": {
    "id": "ac6c4ec7"
   },
   "source": [
    "### **Dictionary**\n",
    "\n",
    "Each key is separated from its value by a colon (:), the items are separated by commas, and the whole thing is enclosed in curly braces. An empty dictionary without any items is written with just two curly braces, like this: {}.\n",
    "Keys are unique within a dictionary while values may not be. The values of a dictionary can be of any type, but the keys must be of an immutable data type such as strings, numbers, or tuples."
   ]
  },
  {
   "cell_type": "code",
   "execution_count": 25,
   "id": "a4c815d4",
   "metadata": {
    "colab": {
     "base_uri": "https://localhost:8080/"
    },
    "executionInfo": {
     "elapsed": 575,
     "status": "ok",
     "timestamp": 1628878253619,
     "user": {
      "displayName": "2048-Nikita Rane",
      "photoUrl": "https://lh3.googleusercontent.com/a-/AOh14Gg7oeRexb4EPL1etwiS2ZlaokDYXuDP8tXSbZYoS7s=s64",
      "userId": "11301291689322812470"
     },
     "user_tz": -330
    },
    "id": "a4c815d4",
    "outputId": "c006bd99-3951-46d9-8757-bda39036a2cb",
    "slideshow": {
     "slide_type": "subslide"
    }
   },
   "outputs": [
    {
     "data": {
      "text/plain": [
       "{'Age': 35, 'Edu': 'Stats', 'name': 'Manoj'}"
      ]
     },
     "execution_count": 25,
     "metadata": {
      "tags": []
     },
     "output_type": "execute_result"
    }
   ],
   "source": [
    "dict1={'name':\"Manoj\",'Age':35,\"Edu\":\"Stats\"}\n",
    "dict1"
   ]
  },
  {
   "cell_type": "code",
   "execution_count": 26,
   "id": "d50c2fb8",
   "metadata": {
    "colab": {
     "base_uri": "https://localhost:8080/",
     "height": 35
    },
    "executionInfo": {
     "elapsed": 78,
     "status": "ok",
     "timestamp": 1628878254687,
     "user": {
      "displayName": "2048-Nikita Rane",
      "photoUrl": "https://lh3.googleusercontent.com/a-/AOh14Gg7oeRexb4EPL1etwiS2ZlaokDYXuDP8tXSbZYoS7s=s64",
      "userId": "11301291689322812470"
     },
     "user_tz": -330
    },
    "id": "d50c2fb8",
    "outputId": "994c09a7-61ae-4596-85a2-ba8e9bcb99de"
   },
   "outputs": [
    {
     "data": {
      "application/vnd.google.colaboratory.intrinsic+json": {
       "type": "string"
      },
      "text/plain": [
       "'Manoj'"
      ]
     },
     "execution_count": 26,
     "metadata": {
      "tags": []
     },
     "output_type": "execute_result"
    }
   ],
   "source": [
    "dict1['name']"
   ]
  },
  {
   "cell_type": "code",
   "execution_count": 31,
   "id": "ed615d78",
   "metadata": {
    "colab": {
     "base_uri": "https://localhost:8080/"
    },
    "executionInfo": {
     "elapsed": 448,
     "status": "ok",
     "timestamp": 1628878325451,
     "user": {
      "displayName": "2048-Nikita Rane",
      "photoUrl": "https://lh3.googleusercontent.com/a-/AOh14Gg7oeRexb4EPL1etwiS2ZlaokDYXuDP8tXSbZYoS7s=s64",
      "userId": "11301291689322812470"
     },
     "user_tz": -330
    },
    "id": "ed615d78",
    "outputId": "58b983b9-402e-464e-d456-da3133dffc4c",
    "slideshow": {
     "slide_type": "fragment"
    }
   },
   "outputs": [
    {
     "data": {
      "text/plain": [
       "['Manoj', 35, 'stat']"
      ]
     },
     "execution_count": 31,
     "metadata": {
      "tags": []
     },
     "output_type": "execute_result"
    }
   ],
   "source": [
    "list1=[\"Manoj\",35,'stat']\n",
    "list1"
   ]
  },
  {
   "cell_type": "code",
   "execution_count": 32,
   "id": "07cd091d",
   "metadata": {
    "colab": {
     "base_uri": "https://localhost:8080/"
    },
    "executionInfo": {
     "elapsed": 586,
     "status": "ok",
     "timestamp": 1628878332425,
     "user": {
      "displayName": "2048-Nikita Rane",
      "photoUrl": "https://lh3.googleusercontent.com/a-/AOh14Gg7oeRexb4EPL1etwiS2ZlaokDYXuDP8tXSbZYoS7s=s64",
      "userId": "11301291689322812470"
     },
     "user_tz": -330
    },
    "id": "07cd091d",
    "outputId": "e110c277-dcf0-4a3c-ce4f-a68529168980"
   },
   "outputs": [
    {
     "data": {
      "text/plain": [
       "[3, 1, 2, 2, 4, 2, 3]"
      ]
     },
     "execution_count": 32,
     "metadata": {
      "tags": []
     },
     "output_type": "execute_result"
    }
   ],
   "source": [
    "list2=[3,1,2]\n",
    "list2+=[2,4,2,3]\n",
    "list2"
   ]
  },
  {
   "cell_type": "code",
   "execution_count": 33,
   "id": "0aece4e5",
   "metadata": {
    "executionInfo": {
     "elapsed": 580,
     "status": "ok",
     "timestamp": 1628878336306,
     "user": {
      "displayName": "2048-Nikita Rane",
      "photoUrl": "https://lh3.googleusercontent.com/a-/AOh14Gg7oeRexb4EPL1etwiS2ZlaokDYXuDP8tXSbZYoS7s=s64",
      "userId": "11301291689322812470"
     },
     "user_tz": -330
    },
    "id": "0aece4e5",
    "slideshow": {
     "slide_type": "fragment"
    }
   },
   "outputs": [],
   "source": [
    "set1=set(list2)"
   ]
  },
  {
   "cell_type": "code",
   "execution_count": 34,
   "id": "fe56c2fa",
   "metadata": {
    "colab": {
     "base_uri": "https://localhost:8080/"
    },
    "executionInfo": {
     "elapsed": 841,
     "status": "ok",
     "timestamp": 1628878339108,
     "user": {
      "displayName": "2048-Nikita Rane",
      "photoUrl": "https://lh3.googleusercontent.com/a-/AOh14Gg7oeRexb4EPL1etwiS2ZlaokDYXuDP8tXSbZYoS7s=s64",
      "userId": "11301291689322812470"
     },
     "user_tz": -330
    },
    "id": "fe56c2fa",
    "outputId": "cfdee8ad-52d6-48e9-90f4-ef1074ba6bb8"
   },
   "outputs": [
    {
     "data": {
      "text/plain": [
       "{1, 2, 3, 4}"
      ]
     },
     "execution_count": 34,
     "metadata": {
      "tags": []
     },
     "output_type": "execute_result"
    }
   ],
   "source": [
    "set1"
   ]
  },
  {
   "cell_type": "markdown",
   "id": "ZAXo2976wKA1",
   "metadata": {
    "id": "ZAXo2976wKA1",
    "slideshow": {
     "slide_type": "slide"
    }
   },
   "source": [
    "# **Operators**\n",
    " \n",
    "Operators are used to perform operations on variables and values.\n",
    "\n",
    "## **Assignment**\n",
    "=\n",
    " \n",
    "-=\n",
    " \n",
    "+=\n",
    " \n",
    "*=\n",
    " \n",
    "/=\n",
    " \n",
    "//=\n",
    " \n",
    "%=\n",
    " \n",
    "**="
   ]
  },
  {
   "cell_type": "code",
   "execution_count": 59,
   "id": "7ed70683",
   "metadata": {
    "colab": {
     "base_uri": "https://localhost:8080/"
    },
    "executionInfo": {
     "elapsed": 464,
     "status": "ok",
     "timestamp": 1628879775163,
     "user": {
      "displayName": "2048-Nikita Rane",
      "photoUrl": "https://lh3.googleusercontent.com/a-/AOh14Gg7oeRexb4EPL1etwiS2ZlaokDYXuDP8tXSbZYoS7s=s64",
      "userId": "11301291689322812470"
     },
     "user_tz": -330
    },
    "id": "7ed70683",
    "outputId": "30efbe14-01cd-43a6-b991-ab496b66451e",
    "slideshow": {
     "slide_type": "subslide"
    }
   },
   "outputs": [
    {
     "data": {
      "text/plain": [
       "2"
      ]
     },
     "execution_count": 59,
     "metadata": {
      "tags": []
     },
     "output_type": "execute_result"
    }
   ],
   "source": [
    "x,y=2,3\n",
    "x"
   ]
  },
  {
   "cell_type": "code",
   "execution_count": 49,
   "id": "769eea8b",
   "metadata": {
    "colab": {
     "base_uri": "https://localhost:8080/"
    },
    "executionInfo": {
     "elapsed": 853,
     "status": "ok",
     "timestamp": 1628879526792,
     "user": {
      "displayName": "2048-Nikita Rane",
      "photoUrl": "https://lh3.googleusercontent.com/a-/AOh14Gg7oeRexb4EPL1etwiS2ZlaokDYXuDP8tXSbZYoS7s=s64",
      "userId": "11301291689322812470"
     },
     "user_tz": -330
    },
    "id": "769eea8b",
    "outputId": "1a03537b-f53b-498c-e226-61b47dd4c6a6"
   },
   "outputs": [
    {
     "data": {
      "text/plain": [
       "3"
      ]
     },
     "execution_count": 49,
     "metadata": {
      "tags": []
     },
     "output_type": "execute_result"
    }
   ],
   "source": [
    "y"
   ]
  },
  {
   "cell_type": "markdown",
   "id": "b1f344e3",
   "metadata": {
    "id": "b1f344e3",
    "slideshow": {
     "slide_type": "slide"
    }
   },
   "source": [
    "## **Arithmatic**\n",
    "+\n",
    " \n",
    "-\n",
    " \n",
    "*\n",
    " \n",
    "/\n",
    " \n",
    "%\n",
    " \n",
    "//\n",
    " \n",
    "**"
   ]
  },
  {
   "cell_type": "code",
   "execution_count": 58,
   "id": "b0342211",
   "metadata": {
    "colab": {
     "base_uri": "https://localhost:8080/"
    },
    "executionInfo": {
     "elapsed": 453,
     "status": "ok",
     "timestamp": 1628879757473,
     "user": {
      "displayName": "2048-Nikita Rane",
      "photoUrl": "https://lh3.googleusercontent.com/a-/AOh14Gg7oeRexb4EPL1etwiS2ZlaokDYXuDP8tXSbZYoS7s=s64",
      "userId": "11301291689322812470"
     },
     "user_tz": -330
    },
    "id": "b0342211",
    "outputId": "ad6dc39c-6ded-4a74-9e7c-d89fad1689f7",
    "slideshow": {
     "slide_type": "subslide"
    }
   },
   "outputs": [
    {
     "data": {
      "text/plain": [
       "8"
      ]
     },
     "execution_count": 58,
     "metadata": {
      "tags": []
     },
     "output_type": "execute_result"
    }
   ],
   "source": [
    "x**y"
   ]
  },
  {
   "cell_type": "code",
   "execution_count": 60,
   "id": "e47564b6",
   "metadata": {
    "colab": {
     "base_uri": "https://localhost:8080/"
    },
    "executionInfo": {
     "elapsed": 465,
     "status": "ok",
     "timestamp": 1628879791403,
     "user": {
      "displayName": "2048-Nikita Rane",
      "photoUrl": "https://lh3.googleusercontent.com/a-/AOh14Gg7oeRexb4EPL1etwiS2ZlaokDYXuDP8tXSbZYoS7s=s64",
      "userId": "11301291689322812470"
     },
     "user_tz": -330
    },
    "id": "e47564b6",
    "outputId": "d06a4f2f-2eb7-4027-b5ab-daa6caca96b4"
   },
   "outputs": [
    {
     "data": {
      "text/plain": [
       "1"
      ]
     },
     "execution_count": 60,
     "metadata": {
      "tags": []
     },
     "output_type": "execute_result"
    }
   ],
   "source": [
    "y%x"
   ]
  },
  {
   "cell_type": "code",
   "execution_count": 61,
   "id": "45483b8e",
   "metadata": {
    "colab": {
     "base_uri": "https://localhost:8080/"
    },
    "executionInfo": {
     "elapsed": 1112,
     "status": "ok",
     "timestamp": 1628879798629,
     "user": {
      "displayName": "2048-Nikita Rane",
      "photoUrl": "https://lh3.googleusercontent.com/a-/AOh14Gg7oeRexb4EPL1etwiS2ZlaokDYXuDP8tXSbZYoS7s=s64",
      "userId": "11301291689322812470"
     },
     "user_tz": -330
    },
    "id": "45483b8e",
    "outputId": "2bdce758-b592-4af7-8a5c-658e4882a346",
    "slideshow": {
     "slide_type": "fragment"
    }
   },
   "outputs": [
    {
     "data": {
      "text/plain": [
       "1.5"
      ]
     },
     "execution_count": 61,
     "metadata": {
      "tags": []
     },
     "output_type": "execute_result"
    }
   ],
   "source": [
    "y/x"
   ]
  },
  {
   "cell_type": "code",
   "execution_count": 62,
   "id": "fdd3d288",
   "metadata": {
    "colab": {
     "base_uri": "https://localhost:8080/"
    },
    "executionInfo": {
     "elapsed": 23,
     "status": "ok",
     "timestamp": 1628879801022,
     "user": {
      "displayName": "2048-Nikita Rane",
      "photoUrl": "https://lh3.googleusercontent.com/a-/AOh14Gg7oeRexb4EPL1etwiS2ZlaokDYXuDP8tXSbZYoS7s=s64",
      "userId": "11301291689322812470"
     },
     "user_tz": -330
    },
    "id": "fdd3d288",
    "outputId": "9ba75436-4e1d-497b-9795-8d99f5247964"
   },
   "outputs": [
    {
     "data": {
      "text/plain": [
       "1"
      ]
     },
     "execution_count": 62,
     "metadata": {
      "tags": []
     },
     "output_type": "execute_result"
    }
   ],
   "source": [
    "y//x"
   ]
  },
  {
   "cell_type": "markdown",
   "id": "yU-snYnBweXy",
   "metadata": {
    "id": "yU-snYnBweXy",
    "slideshow": {
     "slide_type": "slide"
    }
   },
   "source": [
    "## **Comparison**\n",
    "\n",
    "<\n",
    "\n",
    "'>'\n",
    "\n",
    "==\n",
    "\n",
    "!=\n",
    "\n",
    "<=\n",
    "\n",
    "'>='"
   ]
  },
  {
   "cell_type": "code",
   "execution_count": 54,
   "id": "5b95e7a3",
   "metadata": {
    "colab": {
     "base_uri": "https://localhost:8080/"
    },
    "executionInfo": {
     "elapsed": 847,
     "status": "ok",
     "timestamp": 1628879590688,
     "user": {
      "displayName": "2048-Nikita Rane",
      "photoUrl": "https://lh3.googleusercontent.com/a-/AOh14Gg7oeRexb4EPL1etwiS2ZlaokDYXuDP8tXSbZYoS7s=s64",
      "userId": "11301291689322812470"
     },
     "user_tz": -330
    },
    "id": "5b95e7a3",
    "outputId": "566e1f2f-e028-4d9e-cb3a-f97b9952cd51",
    "slideshow": {
     "slide_type": "subslide"
    }
   },
   "outputs": [
    {
     "data": {
      "text/plain": [
       "False"
      ]
     },
     "execution_count": 54,
     "metadata": {
      "tags": []
     },
     "output_type": "execute_result"
    }
   ],
   "source": [
    "x==y"
   ]
  },
  {
   "cell_type": "markdown",
   "id": "vzjqQY3GxQmp",
   "metadata": {
    "id": "vzjqQY3GxQmp",
    "slideshow": {
     "slide_type": "slide"
    }
   },
   "source": [
    "## **Boolean**\n",
    " \n",
    "& \n",
    " \n",
    "|\n",
    " \n",
    "^\n",
    " \n",
    "~"
   ]
  },
  {
   "cell_type": "markdown",
   "id": "RZwW6Bz8xAVT",
   "metadata": {
    "id": "RZwW6Bz8xAVT",
    "slideshow": {
     "slide_type": "slide"
    }
   },
   "source": [
    "## **Logical and &&**\n",
    "or    |\n",
    " \n",
    "not   !"
   ]
  },
  {
   "cell_type": "code",
   "execution_count": 51,
   "id": "5081a7af",
   "metadata": {
    "colab": {
     "base_uri": "https://localhost:8080/"
    },
    "executionInfo": {
     "elapsed": 779,
     "status": "ok",
     "timestamp": 1628879542385,
     "user": {
      "displayName": "2048-Nikita Rane",
      "photoUrl": "https://lh3.googleusercontent.com/a-/AOh14Gg7oeRexb4EPL1etwiS2ZlaokDYXuDP8tXSbZYoS7s=s64",
      "userId": "11301291689322812470"
     },
     "user_tz": -330
    },
    "id": "5081a7af",
    "outputId": "0abf02c5-487d-4a26-fc5f-1a4f2fb76d0a"
   },
   "outputs": [
    {
     "data": {
      "text/plain": [
       "True"
      ]
     },
     "execution_count": 51,
     "metadata": {
      "tags": []
     },
     "output_type": "execute_result"
    }
   ],
   "source": [
    "x!=y"
   ]
  },
  {
   "cell_type": "markdown",
   "id": "5a4b08df",
   "metadata": {
    "id": "5a4b08df",
    "slideshow": {
     "slide_type": "slide"
    }
   },
   "source": [
    "# **Some Functions**\n",
    " \n",
    "Functions is the biggest advantage of Python.\n",
    "\n",
    "Python functions work very simply. You call the function and specify the required arguments, then it will return the results."
   ]
  },
  {
   "cell_type": "code",
   "execution_count": null,
   "id": "6a9e065b",
   "metadata": {
    "id": "6a9e065b",
    "slideshow": {
     "slide_type": "subslide"
    }
   },
   "outputs": [],
   "source": [
    "x=-34.563529645\n",
    "abs(x)"
   ]
  },
  {
   "cell_type": "code",
   "execution_count": null,
   "id": "5e07ab5d",
   "metadata": {
    "id": "5e07ab5d"
   },
   "outputs": [],
   "source": [
    "import numpy \n",
    "y=5.6\n",
    "numpy.ceil(y)"
   ]
  },
  {
   "cell_type": "code",
   "execution_count": null,
   "id": "8a5d3735",
   "metadata": {
    "id": "8a5d3735",
    "outputId": "99964907-c033-45f6-c2a0-32df32f79958"
   },
   "outputs": [
    {
     "data": {
      "text/plain": [
       "49.0"
      ]
     },
     "execution_count": 5,
     "metadata": {
      "tags": []
     },
     "output_type": "execute_result"
    }
   ],
   "source": [
    "import numpy as np\n",
    "x=48.6\n",
    "np.ceil(x)"
   ]
  },
  {
   "cell_type": "code",
   "execution_count": 1,
   "id": "93993f30",
   "metadata": {
    "id": "93993f30",
    "slideshow": {
     "slide_type": "fragment"
    }
   },
   "outputs": [
    {
     "ename": "NameError",
     "evalue": "name 'np' is not defined",
     "output_type": "error",
     "traceback": [
      "\u001b[0;31m---------------------------------------------------------------------------\u001b[0m",
      "\u001b[0;31mNameError\u001b[0m                                 Traceback (most recent call last)",
      "\u001b[0;32m/data/user/0/ru.iiec.pydroid3/cache/ipykernel_9335/4170561548.py\u001b[0m in \u001b[0;36m<module>\u001b[0;34m\u001b[0m\n\u001b[0;32m----> 1\u001b[0;31m \u001b[0mnp\u001b[0m\u001b[0;34m.\u001b[0m\u001b[0mexp\u001b[0m\u001b[0;34m(\u001b[0m\u001b[0;36m3\u001b[0m\u001b[0;34m)\u001b[0m\u001b[0;34m\u001b[0m\u001b[0;34m\u001b[0m\u001b[0m\n\u001b[0m",
      "\u001b[0;31mNameError\u001b[0m: name 'np' is not defined"
     ]
    }
   ],
   "source": [
    "np.exp(3)"
   ]
  },
  {
   "cell_type": "code",
   "execution_count": null,
   "id": "ecf8f712",
   "metadata": {
    "id": "ecf8f712"
   },
   "outputs": [],
   "source": [
    "#from numpy import *\n",
    "from numpy import exp"
   ]
  },
  {
   "cell_type": "code",
   "execution_count": null,
   "id": "14fdf382",
   "metadata": {
    "id": "14fdf382",
    "outputId": "372fead2-41c2-4a5e-e040-3432e1a1abca"
   },
   "outputs": [
    {
     "data": {
      "text/plain": [
       "20.085536923187668"
      ]
     },
     "execution_count": 2,
     "metadata": {
      "tags": []
     },
     "output_type": "execute_result"
    }
   ],
   "source": [
    "exp(3)"
   ]
  },
  {
   "cell_type": "code",
   "execution_count": null,
   "id": "b824a153",
   "metadata": {
    "id": "b824a153",
    "outputId": "fd3d24dd-3c4e-4dad-f157-5d64caa3dbbd"
   },
   "outputs": [
    {
     "data": {
      "text/plain": [
       "35.0"
      ]
     },
     "execution_count": 6,
     "metadata": {
      "tags": []
     },
     "output_type": "execute_result"
    }
   ],
   "source": [
    "np.ceil(34.5)"
   ]
  }
 ],
 "metadata": {
  "celltoolbar": "Slideshow",
  "colab": {
   "collapsed_sections": [],
   "name": "Copy of Activity (Group 13).ipynb",
   "provenance": [
    {
     "file_id": "1vUiweJjfh93NoJJpdKwvM4qsVc9VCdMd",
     "timestamp": 1628880077775
    },
    {
     "file_id": "https://github.com/manojcpatil/Linear-Algebra/blob/main/Activity%2003/Group%2013-01.ipynb",
     "timestamp": 1628856616425
    }
   ]
  },
  "kernelspec": {
   "display_name": "Python 3 (ipykernel)",
   "language": "python",
   "name": "python3"
  },
  "language_info": {
   "codemirror_mode": {
    "name": "ipython",
    "version": 3
   },
   "file_extension": ".py",
   "mimetype": "text/x-python",
   "name": "python",
   "nbconvert_exporter": "python",
   "pygments_lexer": "ipython3",
   "version": "3.8.3"
  }
 },
 "nbformat": 4,
 "nbformat_minor": 5
}
