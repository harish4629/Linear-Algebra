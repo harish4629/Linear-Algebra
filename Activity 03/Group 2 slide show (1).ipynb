{
 "cells": [
  {
   "cell_type": "markdown",
   "id": "4febc928",
   "metadata": {
    "slideshow": {
     "slide_type": "slide"
    }
   },
   "source": [
    "# What Is Object-Oriented Programming in Python?\n",
    "\n",
    "Object-oriented programming is a programming paradigm that provides a means of structuring programs so that properties and behaviors are bundled into individual objects.\n",
    "For instance, an object could represent a person with properties like a name, age, and address and behaviors such as walking, talking, breathing, and running. Or it could represent an email with properties like a recipient list, subject, and body and behaviors like adding attachments and sending."
   ]
  },
  {
   "cell_type": "markdown",
   "id": "f079db7d",
   "metadata": {
    "slideshow": {
     "slide_type": "subslide"
    }
   },
   "source": [
    "Another common programming paradigm is procedural programming, which structures a program like a recipe in that it provides a set of steps, in the form of functions and code blocks, that flow sequentially in order to complete a task.\n",
    "\n",
    "The key takeaway is that objects are at the center of object-oriented programming in Python, not only representing the data, as in procedural programming, but in the overall structure of the program as well."
   ]
  },
  {
   "cell_type": "markdown",
   "id": "5de5e117",
   "metadata": {
    "slideshow": {
     "slide_type": "slide"
    }
   },
   "source": [
    "# Define a Class in Python\n",
    "\n",
    "Primitive data structures—like numbers, strings, and lists—are designed to represent simple pieces of information, such as the cost of an apple, the name of a poem, or your favorite colors, respectively. What if you want to represent something more complex?"
   ]
  },
  {
   "cell_type": "code",
   "execution_count": 5,
   "id": "31b6bb06",
   "metadata": {
    "slideshow": {
     "slide_type": "slide"
    }
   },
   "outputs": [
    {
     "name": "stdout",
     "output_type": "stream",
     "text": [
      "1\n",
      "Object Created\n"
     ]
    }
   ],
   "source": [
    "Stud1=[\"Ashwini\",21,\"MSc-I\",\"2001-01-01\",84,45,57]\n",
    "Stud2=[\"Rashmi\",22,\"MSc-I\",\"2000-01-01\",84,76,87]\n",
    "Stud3=[\"Chanchal\",23,\"MSc-I\",\"1999-01-01\",8,45,64]\n",
    "Stud4=[\"Adip\",24,\"MSc-I\",\"1998-01-01\",84,89,64]\n",
    "\n",
    "sum(Stud1[4:])/300*100\n",
    "class stud:\n",
    "    Year=1\n",
    "    def pr(self):\n",
    "        print(\"Object Created\")\n",
    "\n",
    "s1=stud()\n",
    "print(s1.Year)\n",
    "\n",
    "s2=stud()\n",
    "s2.pr()\n"
   ]
  },
  {
   "cell_type": "code",
   "execution_count": 2,
   "id": "45682985",
   "metadata": {
    "slideshow": {
     "slide_type": "slide"
    }
   },
   "outputs": [],
   "source": [
    "class cmpx:\n",
    "    def __init__(self,a,b=2):     # Constructor \n",
    "        self.real=a\n",
    "        self.img=b\n",
    "        # print(\"Complex number created\")\n",
    "    def pr(self):\n",
    "        if(self.real!=0 and self.img!=0):\n",
    "            print(\"Complex number is \",self.real,\"+ i\",self.img)\n",
    "        elif(self.real!=0):\n",
    "            print(\"Real number is \",self.real)\n",
    "        else:\n",
    "            print(\"Complex number is i\",self.img)\n",
    "    def conj(self):\n",
    "        print(\"Complex Conjugate is \",self.real,\"- i\",self.img)\n",
    "        temp=cmpx(self.real,-self.img)\n",
    "        return(temp)\n",
    "    \n",
    "    def add(self,c4):\n",
    "        temp=cmpx(self.real+c4.real,self.img+c4.img)\n",
    "        return temp\n",
    "    \n",
    "    def mult(self,obj):\n",
    "        temp=cmpx(self.real*obj.real-self.img* obj.img,self.real*obj.img+self.img* obj.img)\n",
    "        return temp       "
   ]
  },
  {
   "cell_type": "code",
   "execution_count": 3,
   "id": "4afcc6ca",
   "metadata": {
    "slideshow": {
     "slide_type": "subslide"
    }
   },
   "outputs": [
    {
     "name": "stdout",
     "output_type": "stream",
     "text": [
      "Complex Conjugate is  2 - i 3\n",
      "C1:\n",
      "Complex number is  2 + i 3\n",
      "C2:\n",
      "Complex number is  4 + i 2\n",
      "C4:\n",
      "Complex number is  2 + i 10\n"
     ]
    }
   ],
   "source": [
    "c1=cmpx(2,3) # Instance/Object\n",
    "c2=cmpx(4,2)\n",
    "c3=c1.conj()\n",
    "c4=c1.mult(c2)\n",
    "c5=c1.add(c2)\n",
    "#c5.pr()\n",
    "print(\"C1:\")\n",
    "c1.pr()\n",
    "print(\"C2:\")\n",
    "c2.pr()\n",
    "print(\"C4:\")\n",
    "c4.pr()"
   ]
  },
  {
   "cell_type": "markdown",
   "id": "ff63e457",
   "metadata": {
    "slideshow": {
     "slide_type": "slide"
    }
   },
   "source": [
    "# Classes vs Instances?\n",
    "Classes are used to create user-defined data structures. Classes define functions called methods, which identify the behaviors and actions that an object created from the class can perform with its data. A class is a blueprint for how something should be defined. It doesn’t actually contain any data."
   ]
  },
  {
   "cell_type": "markdown",
   "id": "e7fcfb7a",
   "metadata": {
    "slideshow": {
     "slide_type": "slide"
    }
   },
   "source": [
    "# How to Define a Class?\n",
    "All class definitions start with the class keyword, which is followed by the name of the class and a colon. Any code that is indented below the class definition is considered part of the class’s body.\n",
    "\n",
    "Class attributes are defined directly beneath the first line of the class name and are indented by four spaces. They must always be assigned an initial value. When an instance of the class is created, class attributes are automatically created and assigned to their initial values.\n",
    "\n",
    "Use class attributes to define properties that should have the same value for every class instance. Use instance attributes for properties that vary from one instance to another."
   ]
  },
  {
   "cell_type": "markdown",
   "id": "927d84f7",
   "metadata": {
    "slideshow": {
     "slide_type": "slide"
    }
   },
   "source": [
    "# Instantiate an Object in Python\n",
    "\n",
    "Creating a new object from a class is called instantiating an object."
   ]
  },
  {
   "cell_type": "markdown",
   "id": "9af707a8",
   "metadata": {
    "slideshow": {
     "slide_type": "slide"
    }
   },
   "source": [
    "# Instance Methods\n",
    "\n",
    "Instance methods are functions that are defined inside a class and can only be called from an instance of that class. Just like .init(), an instance method’s first parameter is always self."
   ]
  },
  {
   "cell_type": "code",
   "execution_count": 8,
   "id": "b0df8c0a",
   "metadata": {
    "slideshow": {
     "slide_type": "slide"
    }
   },
   "outputs": [
    {
     "name": "stdout",
     "output_type": "stream",
     "text": [
      "Hello Geetanjali, your age is 19 years and your percentage are 62.000000\n",
      "Hello Geetanjali, your age is 19 years and your percentage are 62.666667\n"
     ]
    }
   ],
   "source": [
    "class stud:\n",
    "    def __init__(self,name,year,a=16,b=16,c=16):\n",
    "        self.name=name\n",
    "        self.brth=year\n",
    "        self.age=2021-int(self.brth)\n",
    "        self.a,self.b,self.c=a,b,c\n",
    "    def pr(self):\n",
    "        self.result()\n",
    "        print(\"Hello %s, your age is %d years and your percentage are %f\"%(self.name,self.age,self.prct))\n",
    "    def result(self):\n",
    "        self.prct=(self.a+self.b+self.c)/300*100\n",
    "    def updateMarks(self,a,b,c):\n",
    "        self.a,self.b,self.c=a,b,c\n",
    "        \n",
    "s1=stud(\"Geetanjali\",2002,76,87,23)\n",
    "s1.pr()\n",
    "s1.updateMarks(77,86,25)\n",
    "s1.pr()"
   ]
  },
  {
   "cell_type": "markdown",
   "id": "d9902459",
   "metadata": {
    "slideshow": {
     "slide_type": "slide"
    }
   },
   "source": [
    "# Inherit From Other Classes in Python\n",
    "Inheritance is the process by which one class takes on the attributes and methods of another. Newly formed classes are called child classes, and the classes that child classes are derived from are called parent classes.\n",
    "Child classes can override or extend the attributes and methods of parent classes. In other words, child classes inherit all of the parent’s attributes and methods but can also specify attributes and methods that are unique to themselves.\n",
    "Although the analogy isn’t perfect, you can think of object inheritance sort of like genetic inheritance.\n",
    "You may have inherited your hair color from your mother. It’s an attribute you were born with. Let’s say you decide to color your hair purple. Assuming your mother doesn’t have purple hair, you’ve just overridden the hair color attribute that you inherited from your mom.\n",
    "\n",
    "You also inherit, in a sense, your language from your parents. If your parents speak English, then you’ll also speak English. Now imagine you decide to learn a second language, like German. In this case you’ve extended your attributes because you’ve added an attribute that your parents don’t have."
   ]
  },
  {
   "cell_type": "code",
   "execution_count": 4,
   "id": "7a94aac4",
   "metadata": {
    "slideshow": {
     "slide_type": "slide"
    }
   },
   "outputs": [],
   "source": [
    "class prnt1:\n",
    "    def fun1(self):\n",
    "        print(\"Parent 1 Function 1 Called\")\n",
    "    def fun2(self):\n",
    "        print(\"Parent 1 Function 2 Called\")\n",
    "        \n",
    "class prnt2:\n",
    "    def fun5(self):\n",
    "        print(\"Parent 2 Function 5 Called\")\n",
    "    def fun6(self):\n",
    "        print(\"Parent 2 Function 6 Called\")\n",
    "             \n",
    "class chld1(prnt1):# Single Inheritance\n",
    "    def fun1(self):\n",
    "        print(\"Child Function 1 Called\")   \n",
    "    def fun3(self):\n",
    "        print(\"Child Function 3 Called\")\n",
    "    def fun4(self):\n",
    "        print(\"Child Function 4 Called\")\n",
    "\n",
    "class chld2(prnt1,prnt2):# Multiple Inheritance\n",
    "    def fun1(self):\n",
    "        print(\"Child2 Function 1 Called\")   \n",
    "    def fun7(self):\n",
    "        print(\"Child2 Function 7 Called\")\n",
    "    def fun8(self):\n",
    "        print(\"Child2 Function 8 Called\")       \n"
   ]
  },
  {
   "cell_type": "code",
   "execution_count": 5,
   "id": "2ffa5e96",
   "metadata": {
    "slideshow": {
     "slide_type": "subslide"
    }
   },
   "outputs": [
    {
     "name": "stdout",
     "output_type": "stream",
     "text": [
      "Child Function 1 Called\n",
      "Parent 1 Function 2 Called\n",
      "Parent 1 Function 2 Called\n"
     ]
    }
   ],
   "source": [
    "A=prnt1()\n",
    "B=chld1()\n",
    "C=chld2()\n",
    "\n",
    "B.fun1()\n",
    "B.fun2()\n",
    "C.fun2()"
   ]
  }
 ],
 "metadata": {
  "celltoolbar": "Slideshow",
  "kernelspec": {
   "display_name": "Python 3",
   "language": "python",
   "name": "python3"
  },
  "language_info": {
   "codemirror_mode": {
    "name": "ipython",
    "version": 3
   },
   "file_extension": ".py",
   "mimetype": "text/x-python",
   "name": "python",
   "nbconvert_exporter": "python",
   "pygments_lexer": "ipython3",
   "version": "3.9.5"
  }
 },
 "nbformat": 4,
 "nbformat_minor": 5
}
