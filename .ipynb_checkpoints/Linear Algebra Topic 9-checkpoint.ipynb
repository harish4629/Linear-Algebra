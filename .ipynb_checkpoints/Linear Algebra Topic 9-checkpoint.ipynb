{
 "cells": [
  {
   "cell_type": "markdown",
   "id": "6001b829",
   "metadata": {},
   "source": [
    "# Topic 9"
   ]
  },
  {
   "cell_type": "markdown",
   "id": "826c44c5",
   "metadata": {},
   "source": [
    "## Getting the vectors in column/row space and null space of the matrix."
   ]
  },
  {
   "cell_type": "markdown",
   "id": "d3fac8ce",
   "metadata": {},
   "source": [
    "## Group 18\n",
    "1) Neha Patil <br>\n",
    "2) Harshad Ahire <br>\n",
    "3) Akil Ghodi <br>\n",
    "4) Sai Rauf Maniyar <br>\n",
    "5) Adipkumar Vishwakarma"
   ]
  },
  {
   "cell_type": "markdown",
   "id": "94c92b47",
   "metadata": {},
   "source": [
    "### Que.1) Consider the following matrix"
   ]
  },
  {
   "cell_type": "code",
   "execution_count": 57,
   "id": "3de2f4b8",
   "metadata": {},
   "outputs": [],
   "source": [
    "import numpy as np                     # Importing numpy package  as np."
   ]
  },
  {
   "cell_type": "code",
   "execution_count": 58,
   "id": "3a1c79d0",
   "metadata": {},
   "outputs": [
    {
     "name": "stdout",
     "output_type": "stream",
     "text": [
      "[[  8   1   3   6]\n",
      " [  0   3   0  -9]\n",
      " [ -8  -1  -3 -16]]\n"
     ]
    }
   ],
   "source": [
    "A=np.array([[8,1,3,6],\n",
    "                    [0,3,0,-9],\n",
    "                    [-8,-1,-3,-16]])\n",
    "print(A)                                        # Given matrix\n",
    "m,n=A.shape                                # Order of the matrix"
   ]
  },
  {
   "cell_type": "markdown",
   "id": "c1255a9a",
   "metadata": {},
   "source": [
    "### i) Obtain two vectors in row and column space of A"
   ]
  },
  {
   "cell_type": "markdown",
   "id": "81cecf92",
   "metadata": {},
   "source": [
    "### Column Space: \n",
    "Let A be an m x n matrix. Then the column space of A is a set of all linear combinations of columns of  A."
   ]
  },
  {
   "cell_type": "code",
   "execution_count": 59,
   "id": "3cde5b50",
   "metadata": {},
   "outputs": [
    {
     "name": "stdout",
     "output_type": "stream",
     "text": [
      "The two vectors in column space of matrix A are\n",
      " [[ 5.7893061 ]\n",
      " [ 8.21667128]\n",
      " [-2.3929828 ]] \n",
      " and\n",
      " [[  6.98325959]\n",
      " [ -1.38959416]\n",
      " [-13.29971751]]\n"
     ]
    }
   ],
   "source": [
    "a_=np.dot(A,np.random.randn(n,1))                 # Product of the matrix A with the any random vector gives vector in column space of  the matrix A\n",
    "b_=np.dot(A,np.random.randn(n,1))\n",
    "print('The two vectors in column space of matrix A are\\n',a_,'\\n and\\n',b_)"
   ]
  },
  {
   "cell_type": "markdown",
   "id": "0760f548",
   "metadata": {},
   "source": [
    "### Row Space: \n",
    "Let A be an m x n matrix. Then the row space of A is set of all linear combinations of rows of A."
   ]
  },
  {
   "cell_type": "code",
   "execution_count": 60,
   "id": "c0f1b613",
   "metadata": {},
   "outputs": [
    {
     "name": "stdout",
     "output_type": "stream",
     "text": [
      "The two vectors in row space of matrix A are\n",
      " [[12.11770858 -0.55480374  4.54414072 20.84204759]] \n",
      " and\n",
      " [[-1.57680242 -0.89959962 -0.59130091 -9.3538411 ]]\n"
     ]
    }
   ],
   "source": [
    "c_=np.dot(np.random.randn(1,m),A)                 # Product of any random vectors transpose with matrix A  gives vector in row space of  the matrix A\n",
    "d_=np.dot(np.random.randn(1,m),A)\n",
    "print('The two vectors in row space of matrix A are\\n',c_,'\\n and\\n',d_)"
   ]
  },
  {
   "cell_type": "markdown",
   "id": "8428fa1b",
   "metadata": {},
   "source": [
    "### ii) Obtain nullity of the matrix and hence obtain two vectors in null space of A"
   ]
  },
  {
   "cell_type": "markdown",
   "id": "31810515",
   "metadata": {},
   "source": [
    "### Null Space:\n",
    "The null space of any matrix A consists of all the vectors x such that Ax = 0 and **x = (I - GA)z** , where z is any arbitrary vector. \n",
    "  <br> Nullity is the rank of null space which is **' n - r '** where **n** is number of columns and **r** is rank of A."
   ]
  },
  {
   "cell_type": "code",
   "execution_count": 61,
   "id": "03486fa9",
   "metadata": {},
   "outputs": [
    {
     "name": "stdout",
     "output_type": "stream",
     "text": [
      "Rank of A is 3\n",
      "Nullityof the given matrix A is  1\n"
     ]
    }
   ],
   "source": [
    "r = np.linalg.matrix_rank(A)                # rank of A\n",
    "print('Rank of A is',r)\n",
    "nullity=n - r                                           # nullity of A\n",
    "print('Nullityof the given matrix A is ',nullity)"
   ]
  },
  {
   "cell_type": "code",
   "execution_count": 62,
   "id": "f27e77e8",
   "metadata": {},
   "outputs": [
    {
     "name": "stdout",
     "output_type": "stream",
     "text": [
      "The G inverse of A is\n",
      " [[ 0.          0.          0.        ]\n",
      " [-0.3         0.33333333 -0.3       ]\n",
      " [ 0.63333333 -0.11111111  0.3       ]\n",
      " [-0.1        -0.         -0.1       ]]\n",
      "\n",
      "The two vectors in null space of matrix A are\n",
      " [[-1.16874641]\n",
      " [ 0.        ]\n",
      " [ 3.11665709]\n",
      " [ 0.        ]] \n",
      "\n",
      " and\n",
      "\n",
      " [[ 0.10690916]\n",
      " [ 0.        ]\n",
      " [-0.2850911 ]\n",
      " [ 0.        ]]\n"
     ]
    }
   ],
   "source": [
    "G=np.zeros((m,n))                             # matrix of  zeros of order m by n\n",
    "B=A[np.ix_([0,1,2],[1,2,3])]              # considering submatrix of A having rank r\n",
    "r1=np.linalg.matrix_rank(B)\n",
    "\n",
    "if r1==r:\n",
    "    G[np.ix_([0,1,2],[1,2,3])]=np.linalg.inv(B).T    \n",
    "    G=G.T\n",
    "    print('The G inverse of A is\\n',G)\n",
    "\n",
    "c_=(np.eye(n,n)-G@A)@np.random.randn(n,1)       # Getting vectors in null space of A\n",
    "d_=(np.eye(n,n)-G@A)@np.random.randn(n,1)\n",
    "print('\\nThe two vectors in null space of matrix A are\\n',c_,'\\n\\n and\\n\\n',d_)"
   ]
  },
  {
   "cell_type": "markdown",
   "id": "d48c5147",
   "metadata": {},
   "source": [
    "### Que. 2)"
   ]
  },
  {
   "cell_type": "code",
   "execution_count": 63,
   "id": "e8fa3109",
   "metadata": {},
   "outputs": [],
   "source": [
    "u=np.array([[6,16,-5]]).T\n",
    "v=np.array([[0,2,-1]]).T\n",
    "w=np.array([[2,2,0]]).T"
   ]
  },
  {
   "cell_type": "code",
   "execution_count": 64,
   "id": "7b2ec87d",
   "metadata": {},
   "outputs": [
    {
     "data": {
      "text/plain": [
       "array([[ 0,  2],\n",
       "       [ 2,  2],\n",
       "       [-1,  0]])"
      ]
     },
     "execution_count": 64,
     "metadata": {},
     "output_type": "execute_result"
    }
   ],
   "source": [
    "A=np.concatenate((v,w),axis=1)          # forming matrix having columns as v and w.\n",
    "r = np.linalg.matrix_rank(A)\n",
    "A"
   ]
  },
  {
   "cell_type": "markdown",
   "id": "c76c036e",
   "metadata": {},
   "source": [
    "Here we find solution of the simultaneous linear equation Ax=u."
   ]
  },
  {
   "cell_type": "code",
   "execution_count": 65,
   "id": "d7f48fed",
   "metadata": {},
   "outputs": [
    {
     "name": "stdout",
     "output_type": "stream",
     "text": [
      "The G inverse of A is\n",
      " [[-0.5  0.5  0. ]\n",
      " [ 0.5  0.   0. ]]\n",
      "\n",
      "Since x=  [5.]  and y= [3.] are real numbers. Thus vector u belongs to Span{v,w}\n"
     ]
    }
   ],
   "source": [
    "G=np.zeros((3,2))\n",
    "B=A[np.ix_([0,1],[0,1])]\n",
    "r1=np.linalg.matrix_rank(B)\n",
    "\n",
    "if r1==r:\n",
    "    G[np.ix_([0,1],[0,1])]=np.linalg.inv(B).T\n",
    "    G=G.T\n",
    "    print('The G inverse of A is\\n',G)\n",
    "\n",
    "x=G@u+(np.eye(2,2)-G@A)@np.random.randn(2,1)    # Finding solution\n",
    "\n",
    "print('\\nSince x= ',x[0],' and y=',x[1] ,'are real numbers. Thus vector u belongs to Span{v,w}')"
   ]
  },
  {
   "cell_type": "markdown",
   "id": "db0e65a4",
   "metadata": {},
   "source": [
    "### Que 3)"
   ]
  },
  {
   "cell_type": "code",
   "execution_count": 66,
   "id": "0afe1c84",
   "metadata": {},
   "outputs": [],
   "source": [
    "X1=np.array([[1,-1,1]]).T\n",
    "X2=np.array([[3,4,-2]]).T\n",
    "Y1=np.array([[9,5,-1]]).T\n",
    "Y2=np.array([[-17,-11,3]]).T"
   ]
  },
  {
   "cell_type": "code",
   "execution_count": 67,
   "id": "0a3200e8",
   "metadata": {},
   "outputs": [
    {
     "name": "stdout",
     "output_type": "stream",
     "text": [
      "A is \n",
      " [[ 1  3]\n",
      " [-1  4]\n",
      " [ 1 -2]] \n",
      "B is\n",
      " [[  9 -17]\n",
      " [  5 -11]\n",
      " [ -1   3]]\n"
     ]
    }
   ],
   "source": [
    "A=np.concatenate((X1,X2),axis=1)          # forming matrix having columns as X1 and X2.\n",
    "B=np.concatenate((Y1,Y2),axis=1)          # forming matrix having columns as Y1 and Y2.\n",
    "print('A is \\n',A,'\\nB is\\n',B)"
   ]
  },
  {
   "cell_type": "code",
   "execution_count": 68,
   "id": "b3b499f4",
   "metadata": {},
   "outputs": [
    {
     "name": "stdout",
     "output_type": "stream",
     "text": [
      "The G inverse of B is\n",
      "\n",
      " [[ 0.78571429 -1.21428571  0.        ]\n",
      " [ 0.35714286 -0.64285714  0.        ]]\n",
      "\n",
      "Here product of G and matrix B is \n",
      "\n",
      " [[ 1. -0.]\n",
      " [ 0.  1.]]\n"
     ]
    }
   ],
   "source": [
    "r = np.linalg.matrix_rank(B)\n",
    "G = np.zeros((3,2))\n",
    "D = B[np.ix_([0,1],[0,1])]\n",
    "r1 = np.linalg.matrix_rank(D)\n",
    "\n",
    "if r1 == r:\n",
    "    G[np.ix_([0,1],[0,1])]=np.linalg.inv(D).T\n",
    "    G = G.T\n",
    "    print('The G inverse of B is\\n\\n',G)\n",
    "\n",
    "I = np.round(G@B)\n",
    "print('\\nHere product of G and matrix B is \\n\\n',I)"
   ]
  },
  {
   "cell_type": "markdown",
   "id": "e80a8832",
   "metadata": {},
   "source": [
    "Consider, <br>\n",
    "        A = BC <br>\n",
    "GA = GBC         .... premultiplying by G-inverse of B <br>\n",
    "        From above, we can see that GB = $I_2$ <br>\n",
    "        $\\therefore $ GA= IC = C <br>\n",
    "Thus, C = GA"
   ]
  },
  {
   "cell_type": "code",
   "execution_count": 69,
   "id": "6628603c",
   "metadata": {},
   "outputs": [
    {
     "name": "stdout",
     "output_type": "stream",
     "text": [
      "C is \n",
      " [[ 2.  -2.5]\n",
      " [ 1.  -1.5]]\n"
     ]
    }
   ],
   "source": [
    "C=G@A\n",
    "print('C is \\n',C)"
   ]
  },
  {
   "cell_type": "markdown",
   "id": "5cd18c54",
   "metadata": {},
   "source": [
    "Since C exist, we conclude that the Span{X1, X2} is in same space as that of Span{Y1,Y2}."
   ]
  }
 ],
 "metadata": {
  "kernelspec": {
   "display_name": "Python 3",
   "language": "python",
   "name": "python3"
  },
  "language_info": {
   "codemirror_mode": {
    "name": "ipython",
    "version": 3
   },
   "file_extension": ".py",
   "mimetype": "text/x-python",
   "name": "python",
   "nbconvert_exporter": "python",
   "pygments_lexer": "ipython3",
   "version": "3.9.5"
  }
 },
 "nbformat": 4,
 "nbformat_minor": 5
}
