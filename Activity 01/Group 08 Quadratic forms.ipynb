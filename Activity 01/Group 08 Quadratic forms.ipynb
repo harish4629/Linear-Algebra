{
 "cells": [
  {
   "cell_type": "markdown",
   "id": "522ec737",
   "metadata": {},
   "source": [
    "# Group No. 8\n",
    "#### Prajakta Bhoi\n",
    "#### Kirti Khalage\n",
    "#### Gayatri Lakhotia"
   ]
  },
  {
   "cell_type": "code",
   "execution_count": 16,
   "id": "7e249061",
   "metadata": {},
   "outputs": [],
   "source": [
    "import numpy as np\n",
    "import sympy as sp"
   ]
  },
  {
   "cell_type": "markdown",
   "id": "35a83f2e",
   "metadata": {},
   "source": [
    "# 1. To Demonstrate Maxima and Minima of Quadratic Form"
   ]
  },
  {
   "cell_type": "code",
   "execution_count": 24,
   "id": "4a44d802",
   "metadata": {},
   "outputs": [
    {
     "name": "stdout",
     "output_type": "stream",
     "text": [
      "[[ 1  2 -3]\n",
      " [ 2  9 -2]\n",
      " [-3 -2 15]]\n",
      "The eigen values are\n",
      " [ 0.10035761 16.38643349  8.5132089 ]\n",
      "The eigen vectors are\n",
      " [[-0.96882016  0.22061526  0.11276708]\n",
      " [ 0.17929207  0.31012509  0.93363632]\n",
      " [-0.17100252 -0.92474393  0.34001001]]\n"
     ]
    }
   ],
   "source": [
    "A=np.array([[1,2,-3],[2,9,-2],[-3,-2,15]]);\n",
    "print(A)\n",
    "e,v=np.linalg.eig(A)\n",
    "print(\"The eigen values are\\n\",e)\n",
    "print(\"The eigen vectors are\\n\",v)"
   ]
  },
  {
   "cell_type": "markdown",
   "id": "78361688",
   "metadata": {},
   "source": [
    "### a. To check definiteness of quadratic form "
   ]
  },
  {
   "cell_type": "code",
   "execution_count": 18,
   "id": "89231461",
   "metadata": {},
   "outputs": [
    {
     "name": "stdout",
     "output_type": "stream",
     "text": [
      "The given Quadratic form is positive definite\n"
     ]
    }
   ],
   "source": [
    "if all(e > 0) :\n",
    "    print(\"The given Quadratic form is positive definite\")\n",
    "elif all(e >= 0) :\n",
    "    print(\"The given Quadratic form is positive semi-definite\")\n",
    "elif all(e < 0 ):\n",
    "    print(\"The given Quadratic form is negative definite\")\n",
    "elif all(e <= 0 ):\n",
    "    print(\"The given Quadratic form is negative semi-definite\")\n",
    "else :\n",
    "    print(\"The given Quadratic form is not a  definite\")"
   ]
  },
  {
   "cell_type": "markdown",
   "id": "60310635",
   "metadata": {},
   "source": [
    "### b. Obtain Algebric Multiplicity"
   ]
  },
  {
   "cell_type": "code",
   "execution_count": 22,
   "id": "bebb5d06",
   "metadata": {},
   "outputs": [
    {
     "name": "stdout",
     "output_type": "stream",
     "text": [
      "{25/3 - (161 + 3*sqrt(872742)*I)**(1/3)/3 - 199/(3*(161 + 3*sqrt(872742)*I)**(1/3)): 1, 25/3 - (-1/2 + sqrt(3)*I/2)*(161 + 3*sqrt(872742)*I)**(1/3)/3 - 199/(3*(-1/2 + sqrt(3)*I/2)*(161 + 3*sqrt(872742)*I)**(1/3)): 1, 25/3 - 199/(3*(-1/2 - sqrt(3)*I/2)*(161 + 3*sqrt(872742)*I)**(1/3)) - (-1/2 - sqrt(3)*I/2)*(161 + 3*sqrt(872742)*I)**(1/3)/3: 1}\n"
     ]
    }
   ],
   "source": [
    "from sympy import *\n",
    "B = Matrix([[1,2,-3],[2,9,-2],[-3,-2,15]])\n",
    "print(B.eigenvals())  #returns eigenvalues and their algebraic multiplicity"
   ]
  },
  {
   "cell_type": "markdown",
   "id": "a41b0526",
   "metadata": {},
   "source": [
    "### 2. To obtain maxima and minima of a quadratic form"
   ]
  },
  {
   "cell_type": "code",
   "execution_count": 23,
   "id": "dfaf062b",
   "metadata": {},
   "outputs": [
    {
     "name": "stdout",
     "output_type": "stream",
     "text": [
      "The maximum of quadratic form is :  16.386433492269735\n"
     ]
    }
   ],
   "source": [
    "m1=max(e)\n",
    "print(\"The maximum of quadratic form is : \",m1)"
   ]
  },
  {
   "cell_type": "code",
   "execution_count": 12,
   "id": "5dc27ba6",
   "metadata": {},
   "outputs": [
    {
     "name": "stdout",
     "output_type": "stream",
     "text": [
      "The minimum of quadratic form is :  0.10035760898119861\n"
     ]
    }
   ],
   "source": [
    "m2=min(e)\n",
    "print(\"The minimum of quadratic form is : \",m2)"
   ]
  },
  {
   "cell_type": "code",
   "execution_count": null,
   "id": "809ba441",
   "metadata": {},
   "outputs": [],
   "source": []
  },
  {
   "cell_type": "code",
   "execution_count": null,
   "id": "641fdae1",
   "metadata": {},
   "outputs": [],
   "source": []
  },
  {
   "cell_type": "markdown",
   "id": "d412c71a",
   "metadata": {},
   "source": [
    "## 2.To demonstrate maxima and minima of the ratio of the quadratic form"
   ]
  },
  {
   "cell_type": "code",
   "execution_count": null,
   "id": "ba4bac5c",
   "metadata": {},
   "outputs": [],
   "source": [
    "A=np.array([[2,10,-6],[10,-14,10],[-6,10,7]]);\n",
    "print(A)\n",
    "B=np.array([[6,3,-1],[3,17,-10],[-1,-10,6]]);\n",
    "print(B)\n",
    "\n",
    "er=np.linalg.eigvals(np.dot(np.linalg.inv(B),A))\n",
    "\n",
    "print(\"The eigen values are\\n\",er)\n",
    "er"
   ]
  },
  {
   "cell_type": "markdown",
   "id": "d1137e89",
   "metadata": {},
   "source": [
    "### a. To check definiteness of ratio of quadratic form "
   ]
  },
  {
   "cell_type": "code",
   "execution_count": null,
   "id": "1e93c74a",
   "metadata": {},
   "outputs": [],
   "source": [
    "if all(er > 0) :\n",
    "    print(\"The given Quadratic form is positive definite\")\n",
    "elif all(er >= 0) :\n",
    "    print(\"The given Quadratic form is positive semi definite\")\n",
    "elif all(er < 0 ):\n",
    "    print(\"The given Quadratic form is negative definite\")\n",
    "elif all(er <= 0 ):\n",
    "    print(\"The given Quadratic form is negative semi definite\")\n",
    "else :\n",
    "    print(\"The given Quadratic form is not a  definite\")"
   ]
  },
  {
   "cell_type": "markdown",
   "id": "f5be955d",
   "metadata": {},
   "source": [
    "### b. To obtain maxima and minima of a ratio of quadratic form"
   ]
  },
  {
   "cell_type": "code",
   "execution_count": 8,
   "id": "cb445966",
   "metadata": {},
   "outputs": [
    {
     "name": "stdout",
     "output_type": "stream",
     "text": [
      "The maximum of ratio of quadratic form is :  9.110250537824745\n"
     ]
    }
   ],
   "source": [
    "mr1=max(er)\n",
    "print(\"The maximum of ratio of quadratic form is : \",mr1)"
   ]
  },
  {
   "cell_type": "code",
   "execution_count": 9,
   "id": "8fa8a827",
   "metadata": {},
   "outputs": [
    {
     "name": "stdout",
     "output_type": "stream",
     "text": [
      "The minimum of ratio of quadratic form is :  -0.070250537824733\n"
     ]
    }
   ],
   "source": [
    "mr2=min(er)\n",
    "print(\"The minimum of ratio of quadratic form is : \",mr2)"
   ]
  },
  {
   "cell_type": "code",
   "execution_count": null,
   "id": "bc502ca7",
   "metadata": {},
   "outputs": [],
   "source": []
  }
 ],
 "metadata": {
  "kernelspec": {
   "display_name": "Python 3",
   "language": "python",
   "name": "python3"
  },
  "language_info": {
   "codemirror_mode": {
    "name": "ipython",
    "version": 3
   },
   "file_extension": ".py",
   "mimetype": "text/x-python",
   "name": "python",
   "nbconvert_exporter": "python",
   "pygments_lexer": "ipython3",
   "version": "3.9.5"
  }
 },
 "nbformat": 4,
 "nbformat_minor": 5
}
