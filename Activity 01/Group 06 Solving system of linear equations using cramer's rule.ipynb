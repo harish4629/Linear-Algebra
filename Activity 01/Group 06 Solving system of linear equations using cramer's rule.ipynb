{
 "cells": [
  {
   "cell_type": "markdown",
   "id": "f043b3bd",
   "metadata": {},
   "source": [
    "# Practical no .2  \n",
    "## By group no.6 \n",
    "### Group members  \n",
    "### 1.Badgujar Shivani Vijay\n",
    "### 2.Jawdeker Harshada Sharad \n",
    "### 3.Patil Nikita Pravin \n"
   ]
  },
  {
   "cell_type": "markdown",
   "id": "8f7bb242",
   "metadata": {},
   "source": [
    "# Practical no. 2 solving system of linear equations using Cramer’s rule. "
   ]
  },
  {
   "cell_type": "markdown",
   "id": "1a20a5ab",
   "metadata": {},
   "source": [
    "In linear algebra, Cramer’s rule is an explicit formula for the solution of a system of linear equations with as many equations as unknowns, valid whenever the system has a unique solution. \n",
    "Cramer’s Rule is a method that uses determinants to solve systems of equations that have the same number of equations as variables. Consider a system of two linear equations in two variables. If we are solving for x, the x column is replaced with the constant column as x= DX/D and so on for other unknown variables .Where D is the determinant of matrix and Dx is determinant of matrix formed by x column is replaced with the constant column . \n"
   ]
  },
  {
   "cell_type": "markdown",
   "id": "f9a6702b",
   "metadata": {},
   "source": [
    "# Problem 1  "
   ]
  },
  {
   "cell_type": "code",
   "execution_count": 2,
   "id": "99f712e5",
   "metadata": {},
   "outputs": [
    {
     "name": "stdout",
     "output_type": "stream",
     "text": [
      "\n",
      "The given matrix A is\n",
      " [[ 2 -1  1]\n",
      " [ 1  1 -3]\n",
      " [ 5 -2 -4]]\n",
      "\n",
      "The given vector b is\n",
      " [[-3 17 20]]\n",
      "\n",
      "The solution of system of linear equation is \n",
      " 2 3 -4\n"
     ]
    }
   ],
   "source": [
    "import numpy as np \n",
    "b=np.array([[-3,17,20]]) \n",
    "A=np.array([[2,-1,1],[1,1,-3],[5,-2,-4]]) \n",
    "Ax=np.array([[-3,-1,1],[17,1,-3],[20,-2,-4]]) \n",
    "Ay=np.array([[2,-3,1],[1,17,-3],[5,20,-4]]) \n",
    "Az=np.array([[2,-1,-3],[1,1,17],[5,-2,20]]) \n",
    "print(\"\\nThe given matrix A is\\n\",A) \n",
    "print(\"\\nThe given vector b is\\n\",b) \n",
    "p=np.linalg.det(A) \n",
    "q=np.linalg.det(Ax) \n",
    "r=np.linalg.det(Ay) \n",
    "s=np.linalg.det(Az) \n",
    "x=q/p \n",
    "y=r/p \n",
    "z=s/p \n",
    "print(\"\\nThe solution of system of linear equation is \\n\",round(x),round(y),round(z)) \n"
   ]
  },
  {
   "cell_type": "markdown",
   "id": "e4b13d33",
   "metadata": {},
   "source": [
    "# Problem 2 "
   ]
  },
  {
   "cell_type": "code",
   "execution_count": 4,
   "id": "8dce0d70",
   "metadata": {},
   "outputs": [
    {
     "name": "stdout",
     "output_type": "stream",
     "text": [
      "[[ 1  0  0  0]\n",
      " [ 3  2  0  0]\n",
      " [ 0  1 -1  0]\n",
      " [-2  3  1  3]]\n",
      "[[ 2]\n",
      " [ 4]\n",
      " [-1]\n",
      " [ 4]]\n",
      "[[ 1.00000000e+00  0.00000000e+00  0.00000000e+00  3.46944695e-18]\n",
      " [-1.50000000e+00  5.00000000e-01  0.00000000e+00 -5.20417043e-18]\n",
      " [-1.50000000e+00  5.00000000e-01 -1.00000000e+00  2.25514052e-17]\n",
      " [ 2.66666667e+00 -6.66666667e-01  3.33333333e-01  3.33333333e-01]]\n",
      "\n",
      "The solution of system of linear equation is\n",
      " [[ 2.        ]\n",
      " [-1.        ]\n",
      " [ 0.        ]\n",
      " [ 3.66666667]]\n"
     ]
    }
   ],
   "source": [
    "import numpy as np \n",
    "M=np.array([[1,0,0,0],[3,2,0,0],[0,1,-1,0],[-2,3,1,3]]) \n",
    "print(M)  \n",
    "a=np.array([2,4,-1,4]) \n",
    "b=a.reshape(-1,1) \n",
    "print(b)  \n",
    "s=np.linalg.inv(M) \n",
    "print(s) \n",
    "x=s@b  \n",
    "print(\"\\nThe solution of system of linear equation is\\n\",x) \n"
   ]
  },
  {
   "cell_type": "markdown",
   "id": "ff54b164",
   "metadata": {},
   "source": [
    " A block matrix or a partitioned matrix is a matrix that is interpreted as having been broken into sections called blocks or submatrices. \n",
    "Determinant by using partition method is usually uses when the matrix order is large as it is complicated to find determinant of large order matrix so that’s why when there were no computers  that time peoples  are using these method .But nowadays it very easy to find determinant of large order matrices by using computer. \n",
    "Formula if matrix M is partition into A,B,C,D matrices then it’s determinant is  \n",
    "\n"
   ]
  },
  {
   "cell_type": "markdown",
   "id": "3e126990",
   "metadata": {},
   "source": [
    "|M|=|D|*|A-B*Dinv*C|, where D in non-singular \n"
   ]
  },
  {
   "cell_type": "markdown",
   "id": "192d67fc",
   "metadata": {},
   "source": [
    "|M|=|A|*|A-C*Ainv*B|, where A in non-singular "
   ]
  },
  {
   "cell_type": "markdown",
   "id": "42efb94c",
   "metadata": {},
   "source": [
    "# Problem 3"
   ]
  },
  {
   "cell_type": "code",
   "execution_count": 9,
   "id": "f7f6922e",
   "metadata": {},
   "outputs": [
    {
     "name": "stdout",
     "output_type": "stream",
     "text": [
      "\n",
      " A\n",
      " [[ 1 -2]\n",
      " [ 2  3]]\n",
      "\n",
      " B\n",
      " [[ 5  0]\n",
      " [ 2 -4]]\n",
      "\n",
      " C\n",
      " [[ 1  0]\n",
      " [-1  1]]\n",
      "\n",
      " D\n",
      " [[0 4]\n",
      " [2 2]]\n",
      "\n",
      " The determinant of a given matrix by partitioning is\n",
      " -238\n"
     ]
    }
   ],
   "source": [
    "import numpy as np \n",
    "A=np.array([[1,-2],[2,3]]) \n",
    "B=np.array([[5,0],[2,-4]]) \n",
    "C=np.array([[1,0],[-1,1]]) \n",
    "D=np.array([[0,4],[2,2]]) \n",
    "print(\"\\n A\\n\",A) \n",
    "print(\"\\n B\\n\",B)  \n",
    "print(\"\\n C\\n\",C) \n",
    "print(\"\\n D\\n\",D) \n",
    "M=np.linalg.det(D) \n",
    "m=np.linalg.inv(D) \n",
    "q=B@m \n",
    "r=q@C \n",
    "S=np.linalg.det(A-r) \n",
    "Det=M*S \n",
    "print (\"\\n The determinant of a given matrix by partitioning is\\n\",round(Det)) \n"
   ]
  },
  {
   "cell_type": "markdown",
   "id": "8110c62b",
   "metadata": {},
   "source": [
    "# Problem 4 "
   ]
  },
  {
   "cell_type": "code",
   "execution_count": 10,
   "id": "feed9ec0",
   "metadata": {},
   "outputs": [
    {
     "name": "stdout",
     "output_type": "stream",
     "text": [
      "\n",
      " The solution of given system of linear equations is\n",
      "  [[ 17.5]\n",
      " [-11. ]\n",
      " [  4. ]\n",
      " [ -4. ]]\n"
     ]
    }
   ],
   "source": [
    "import numpy as np \n",
    "l=np.array([[1,0,0,0],[2,1,0,0],[-3,-1,1,0],[2,0,2,1]]) \n",
    "u=np.array([[2,3,0,0],[0,1,2,0],[0,0,2,1],[0,0,0,3]]) \n",
    "c=np.array([[2],[1],[1],[0]]) \n",
    "A=l@u \n",
    "X=np.linalg.inv(A)@c \n",
    "print(\"\\n The solution of given system of linear equations is\\n \",X) \n"
   ]
  },
  {
   "cell_type": "code",
   "execution_count": null,
   "id": "54519b91",
   "metadata": {},
   "outputs": [],
   "source": []
  }
 ],
 "metadata": {
  "kernelspec": {
   "display_name": "Python 3",
   "language": "python",
   "name": "python3"
  },
  "language_info": {
   "codemirror_mode": {
    "name": "ipython",
    "version": 3
   },
   "file_extension": ".py",
   "mimetype": "text/x-python",
   "name": "python",
   "nbconvert_exporter": "python",
   "pygments_lexer": "ipython3",
   "version": "3.9.5"
  }
 },
 "nbformat": 4,
 "nbformat_minor": 5
}
