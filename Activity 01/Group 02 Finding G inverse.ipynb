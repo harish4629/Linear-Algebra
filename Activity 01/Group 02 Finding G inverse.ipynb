{
 "cells": [
  {
   "cell_type": "markdown",
   "id": "b718dd4d",
   "metadata": {},
   "source": [
    "# Finding G inverse of given matrix."
   ]
  },
  {
   "cell_type": "code",
   "execution_count": 2,
   "id": "e43f2380",
   "metadata": {},
   "outputs": [
    {
     "name": "stdout",
     "output_type": "stream",
     "text": [
      "A\n",
      " [[2.5  0.58 0.4 ]\n",
      " [0.6  0.32 1.  ]\n",
      " [0.2  0.84 4.  ]]\n",
      "r\n",
      " 2\n",
      "size\n",
      " (3, 3)\n",
      "G\n",
      " [[0. 0. 0.]\n",
      " [0. 0. 0.]\n",
      " [0. 0. 0.]]\n",
      "B\n",
      " [[2.5 0.4]\n",
      " [0.2 4. ]]\n",
      "r1\n",
      " 2\n",
      "The G inverse of given matrix is\n",
      " [[ 0.40322581  0.         -0.04032258]\n",
      " [ 0.          0.          0.        ]\n",
      " [-0.02016129  0.          0.25201613]]\n",
      "AGA\n",
      " [[2.5  0.58 0.4 ]\n",
      " [0.6  0.32 1.  ]\n",
      " [0.2  0.84 4.  ]]\n",
      "trace of AG 2.0\n",
      "trace of GA 2.0\n",
      "2\n"
     ]
    }
   ],
   "source": [
    "import numpy as np     #package required for finding G inverse\n",
    "\n",
    "A=np.array([[2.5,0.58,0.4],[0.6,0.32,1],[0.2,0.84,4]])\n",
    "print(\"A\\n\" ,A)\n",
    "\n",
    "r=np.linalg.matrix_rank(A)           #Finding rank of A\n",
    "print(\"r\\n\",r)\n",
    "size=np.shape(A)                     #size of A\n",
    "                                    \n",
    "print(\"size\\n\",size)\n",
    "m=size[0]\n",
    "n=size[1]\n",
    "\n",
    "G=np.zeros((m,n))                    # matrix G\n",
    "print(\"G\\n\",G)\n",
    "\n",
    "B=A[np.ix_([0,r],[0,r])]             # matrix B\n",
    "print(\"B\\n\",B)\n",
    "\n",
    "r1=np.linalg.matrix_rank(B)          # rank of B\n",
    "print(\"r1\\n\",r1)\n",
    "if r1==r:\n",
    "    G[np.ix_([0,r],[0,r])]=np.linalg.inv(B.T)\n",
    "    G=G.T\n",
    "    print(\"The G inverse of given matrix is\\n\",G)\n",
    " \n",
    "\n",
    " # Properties of G:\n",
    "print(\"AGA\\n\",A.dot(G).dot(A))             # AGA=A\n",
    "\n",
    "print(\"trace of AG\",np.trace(A.dot(G)))    #trace(AG)=trace(GA)=rank(A)\n",
    "print(\"trace of GA\",np.trace(G.dot(A)))\n",
    "print(r)      "
   ]
  },
  {
   "cell_type": "code",
   "execution_count": null,
   "id": "df2438ec",
   "metadata": {},
   "outputs": [],
   "source": []
  }
 ],
 "metadata": {
  "kernelspec": {
   "display_name": "Python 3",
   "language": "python",
   "name": "python3"
  },
  "language_info": {
   "codemirror_mode": {
    "name": "ipython",
    "version": 3
   },
   "file_extension": ".py",
   "mimetype": "text/x-python",
   "name": "python",
   "nbconvert_exporter": "python",
   "pygments_lexer": "ipython3",
   "version": "3.9.5"
  }
 },
 "nbformat": 4,
 "nbformat_minor": 5
}
