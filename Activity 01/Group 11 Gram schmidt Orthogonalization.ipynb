{
 "cells": [
  {
   "cell_type": "markdown",
   "id": "669285ab",
   "metadata": {},
   "source": [
    "##  1.  Let x1_=(1, 0,1,1)' , X 2_= ( -1, 0, 1,1)' , X3_=(0,-1,1,1)'  and  X4_=(0, 0,1, 0)'  are  linearly independent  set of  vectors of  R^4 . Find  an orthonormal  basis of 4  starting with X 4 , X 3 , X 2 , X 1."
   ]
  },
  {
   "cell_type": "code",
   "execution_count": 37,
   "id": "6b04e5c2",
   "metadata": {},
   "outputs": [],
   "source": [
    "import numpy as np\n",
    "x4=[0, 0, 1, 0]\n",
    "x3=[0, -1, 1, 1]\n",
    "x2=[-1, 0, -1, 1]\n",
    "x1=[1, 0, 1, 1]"
   ]
  },
  {
   "cell_type": "markdown",
   "id": "eb0a7593",
   "metadata": {},
   "source": [
    "#### Finding norm of each vector "
   ]
  },
  {
   "cell_type": "code",
   "execution_count": 38,
   "id": "b1c3ec27",
   "metadata": {},
   "outputs": [
    {
     "data": {
      "text/plain": [
       "array([[ 0.57735027,  0.        ,  0.57735027,  0.57735027],\n",
       "       [-0.57735027,  0.        , -0.57735027,  0.57735027],\n",
       "       [ 0.        , -0.57735027,  0.57735027,  0.57735027],\n",
       "       [ 0.        ,  0.        ,  1.        ,  0.        ]])"
      ]
     },
     "execution_count": 38,
     "metadata": {},
     "output_type": "execute_result"
    }
   ],
   "source": [
    "z1=x1/np.linalg.norm(x1)\n",
    "z2=x2/np.linalg.norm(x2)\n",
    "z3=x3/np.linalg.norm(x3)\n",
    "z4=x4/np.linalg.norm(x4)\n",
    "np.array([z1,z2,z3,z4])"
   ]
  },
  {
   "cell_type": "markdown",
   "id": "fb6e614c",
   "metadata": {},
   "source": [
    "#### Gram Schmidt Orthogonalization"
   ]
  },
  {
   "cell_type": "code",
   "execution_count": 39,
   "id": "301dd5e5",
   "metadata": {},
   "outputs": [
    {
     "data": {
      "text/plain": [
       "0.0"
      ]
     },
     "execution_count": 39,
     "metadata": {},
     "output_type": "execute_result"
    }
   ],
   "source": [
    "y1=z4\n",
    "y2=x3-np.inner(x4,y1)/np.inner(y1,y1)*z4\n",
    "np.round(np.inner(y1,y2),3)"
   ]
  },
  {
   "cell_type": "code",
   "execution_count": 40,
   "id": "971d371d",
   "metadata": {},
   "outputs": [
    {
     "data": {
      "text/plain": [
       "0.0"
      ]
     },
     "execution_count": 40,
     "metadata": {},
     "output_type": "execute_result"
    }
   ],
   "source": [
    "y3=x2-np.inner(x2,y2)/np.inner(y2,y2)*y2-np.inner(x2,y1)/np.inner(y1,y1)*y1\n",
    "np.round(np.inner(y2,y3),3)"
   ]
  },
  {
   "cell_type": "code",
   "execution_count": 43,
   "id": "e43fc8ea",
   "metadata": {},
   "outputs": [
    {
     "data": {
      "text/plain": [
       "-0.0"
      ]
     },
     "execution_count": 43,
     "metadata": {},
     "output_type": "execute_result"
    }
   ],
   "source": [
    "y4=x1-np.inner(x1,y1)/np.inner(y1,y1)*y1-np.inner(x1,y2)/np.inner(y2,y2)*y2-np.inner(x1,y3)/np.inner(y3,y3)*y3\n",
    "np.round(np.inner(y3,y4),3)"
   ]
  },
  {
   "cell_type": "markdown",
   "id": "5b812757",
   "metadata": {},
   "source": [
    "#### Orthonormal basis starting with x4,x3,x2,x1 are "
   ]
  },
  {
   "cell_type": "code",
   "execution_count": 45,
   "id": "9b03bb97",
   "metadata": {},
   "outputs": [
    {
     "data": {
      "text/plain": [
       "array([[ 0.        ,  0.        ,  1.        ,  0.        ],\n",
       "       [ 0.        , -1.        ,  0.        ,  1.        ],\n",
       "       [-1.        ,  0.5       ,  0.        ,  0.5       ],\n",
       "       [ 0.66666667,  0.66666667,  0.        ,  0.66666667]])"
      ]
     },
     "execution_count": 45,
     "metadata": {},
     "output_type": "execute_result"
    }
   ],
   "source": [
    "np.array([y1,y2,y3,y4])"
   ]
  },
  {
   "cell_type": "markdown",
   "id": "dd94639c",
   "metadata": {},
   "source": [
    "## 2. Obtain an 4 by 4 orthogonal matrix with all elements in first row equal\n",
    "\n"
   ]
  },
  {
   "cell_type": "code",
   "execution_count": 48,
   "id": "7d7d6254",
   "metadata": {},
   "outputs": [
    {
     "data": {
      "text/plain": [
       "array([[1, 1, 1, 0, 1, 0],\n",
       "       [1, 0, 1, 1, 1, 0],\n",
       "       [0, 1, 0, 0, 0, 0],\n",
       "       [0, 0, 0, 0, 0, 1],\n",
       "       [0, 1, 0, 1, 1, 0],\n",
       "       [1, 0, 1, 1, 0, 0]])"
      ]
     },
     "execution_count": 48,
     "metadata": {},
     "output_type": "execute_result"
    }
   ],
   "source": [
    "np.random.randint(0,2,(6,6)) # randomized orthogonal matrix"
   ]
  },
  {
   "cell_type": "code",
   "execution_count": 49,
   "id": "8956a751",
   "metadata": {},
   "outputs": [
    {
     "data": {
      "text/plain": [
       "array([[ 0.57735027,  0.        ,  0.57735027,  0.57735027],\n",
       "       [-0.57735027,  0.        , -0.57735027,  0.57735027],\n",
       "       [ 0.        , -0.57735027,  0.57735027,  0.57735027],\n",
       "       [ 0.5       ,  0.5       ,  0.5       ,  0.5       ]])"
      ]
     },
     "execution_count": 49,
     "metadata": {},
     "output_type": "execute_result"
    }
   ],
   "source": [
    "x4=[1, 1, 1, 1]\n",
    "x3=[0, -1, 1, 1]\n",
    "x2=[-1, 0, -1, 1]\n",
    "x1=[1, 0, 1, 1]\n",
    "z1=x1/np.linalg.norm(x1)\n",
    "z2=x2/np.linalg.norm(x2)\n",
    "z3=x3/np.linalg.norm(x3)\n",
    "z4=x4/np.linalg.norm(x4)\n",
    "np.array([z1,z2,z3,z4])"
   ]
  },
  {
   "cell_type": "code",
   "execution_count": 50,
   "id": "29bbc4e5",
   "metadata": {},
   "outputs": [
    {
     "data": {
      "text/plain": [
       "array([[ 0.5       ,  0.5       ,  0.5       ,  0.5       ],\n",
       "       [-1.        , -2.        ,  0.        ,  0.        ],\n",
       "       [-0.55      ,  0.65      , -0.75      ,  1.25      ],\n",
       "       [ 0.04035088, -1.13859649,  0.23684211,  0.27192982]])"
      ]
     },
     "execution_count": 50,
     "metadata": {},
     "output_type": "execute_result"
    }
   ],
   "source": [
    "y1=z4\n",
    "y2=x3-np.inner(x4,y1)/np.inner(y1,y1)*z4\n",
    "y3=x2-np.inner(x2,y2)/np.inner(y2,y2)*y2-np.inner(x2,y1)/np.inner(y1,y1)*y1\n",
    "y4=x1-np.inner(x1,y1)/np.inner(y1,y1)*y1-np.inner(x1,y2)/np.inner(y2,y2)*y2-np.inner(x1,y3)/np.inner(y3,y3)*y3\n",
    "np.array([y1,y2,y3,y4])"
   ]
  },
  {
   "cell_type": "markdown",
   "id": "469d6fa4",
   "metadata": {},
   "source": [
    "## 3.Using Gram-Schmidt orthogonalization process, construct an ortho-normal basis from the following basis {(2,3,0),(6,1,0),(0,2,4)}.\n",
    "\n"
   ]
  },
  {
   "cell_type": "code",
   "execution_count": 51,
   "id": "f89c0979",
   "metadata": {},
   "outputs": [],
   "source": [
    "x1=[[2,-1,1]]\n",
    "x2=[[4,2,1]]\n",
    "x3=[[-1,3,2]]"
   ]
  },
  {
   "cell_type": "markdown",
   "id": "61e48424",
   "metadata": {},
   "source": [
    "#### For finding norm each of vector"
   ]
  },
  {
   "cell_type": "code",
   "execution_count": 53,
   "id": "6493c851",
   "metadata": {},
   "outputs": [
    {
     "data": {
      "text/plain": [
       "array([[[ 0.81649658, -0.40824829,  0.40824829]],\n",
       "\n",
       "       [[ 0.87287156,  0.43643578,  0.21821789]],\n",
       "\n",
       "       [[-0.26726124,  0.80178373,  0.53452248]]])"
      ]
     },
     "execution_count": 53,
     "metadata": {},
     "output_type": "execute_result"
    }
   ],
   "source": [
    "z1=x1/np.linalg.norm(x1)\n",
    "z2=x2/np.linalg.norm(x2)\n",
    "z3=x3/np.linalg.norm(x3)\n",
    "np.array([z1,z2,z3])"
   ]
  },
  {
   "cell_type": "markdown",
   "id": "69641596",
   "metadata": {},
   "source": [
    "#### For GSO"
   ]
  },
  {
   "cell_type": "code",
   "execution_count": 55,
   "id": "25d7bbe4",
   "metadata": {},
   "outputs": [
    {
     "data": {
      "text/plain": [
       "array([[0.]])"
      ]
     },
     "execution_count": 55,
     "metadata": {},
     "output_type": "execute_result"
    }
   ],
   "source": [
    "y1=z1\n",
    "y2=x2-np.inner(x2,y1)/np.inner(y1,y1)*y1\n",
    "y3=x3-np.inner(x3,y2)/np.inner(y2,y2)*y2-np.inner(x3,y1)/np.inner(y1,y1)*y1\n",
    "#verification\n",
    "np.round(np.inner(y1,y2),3)\n",
    "np.round(np.inner(y2,y3),3)\n",
    "np.round(np.inner(y1,y3),3)"
   ]
  },
  {
   "cell_type": "markdown",
   "id": "727c29c6",
   "metadata": {},
   "source": [
    "#### Orthonormal basis are"
   ]
  },
  {
   "cell_type": "code",
   "execution_count": 56,
   "id": "b5c7bf43",
   "metadata": {},
   "outputs": [
    {
     "data": {
      "text/plain": [
       "array([[[ 0.81649658, -0.40824829,  0.40824829]],\n",
       "\n",
       "       [[ 1.66666667,  3.16666667, -0.16666667]],\n",
       "\n",
       "       [[-0.97402597,  0.64935065,  2.5974026 ]]])"
      ]
     },
     "execution_count": 56,
     "metadata": {},
     "output_type": "execute_result"
    }
   ],
   "source": [
    "np.array([y1,y2,y3])"
   ]
  },
  {
   "cell_type": "code",
   "execution_count": null,
   "id": "535952cd",
   "metadata": {},
   "outputs": [],
   "source": []
  }
 ],
 "metadata": {
  "kernelspec": {
   "display_name": "Python 3",
   "language": "python",
   "name": "python3"
  },
  "language_info": {
   "codemirror_mode": {
    "name": "ipython",
    "version": 3
   },
   "file_extension": ".py",
   "mimetype": "text/x-python",
   "name": "python",
   "nbconvert_exporter": "python",
   "pygments_lexer": "ipython3",
   "version": "3.8.8"
  }
 },
 "nbformat": 4,
 "nbformat_minor": 5
}
