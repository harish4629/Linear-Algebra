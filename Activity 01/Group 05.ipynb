{
 "cells": [
  {
   "cell_type": "markdown",
   "id": "d36cecea",
   "metadata": {},
   "source": [
    "# Group no.5 \n",
    "\n",
    "   ## Damini Badgujar\n",
    "   ## Chinmay patil\n",
    "   ## Tejas Jadhav\n",
    "   ## Manish Hire"
   ]
  },
  {
   "cell_type": "markdown",
   "id": "20faaed5",
   "metadata": {},
   "source": [
    "# Aim 1 : To check the definiteness of the given quadratic form"
   ]
  },
  {
   "cell_type": "code",
   "execution_count": 7,
   "id": "52e26edd",
   "metadata": {
    "scrolled": true
   },
   "outputs": [
    {
     "name": "stdout",
     "output_type": "stream",
     "text": [
      "Part 1 : To check the definiteness of the given quadratic form \n",
      "\n",
      "The given Quadratic form is Q(x)= x'Ax =(x1)^2+(9*x2)^2+(15*x3)^2+(4*x1x2)-(6*x1x3)-(4*x2x3)\n",
      "\n",
      " matrix  form of given quadratic form is \n",
      "A : \n",
      "\n",
      " [[ 1  2 -3]\n",
      " [ 2  9 -2]\n",
      " [-3 -2 15]]\n",
      "\n",
      "\n",
      "The eigen values of matrix A are : \n",
      "\n",
      "  [ 0.10035761 16.38643349  8.5132089 ]\n",
      "\n",
      " The given quadratic form is positive definite\n"
     ]
    }
   ],
   "source": [
    "\n",
    "\n",
    "print(\"Part 1 : To check the definiteness of the given quadratic form \")\n",
    "\n",
    "print(\"\\nThe given Quadratic form is Q(x)= x'Ax =(x1)^2+(9*x2)^2+(15*x3)^2+(4*x1x2)-(6*x1x3)-(4*x2x3)\")\n",
    "\n",
    "\n",
    "import numpy as np                          \n",
    "\n",
    "\n",
    "A = np.mat(\"1 2 -3 ; 2 9 -2 ; -3 -2 15 \")    \n",
    "\n",
    "\n",
    "print(\"\\n matrix  form of given quadratic form is \")  \n",
    "\n",
    "\n",
    "print(\"A : \\n\\n\",A)\n",
    "\n",
    "\n",
    "e = np.linalg.eigvals(A)\n",
    "\n",
    "\n",
    "print(\"\\n\\nThe eigen values of matrix A are : \\n\\n \", e)\n",
    "\n",
    "\n",
    "\n",
    "if all(e)> 0:\n",
    "    print(\"\\n The given quadratic form is positive definite\")\n",
    "elif all(e)>= 0:\n",
    "    print(\"\\n The given quadratic form is positive semi definite\")\n",
    "elif all(e)< 0:\n",
    "    print(\"\\n The given quadratic form is negative definite\")\n",
    "elif all(e)<= 0:\n",
    "    print(\"\\n The given quadratic form is negative semi definite\")\n",
    "else : \n",
    "    print(\"\\n The given quadratic form is indefinite\") \n",
    "    "
   ]
  },
  {
   "cell_type": "markdown",
   "id": "be647868",
   "metadata": {},
   "source": [
    "# Aim 2 : To obtain maxima and minima of the given Quadratric form over normed   vector\n"
   ]
  },
  {
   "cell_type": "code",
   "execution_count": 2,
   "id": "bea84749",
   "metadata": {},
   "outputs": [
    {
     "name": "stdout",
     "output_type": "stream",
     "text": [
      "\n",
      "\n",
      "Part 2 : To obtain maxima and minima of the given Quadratric form over normed vector \n",
      "\n",
      "\n",
      "The given Quadratic form is Q(x)= x'Ax =(x1)^2+(9*x2)^2+(15*x3)^2+(4*x1x2)-(6*x1x3)-(4*x2x3)\n",
      "\n",
      "\n",
      "maxima and minima of the given Quadratric form over normed vector are as follows :\n",
      "\n",
      " 1. maxima of quadratic form x'Ax over a normed vector is : 16.386433492269735\n",
      "\n",
      " 2. minima of quadratic form x'Ax over a normed vector is : 0.10035760898119861\n"
     ]
    }
   ],
   "source": [
    "\n",
    "\n",
    "print(\"\\n\\nPart 2 : To obtain maxima and minima of the given Quadratric form over normed vector \")\n",
    "\n",
    "\n",
    "print(\"\\n\\nThe given Quadratic form is Q(x)= x'Ax =(x1)^2+(9*x2)^2+(15*x3)^2+(4*x1x2)-(6*x1x3)-(4*x2x3)\")\n",
    "\n",
    "l1=max(e)\n",
    "l2=min(e)\n",
    "\n",
    "print(\"\\n\\nmaxima and minima of the given Quadratric form over normed vector are as follows :\") \n",
    "\n",
    "print(\"\\n 1. maxima of quadratic form x'Ax over a normed vector is :\",l1)\n",
    "\n",
    "print(\"\\n 2. minima of quadratic form x'Ax over a normed vector is :\",l2)"
   ]
  },
  {
   "cell_type": "markdown",
   "id": "4b837f3d",
   "metadata": {},
   "source": [
    "# Aim 3 : To obtain maxima and minima of the ratio of two Quadratric forms over normed vector"
   ]
  },
  {
   "cell_type": "code",
   "execution_count": 3,
   "id": "f035256d",
   "metadata": {
    "scrolled": true
   },
   "outputs": [
    {
     "name": "stdout",
     "output_type": "stream",
     "text": [
      "\n",
      "\n",
      "part 3 : To obtain maxima and minima of the ratio of two Quadratric forms over normed vector\n",
      "\n",
      "\n",
      " Suppose we have two quadratic forms such that \n",
      "\n",
      "First quadratic form is Q1(x)=x'Ax=(2x1)^2-(14x2)^2-(7x3)^2+(20x1x2)-(12x1x3)+(20x2x3)\n",
      "\n",
      "Second quadratic form is Q2(x)=x'Bx=(6x1)^2+(17x2)^2+(6x3)^2+(6x1x2)-(2x1x3)-(20x2x3)\n",
      "\n",
      " matrix  form of first quadratic form is \n",
      "A : \n",
      "\n",
      " [[  2  10  -6]\n",
      " [ 10 -14  10]\n",
      " [ -6  10  -7]]\n",
      "\n",
      " matrix  form of second quadratic form is \n",
      "B : \n",
      "\n",
      " [[  6   3  -1]\n",
      " [  3  17 -10]\n",
      " [ -1 -10   6]]\n",
      "\n",
      "\n",
      "The inverse of matrix B is  :\n",
      "\n",
      " [[  2.  -8. -13.]\n",
      " [ -8.  35.  57.]\n",
      " [-13.  57.  93.]]\n",
      "\n",
      " The matrix M is obtained by premultiplying B-inverse to matrix A \n",
      "M : \n",
      "\n",
      " [[ 2.00000000e+00  2.00000000e+00 -1.00000000e+00]\n",
      " [-8.00000000e+00  4.26325641e-14 -1.00000000e+00]\n",
      " [-1.40000000e+01  2.00000000e+00 -3.00000000e+00]]\n",
      "\n",
      "\n",
      "The eigen values of matrix M are : \n",
      "\n",
      "  [-2.00000000e+00  1.00000000e+00  2.56540425e-13]\n",
      "\n",
      " 1. maxima of ratio of two quadratic forms x'Ax & x'Bx over a normed vector is : 1.0\n",
      "\n",
      " 2. minima of ratio of two quadratic forms x'Ax & x'Bx over a normed vector is  : -2.0\n"
     ]
    }
   ],
   "source": [
    "\n",
    "\n",
    "print(\"\\n\\npart 3 : To obtain maxima and minima of the ratio of two Quadratric forms over normed vector\")\n",
    "\n",
    "print(\"\\n\\n Suppose we have two quadratic forms such that \")\n",
    "print(\"\\nFirst quadratic form is Q1(x)=x'Ax=(2x1)^2-(14x2)^2-(7x3)^2+(20x1x2)-(12x1x3)+(20x2x3)\")\n",
    "print(\"\\nSecond quadratic form is Q2(x)=x'Bx=(6x1)^2+(17x2)^2+(6x3)^2+(6x1x2)-(2x1x3)-(20x2x3)\")      \n",
    "\n",
    "\n",
    "\n",
    "A = np.mat(\"2 10 -6 ; 10 -14 10 ; -6 10 -7 \")\n",
    "\n",
    "print(\"\\n matrix  form of first quadratic form is \")  \n",
    "\n",
    "print(\"A : \\n\\n\",A)\n",
    "\n",
    "B = np.mat(\"6 3 -1 ; 3 17 -10 ; -1 -10 6\")\n",
    "\n",
    "print(\"\\n matrix  form of second quadratic form is \")  \n",
    "\n",
    "\n",
    "print(\"B : \\n\\n\",B)\n",
    " \n",
    "z=np.linalg.inv(B)\n",
    "\n",
    "print(\"\\n\\nThe inverse of matrix B is  :\\n\\n\",z)\n",
    "\n",
    "\n",
    "print(\"\\n The matrix M is obtained by premultiplying B-inverse to matrix A \") \n",
    "\n",
    "M=np.dot(z,A)   \n",
    "\n",
    "print(\"M : \\n\\n\",M)\n",
    "\n",
    "\n",
    "\n",
    "e1 = np.linalg.eigvals(M)\n",
    "\n",
    "\n",
    "print(\"\\n\\nThe eigen values of matrix M are : \\n\\n \", e1)\n",
    "\n",
    "l3=max(e1)\n",
    "newl3=np.round(l3)\n",
    "l4=min(e1)\n",
    "newl4=np.round(l4)\n",
    "\n",
    "print(\"\\n 1. maxima of ratio of two quadratic forms x'Ax & x'Bx over a normed vector is :\",newl3)\n",
    "\n",
    "print(\"\\n 2. minima of ratio of two quadratic forms x'Ax & x'Bx over a normed vector is  :\",newl4)\n",
    "\n"
   ]
  }
 ],
 "metadata": {
  "kernelspec": {
   "display_name": "Python 3",
   "language": "python",
   "name": "python3"
  },
  "language_info": {
   "codemirror_mode": {
    "name": "ipython",
    "version": 3
   },
   "file_extension": ".py",
   "mimetype": "text/x-python",
   "name": "python",
   "nbconvert_exporter": "python",
   "pygments_lexer": "ipython3",
   "version": "3.9.5"
  }
 },
 "nbformat": 4,
 "nbformat_minor": 5
}
