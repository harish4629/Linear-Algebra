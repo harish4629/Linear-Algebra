{
 "cells": [
  {
   "cell_type": "markdown",
   "id": "81dcd472",
   "metadata": {},
   "source": [
    "# CHECKING VARIOUS PROPERTIES OF MATRICES\n"
   ]
  },
  {
   "cell_type": "code",
   "execution_count": 2,
   "id": "7558f104",
   "metadata": {},
   "outputs": [],
   "source": [
    "import numpy as np"
   ]
  },
  {
   "cell_type": "code",
   "execution_count": 111,
   "id": "15bc28cc",
   "metadata": {},
   "outputs": [
    {
     "name": "stdout",
     "output_type": "stream",
     "text": [
      "[[ 4 56 89]\n",
      " [56  5 -9]\n",
      " [89 -9  4]]\n"
     ]
    }
   ],
   "source": [
    "A=np.array([[4,56,89],[56,5,-9],[89,-9,4]])\n",
    "print(A)"
   ]
  },
  {
   "cell_type": "markdown",
   "id": "f5b0d24f",
   "metadata": {},
   "source": [
    "### SIZE OF MATRIX AND CHECK WHETHER GIVEN MATRIX IS SQUARE OR NOT\n",
    "\n",
    "\n",
    "\n",
    "\n"
   ]
  },
  {
   "cell_type": "code",
   "execution_count": 112,
   "id": "ca7aed3b",
   "metadata": {},
   "outputs": [
    {
     "name": "stdout",
     "output_type": "stream",
     "text": [
      "\n",
      " Size of matrix A is: (3, 3)\n",
      "\n",
      " A is square matrix with dimensions 3 x 3\n"
     ]
    }
   ],
   "source": [
    "[m,n]=A.shape\n",
    "print(\"\\n Size of matrix A is:\",A.shape)\n",
    "\n",
    "if m == n:\n",
    "    print(\"\\n A is square matrix with dimensions\",m,'x',n)\n",
    "else:\n",
    "    print(\"\\n A is not square matrix with dimensions\",m,'x',n)"
   ]
  },
  {
   "cell_type": "markdown",
   "id": "7d4e84ae",
   "metadata": {},
   "source": [
    "### CHECK WHETHER GIVEN MATRIX IS IDEMPOTENT OR NOT\n",
    "\n"
   ]
  },
  {
   "cell_type": "code",
   "execution_count": 99,
   "id": "7b2b5baa",
   "metadata": {},
   "outputs": [
    {
     "name": "stdout",
     "output_type": "stream",
     "text": [
      "matrix is not idempotent\n"
     ]
    }
   ],
   "source": [
    "A=np.array([[4,56,89],[56,5,-9],[89,-9,4]])\n",
    "AA=np.linalg.matrix_power(A,2)\n",
    "\n",
    "if np.array_equal(A,AA):\n",
    "    print(\"matrix is idempotent\")\n",
    "\n",
    "else: \n",
    "    print(\"matrix is not idempotent\")"
   ]
  },
  {
   "cell_type": "markdown",
   "id": "34a7c986",
   "metadata": {},
   "source": [
    "### TRANSPOSE OF A MATRIX \n",
    "\n",
    "\n",
    "        "
   ]
  },
  {
   "cell_type": "code",
   "execution_count": 100,
   "id": "0372d575",
   "metadata": {},
   "outputs": [
    {
     "name": "stdout",
     "output_type": "stream",
     "text": [
      "[[ 4 56 89]\n",
      " [65  5 10]\n",
      " [98  9  4]]\n",
      "\n",
      " Transpose of matrix B is: \n",
      " [[ 4 65 98]\n",
      " [56  5  9]\n",
      " [89 10  4]]\n"
     ]
    }
   ],
   "source": [
    "B=np.array([[4,56,89],[65,5,10],[98,9,4]])\n",
    "print(B)\n",
    "print(\"\\n Transpose of matrix B is:\",\"\\n\",np.transpose(B))\n",
    "\n",
    "# print(\"\\n Transpose of matrix B is:\" , \"\\n\",B.T)\n"
   ]
  },
  {
   "cell_type": "markdown",
   "id": "ca731e8d",
   "metadata": {},
   "source": [
    "###  CHECK WHETHER GIVEN MATRIX IS SYMMETRIC OR NOT\n",
    "\n"
   ]
  },
  {
   "cell_type": "code",
   "execution_count": 164,
   "id": "93d25654",
   "metadata": {},
   "outputs": [
    {
     "name": "stdout",
     "output_type": "stream",
     "text": [
      "matrix is not symmetric\n"
     ]
    }
   ],
   "source": [
    "if np.array_equal(B,B.T):\n",
    "    print(\"matrix is symmetric\")\n",
    "\n",
    "else: \n",
    "    print(\"matrix is not symmetric\")"
   ]
  },
  {
   "cell_type": "markdown",
   "id": "c2f2ce58",
   "metadata": {},
   "source": [
    "### CHECK WHETHER GIVEN MATRIX IS SINGULAR OR NON-SINGULAR\n",
    "\n"
   ]
  },
  {
   "cell_type": "code",
   "execution_count": 94,
   "id": "60876445",
   "metadata": {},
   "outputs": [
    {
     "name": "stdout",
     "output_type": "stream",
     "text": [
      "Determinant of matrix A is: -142105.00000000006\n",
      "matrix is non-singular\n"
     ]
    }
   ],
   "source": [
    "A=np.array([[4,56,89],[56,5,-9],[89,-9,4]])\n",
    "det_A=np.linalg.det(A)\n",
    "print(\"Determinant of matrix A is:\",det_A)\n",
    "\n",
    "if np.array_equal(det_A,0):\n",
    "    print(\"matrix is singular\")\n",
    "\n",
    "else: \n",
    "    print(\"matrix is non-singular\")"
   ]
  },
  {
   "cell_type": "markdown",
   "id": "c1f058e2",
   "metadata": {},
   "source": [
    "### RANK OF MATRIX"
   ]
  },
  {
   "cell_type": "code",
   "execution_count": 95,
   "id": "05c35481",
   "metadata": {},
   "outputs": [
    {
     "data": {
      "text/plain": [
       "3"
      ]
     },
     "execution_count": 95,
     "metadata": {},
     "output_type": "execute_result"
    }
   ],
   "source": [
    "np.linalg.matrix_rank(A)"
   ]
  },
  {
   "cell_type": "markdown",
   "id": "93f59f5f",
   "metadata": {},
   "source": [
    "### ORTHOGONALITY OF A MATRIX"
   ]
  },
  {
   "cell_type": "code",
   "execution_count": 150,
   "id": "594f7c09",
   "metadata": {},
   "outputs": [
    {
     "name": "stdout",
     "output_type": "stream",
     "text": [
      "[[1. 0. 0.]\n",
      " [0. 1. 0.]\n",
      " [0. 0. 1.]]\n",
      "\n",
      " [[ 4 56 89]\n",
      " [56  5 -9]\n",
      " [89 -9  4]]\n",
      "\n",
      " Inverse of matrix A exist.\n",
      "\n",
      " Inverse of matrix A is: \n",
      " [[ 0.00042926  0.00721298  0.00667816]\n",
      " [ 0.00721298  0.05562788 -0.03532599]\n",
      " [ 0.00667816 -0.03532599  0.02192745]]\n",
      "\n",
      " Given matrix is not orthogonal\n"
     ]
    }
   ],
   "source": [
    "I=np.eye(3,3)\n",
    "print(I)\n",
    "\n",
    "A=np.array([[4,56,89],[56,5,-9],[89,-9,4]])\n",
    "print(\"\\n\",A)\n",
    "\n",
    "if det_A != 0:\n",
    "    print(\"\\n Inverse of matrix A exist.\")\n",
    "else:\n",
    "    print(\"\\n Inverse of matrix A does not exist.\")\n",
    "\n",
    "    \n",
    "A_inv=np.linalg.inv(A)\n",
    "print(\"\\n Inverse of matrix A is:\",\"\\n\",A_inv)\n",
    "\n",
    "if np.array_equal(A.T*A,I):\n",
    "    print(\"\\n Given matrix is orthogonal\")\n",
    "elif np.array_equal(A*A.T,I):\n",
    "    print(\"\\n Given matrix is orthogonal\")\n",
    "else:\n",
    "    print(\"\\n Given matrix is not orthogonal\")"
   ]
  },
  {
   "cell_type": "markdown",
   "id": "98185184",
   "metadata": {},
   "source": [
    "### EIGEN VALUES\n"
   ]
  },
  {
   "cell_type": "code",
   "execution_count": 154,
   "id": "cd74cca4",
   "metadata": {},
   "outputs": [
    {
     "name": "stdout",
     "output_type": "stream",
     "text": [
      "E= [-105.1922449   105.37186251   12.82038239]\n",
      "\n",
      " V= [[-0.69350282  0.71968967 -0.03317559]\n",
      " [ 0.4013093   0.34764426 -0.84740446]\n",
      " [ 0.59833493  0.60099105  0.52991043]]\n"
     ]
    }
   ],
   "source": [
    "E,V=np.linalg.eig(A)\n",
    "print(\"E=\",E)\n",
    "print(\"\\n V=\",V)\n",
    "\n"
   ]
  },
  {
   "cell_type": "code",
   "execution_count": 168,
   "id": "71e428a7",
   "metadata": {},
   "outputs": [
    {
     "name": "stdout",
     "output_type": "stream",
     "text": [
      "[[  16 3136 7921]\n",
      " [3136   25   81]\n",
      " [7921   81   16]]\n",
      "\n",
      " Values= [ 8563.80353191 -8475.14008693   -31.66344499]\n",
      "\n",
      " Vector= \n",
      " [[ 0.70591138  0.70826261  0.00729308]\n",
      " [ 0.26548542 -0.25503008 -0.92977263]\n",
      " [ 0.65666324 -0.65827329  0.36806203]]\n"
     ]
    }
   ],
   "source": [
    "A_2=A*A\n",
    "print(A_2)\n",
    "\n",
    "Values,Vector=np.linalg.eig(A_2)\n",
    "print(\"\\n Values=\",Values)\n",
    "print(\"\\n Vector=\",\"\\n\",Vector)\n"
   ]
  },
  {
   "cell_type": "markdown",
   "id": "055e5ac0",
   "metadata": {},
   "source": [
    "### DEFINITENESS OF A MATRIX"
   ]
  },
  {
   "cell_type": "code",
   "execution_count": 169,
   "id": "dd01d486",
   "metadata": {},
   "outputs": [
    {
     "name": "stdout",
     "output_type": "stream",
     "text": [
      "\n",
      "\t The given matrix is indefinite\n"
     ]
    }
   ],
   "source": [
    "if np.all(E>0):\n",
    "    print('\\n\\t The given matrix is positive definite')\n",
    "elif np.all(E>=0):\n",
    "    print('\\n\\t The given matrix is positive semi-definite')\n",
    "elif np.all(E<0):\n",
    "    print('\\n\\t The given matrix is negative definite')\n",
    "elif np.all(E<=0):\n",
    "    print('\\n\\t The given matrix is negative semidefinite')\n",
    "else:\n",
    "    print('\\n\\t The given matrix is indefinite')"
   ]
  },
  {
   "cell_type": "markdown",
   "id": "4edb2747",
   "metadata": {},
   "source": [
    "### SKEW SYMMETRIC MATRIX"
   ]
  },
  {
   "cell_type": "code",
   "execution_count": 170,
   "id": "1285cda9",
   "metadata": {},
   "outputs": [
    {
     "name": "stdout",
     "output_type": "stream",
     "text": [
      "A is not skew symmetric matrix\n"
     ]
    }
   ],
   "source": [
    "if np.array_equal(A,-A.T):\n",
    "    print(\"A is skew symmetric matrix\")\n",
    "else:\n",
    "    print(\"A is not skew symmetric matrix\")"
   ]
  },
  {
   "cell_type": "code",
   "execution_count": 179,
   "id": "cd479be4",
   "metadata": {},
   "outputs": [
    {
     "name": "stdout",
     "output_type": "stream",
     "text": [
      "Upper triangular matrix is: \n",
      " [[ 4 56 89]\n",
      " [ 0  5 -9]\n",
      " [ 0  0  4]] \n",
      "\n",
      "Lower triangular matrix is: \n",
      " [[ 4  0  0]\n",
      " [56  5  0]\n",
      " [89 -9  4]] \n",
      "\n"
     ]
    }
   ],
   "source": [
    "print(\"Upper triangular matrix is: \\n\", np.triu(A), \"\\n\")\n",
    "print(\"Lower triangular matrix is: \\n\", np.tril(A), \"\\n\")"
   ]
  },
  {
   "cell_type": "markdown",
   "id": "7a8d5737",
   "metadata": {},
   "source": [
    "### DIAGONAL ELEMENTS OF A MATRIX"
   ]
  },
  {
   "cell_type": "code",
   "execution_count": 195,
   "id": "15f139dd",
   "metadata": {},
   "outputs": [
    {
     "name": "stdout",
     "output_type": "stream",
     "text": [
      "[[ 4 56 89]\n",
      " [65  5 -9]\n",
      " [89 10  4]]\n",
      "\n",
      " Main Diagonal elements: [4 5 4]\n",
      "\n",
      " Diagonal above main Diagonal elements: [56 -9]\n",
      "\n",
      " Diagonal below main Diagonal elements: [65 10]\n"
     ]
    }
   ],
   "source": [
    "A=np.array([[4,56,89],[65,5,-9],[89,10,4]])\n",
    "print(A)\n",
    "print(\"\\n Main Diagonal elements:\",A.diagonal())\n",
    "print(\"\\n Diagonal above main Diagonal elements:\",np.diag(A, 1))\n",
    "print(\"\\n Diagonal below main Diagonal elements:\",np.diag(A, -1))"
   ]
  },
  {
   "cell_type": "markdown",
   "id": "72491f25",
   "metadata": {},
   "source": [
    "### FORMATION OF MATRIX USING "
   ]
  },
  {
   "cell_type": "code",
   "execution_count": 7,
   "id": "8007d85d",
   "metadata": {},
   "outputs": [
    {
     "name": "stdout",
     "output_type": "stream",
     "text": [
      "[[4 0 0 0 0 0]\n",
      " [0 4 0 0 0 0]\n",
      " [0 0 4 0 0 0]\n",
      " [0 0 0 4 0 0]\n",
      " [0 0 0 0 0 0]\n",
      " [0 0 0 0 0 0]]\n"
     ]
    }
   ],
   "source": [
    "A=np.diag([4,4,4,4,0,0])\n",
    "print(A)"
   ]
  },
  {
   "cell_type": "code",
   "execution_count": 19,
   "id": "2cd200a5",
   "metadata": {},
   "outputs": [
    {
     "name": "stdout",
     "output_type": "stream",
     "text": [
      "[[ 0  0  0  0  0  0]\n",
      " [ 0  0  0  0  0  0]\n",
      " [ 0  0  0  0  0  0]\n",
      " [ 0  0  0  0  0  0]\n",
      " [20  0  0  0  0  0]\n",
      " [ 0 -9  0  0  0  0]]\n"
     ]
    }
   ],
   "source": [
    "data=np.array([6,7,9])\n",
    "A=np.diag(data, k=3)\n",
    "A=np.diag([20,-9],k=-4)\n",
    "print(A)"
   ]
  },
  {
   "cell_type": "code",
   "execution_count": 15,
   "id": "43ee6675",
   "metadata": {},
   "outputs": [
    {
     "data": {
      "text/plain": [
       "array([[  0, -10,   0,   0,   0,   0],\n",
       "       [  0,   0,   3,   0,   0,   0],\n",
       "       [  0,   0,   0,  89,   0,   0],\n",
       "       [  0,   0,   0,   0,   2,   0],\n",
       "       [  0,   0,   0,   0,   0,  -8],\n",
       "       [  0,   0,   0,   0,   0,   0]])"
      ]
     },
     "execution_count": 15,
     "metadata": {},
     "output_type": "execute_result"
    }
   ],
   "source": [
    "data=np.array([-10,3,89,2,-8])\n",
    "np.diag(data,k=1)"
   ]
  },
  {
   "cell_type": "code",
   "execution_count": 16,
   "id": "de4393e7",
   "metadata": {},
   "outputs": [
    {
     "data": {
      "text/plain": [
       "array([[  0,   0,   9,   0,   0,   0],\n",
       "       [  0,   0,   0, 100,   0,   0],\n",
       "       [  0,   0,   0,   0, -20,   0],\n",
       "       [  0,   0,   0,   0,   0,  80],\n",
       "       [  0,   0,   0,   0,   0,   0],\n",
       "       [  0,   0,   0,   0,   0,   0]])"
      ]
     },
     "execution_count": 16,
     "metadata": {},
     "output_type": "execute_result"
    }
   ],
   "source": [
    "data=np.array([9,100,-20,80])\n",
    "np.diag(data,k=2)"
   ]
  },
  {
   "cell_type": "code",
   "execution_count": null,
   "id": "ae0485ad",
   "metadata": {},
   "outputs": [],
   "source": []
  }
 ],
 "metadata": {
  "kernelspec": {
   "display_name": "Python 3",
   "language": "python",
   "name": "python3"
  },
  "language_info": {
   "codemirror_mode": {
    "name": "ipython",
    "version": 3
   },
   "file_extension": ".py",
   "mimetype": "text/x-python",
   "name": "python",
   "nbconvert_exporter": "python",
   "pygments_lexer": "ipython3",
   "version": "3.9.5"
  }
 },
 "nbformat": 4,
 "nbformat_minor": 5
}
