{
 "cells": [
  {
   "cell_type": "markdown",
   "id": "1ede209e",
   "metadata": {},
   "source": [
    "# Solving System of Linear Equations"
   ]
  },
  {
   "cell_type": "markdown",
   "id": "c1d0cdb1",
   "metadata": {},
   "source": [
    "## Assignment 1 \n",
    "### by Group 4\n",
    "#### Shubham Shende , Sham Patil , Shivani Dhangar"
   ]
  },
  {
   "cell_type": "markdown",
   "id": "b41e1966",
   "metadata": {},
   "source": [
    "## Problem 1"
   ]
  },
  {
   "cell_type": "code",
   "execution_count": 1,
   "id": "0842baf3",
   "metadata": {},
   "outputs": [
    {
     "name": "stdout",
     "output_type": "stream",
     "text": [
      "A\n",
      " [[ 2  1  2  1 -1]\n",
      " [ 0  0  1  1 -3]\n",
      " [ 1  0  0 -2  1]\n",
      " [ 2  0  2  0 -1]\n",
      " [ 3  0  4 10 -2]\n",
      " [-1  0  0 10  0]]\n",
      "b\n",
      " [[-10]\n",
      " [  3]\n",
      " [  1]\n",
      " [ -1]\n",
      " [  5]\n",
      " [  7]]\n"
     ]
    }
   ],
   "source": [
    "import numpy as np\n",
    "A = np.matrix([[2,1,2,1,-1],\n",
    "               [0,0,1,1,-3],\n",
    "               [1,0,0,-2,1],\n",
    "               [2,0,2,0,-1],\n",
    "               [3,0,4,10,-2],\n",
    "               [-1,0,0,10,0]])\n",
    "print(\"A\\n\",A)\n",
    "b=np.matrix([[-10],[3],[1],[-1],[5],[7]])\n",
    "print(\"b\\n\",b)"
   ]
  },
  {
   "cell_type": "markdown",
   "id": "5294c06a",
   "metadata": {},
   "source": [
    "if matrix is full column rank matrix then sythem of linear equation has a one perticular solution & if matrix is not full column rank matrix then sythem of linear equation has a infinitely many solution."
   ]
  },
  {
   "cell_type": "code",
   "execution_count": 2,
   "id": "b5934a3d",
   "metadata": {},
   "outputs": [
    {
     "name": "stdout",
     "output_type": "stream",
     "text": [
      "r\n",
      " 5\n"
     ]
    }
   ],
   "source": [
    "r= np.linalg.matrix_rank(A)\n",
    "print(\"r\\n\" ,r)"
   ]
  },
  {
   "cell_type": "markdown",
   "id": "e1502dc6",
   "metadata": {},
   "source": [
    "it is singular matrix. There exist generlized inverse of matrix A."
   ]
  },
  {
   "cell_type": "code",
   "execution_count": 3,
   "id": "65dda6f4",
   "metadata": {},
   "outputs": [
    {
     "name": "stdout",
     "output_type": "stream",
     "text": [
      "size\n",
      " (6, 5)\n",
      "G\n",
      " [[0. 0. 0. 0. 0.]\n",
      " [0. 0. 0. 0. 0.]\n",
      " [0. 0. 0. 0. 0.]\n",
      " [0. 0. 0. 0. 0.]\n",
      " [0. 0. 0. 0. 0.]\n",
      " [0. 0. 0. 0. 0.]]\n",
      "B\n",
      " [[ 2  1  2  1 -1]\n",
      " [ 0  0  1  1 -3]\n",
      " [ 1  0  0 -2  1]\n",
      " [ 2  0  2  0 -1]\n",
      " [-1  0  0 10  0]]\n",
      "rB\n",
      " 5\n",
      "The G inverse of given matrix is\n",
      " [[ 0.      0.9091  2.2727 -0.4545  0.      0.3636]\n",
      " [ 1.     -0.0909 -0.2273 -0.9545  0.     -0.1364]\n",
      " [ 0.     -1.2727 -2.6818  1.1364  0.     -0.4091]\n",
      " [ 0.      0.0909  0.2273 -0.0455  0.      0.1364]\n",
      " [ 0.     -0.7273 -0.8182  0.3636  0.     -0.0909]]\n"
     ]
    }
   ],
   "source": [
    "size=np.shape(A)                                   #size (Dimension) of A\n",
    "print(\"size\\n\",size)\n",
    "m=size[0]\n",
    "n=size[1]\n",
    "\n",
    "G=np.zeros((m,n))                                  #creating zeros  matrix G of order(m,n)\n",
    "print(\"G\\n\",G)\n",
    "  \n",
    "B=A[np.ix_([0,1,2,3,r],[0,1,2,3,r-1])]             # choosing  matrix B such thant rank of B is equal to r\n",
    "print(\"B\\n\",B)\n",
    "\n",
    "rB=np.linalg.matrix_rank(B)                        # rank of B\n",
    "print(\"rB\\n\",rB)\n",
    "if rB==r:\n",
    "    G[np.ix_([0,1,2,3,r],[0,1,2,3,r-1])]=np.linalg.inv(B.T)\n",
    "    G=G.T\n",
    "    print(\"The G inverse of given matrix is\\n\",np.round(G,4))\n",
    " \n"
   ]
  },
  {
   "cell_type": "markdown",
   "id": "5386c400",
   "metadata": {},
   "source": [
    "solution of system having b vector (coefficient vector) (34 -45 129) is sol=G*b+(I-GA)*Z where z is any random vector"
   ]
  },
  {
   "cell_type": "code",
   "execution_count": 4,
   "id": "e2041f04",
   "metadata": {},
   "outputs": [
    {
     "name": "stdout",
     "output_type": "stream",
     "text": [
      "Z1\n",
      " [[6.24]\n",
      " [2.26]\n",
      " [7.81]\n",
      " [8.9 ]\n",
      " [7.28]]\n",
      "Z2\n",
      " [[4.37]\n",
      " [4.94]\n",
      " [9.62]\n",
      " [3.89]\n",
      " [7.51]]\n",
      "I\n",
      " [[1. 0. 0. 0. 0.]\n",
      " [0. 1. 0. 0. 0.]\n",
      " [0. 0. 1. 0. 0.]\n",
      " [0. 0. 0. 1. 0.]\n",
      " [0. 0. 0. 0. 1.]]\n",
      "First solution of given system of linear eqiation having  \n",
      " [[  8. ]\n",
      " [-10.5]\n",
      " [-10.5]\n",
      " [  1.5]\n",
      " [ -4. ]]\n",
      "Second solution of given system of linear eqiation having  \n",
      " [[  8. ]\n",
      " [-10.5]\n",
      " [-10.5]\n",
      " [  1.5]\n",
      " [ -4. ]]\n"
     ]
    }
   ],
   "source": [
    "Z1=10*np.random.uniform(size=(5,1))\n",
    "print(\"Z1\\n\",np.round(Z1,2))\n",
    "Z2=10*np.random.uniform(size=(5,1))\n",
    "print(\"Z2\\n\",np.round(Z2,2))\n",
    "I=np.eye(n)\n",
    "print(\"I\\n\",I)\n",
    "sol_1=G*b+(I-G*A)*Z1\n",
    "sol_2=G*b+(I-G*A)*Z2\n",
    "print(\"First solution of given system of linear eqiation having  \\n\",np.round(sol_1,2))\n",
    "print(\"Second solution of given system of linear eqiation having  \\n\",np.round(sol_2,2))\n"
   ]
  },
  {
   "cell_type": "markdown",
   "id": "06517481",
   "metadata": {},
   "source": [
    "## problem 2"
   ]
  },
  {
   "cell_type": "markdown",
   "id": "d5312ffc",
   "metadata": {},
   "source": [
    "finding general solution of linear equation of system A x = B"
   ]
  },
  {
   "cell_type": "code",
   "execution_count": 5,
   "id": "b72fc437",
   "metadata": {},
   "outputs": [
    {
     "name": "stdout",
     "output_type": "stream",
     "text": [
      "A\n",
      " [[2 2 0 4]\n",
      " [1 0 3 1]\n",
      " [6 6 1 8]\n",
      " [2 4 5 2]]\n",
      "b\n",
      " [[ 2]\n",
      " [ 6]\n",
      " [12]\n",
      " [ 2]]\n"
     ]
    }
   ],
   "source": [
    "import numpy as np\n",
    "A = np.matrix([[2,2,0,4],\n",
    "               [1,0,3,1],\n",
    "               [6,6,1,8],\n",
    "              [2,4,5,2]])\n",
    "print(\"A\\n\" ,A)\n",
    "b=np.matrix([[2],\n",
    "             [6],\n",
    "             [12],\n",
    "             [2]])\n",
    "print(\"b\\n\" ,b)"
   ]
  },
  {
   "cell_type": "markdown",
   "id": "0d838215",
   "metadata": {},
   "source": [
    "if matrix is full column rank matrix then sythem of linear equation has a one perticular solution &\n",
    "if matrix is not full column rank matrix then sythem of linear equation has a infinitely many solution.\n"
   ]
  },
  {
   "cell_type": "code",
   "execution_count": 6,
   "id": "02bde576",
   "metadata": {},
   "outputs": [
    {
     "name": "stdout",
     "output_type": "stream",
     "text": [
      "rank\n",
      " 4\n"
     ]
    }
   ],
   "source": [
    "rank = np.linalg.matrix_rank(A)\n",
    "print(\"rank\\n\" ,rank)"
   ]
  },
  {
   "cell_type": "markdown",
   "id": "60d6635c",
   "metadata": {},
   "source": [
    "Given matrix rank is same as number of columns in it,\n",
    "hence, matrix is FCRM and \n",
    "Also it is non singular matrix \n",
    "therefore there exist a regular inverse of matrix A."
   ]
  },
  {
   "cell_type": "code",
   "execution_count": 7,
   "id": "9453db28",
   "metadata": {},
   "outputs": [
    {
     "name": "stdout",
     "output_type": "stream",
     "text": [
      "inv_A\n",
      " [[-1.075  0.35   0.575 -0.325]\n",
      " [ 0.025 -0.45  -0.025  0.275]\n",
      " [ 0.1    0.2   -0.1    0.1  ]\n",
      " [ 0.775  0.05  -0.275  0.025]]\n"
     ]
    }
   ],
   "source": [
    "inv_A=np.linalg.inv(A)\n",
    "print(\"inv_A\\n\" ,inv_A)"
   ]
  },
  {
   "cell_type": "markdown",
   "id": "a2a2c710",
   "metadata": {},
   "source": [
    "solution of system is x = Inv_A * B"
   ]
  },
  {
   "cell_type": "code",
   "execution_count": 8,
   "id": "260ac160",
   "metadata": {},
   "outputs": [
    {
     "name": "stdout",
     "output_type": "stream",
     "text": [
      "solution of a given syatem of linear equations is\n",
      " [[ 6.2]\n",
      " [-2.4]\n",
      " [ 0.4]\n",
      " [-1.4]]\n"
     ]
    }
   ],
   "source": [
    "sol=inv_A*b\n",
    "print(\"solution of a given syatem of linear equations is\\n\" ,sol)"
   ]
  },
  {
   "cell_type": "markdown",
   "id": "18522db3",
   "metadata": {},
   "source": [
    "## Problem 3"
   ]
  },
  {
   "cell_type": "code",
   "execution_count": 9,
   "id": "ebaab6ad",
   "metadata": {},
   "outputs": [
    {
     "name": "stdout",
     "output_type": "stream",
     "text": [
      "A\n",
      " [[  3   5   2  -4  -6]\n",
      " [  1   2  -4  -6   7]\n",
      " [  8   3  10  -6 -25]]\n"
     ]
    }
   ],
   "source": [
    "A= np.matrix([[3,5,2,-4,-6],\n",
    "               [1,2,-4,-6,7],\n",
    "               [8,3,10,-6,-25]])\n",
    "print(\"A\\n\" ,A)"
   ]
  },
  {
   "cell_type": "markdown",
   "id": "f6beaafa",
   "metadata": {},
   "source": [
    "if matrix is full column rank matrix then sythem of linear equation has a one perticular solution &\n",
    "if matrix is not full column rank matrix then sythem of linear equation has a infinitely many solution."
   ]
  },
  {
   "cell_type": "code",
   "execution_count": 10,
   "id": "302222b5",
   "metadata": {},
   "outputs": [
    {
     "name": "stdout",
     "output_type": "stream",
     "text": [
      "r\n",
      " 3\n"
     ]
    }
   ],
   "source": [
    "r= np.linalg.matrix_rank(A)\n",
    "print(\"r\\n\" ,r)"
   ]
  },
  {
   "cell_type": "markdown",
   "id": "501ec17d",
   "metadata": {},
   "source": [
    "Given matrix is not FCRM & also it is singular matrix. There exist generlized inverse of matrix A."
   ]
  },
  {
   "cell_type": "code",
   "execution_count": 11,
   "id": "cad238c5",
   "metadata": {},
   "outputs": [
    {
     "name": "stdout",
     "output_type": "stream",
     "text": [
      "size\n",
      " (3, 5)\n",
      "G\n",
      " [[0. 0. 0. 0. 0.]\n",
      " [0. 0. 0. 0. 0.]\n",
      " [0. 0. 0. 0. 0.]]\n",
      "B\n",
      " [[ 3  5  2]\n",
      " [ 1  2 -4]\n",
      " [ 8  3 10]]\n",
      "rB\n",
      " 3\n",
      "The G inverse of given matrix is\n",
      " [[-0.22857143  0.31428571  0.17142857]\n",
      " [ 0.3        -0.1        -0.1       ]\n",
      " [ 0.09285714 -0.22142857 -0.00714286]\n",
      " [ 0.          0.          0.        ]\n",
      " [ 0.          0.          0.        ]]\n"
     ]
    }
   ],
   "source": [
    "size=np.shape(A)                             #size (Dimension) of A\n",
    "print(\"size\\n\",size)\n",
    "m=size[0]\n",
    "n=size[1]\n",
    "\n",
    "G=np.zeros((m,n))                            #Creating a zeros matrix G of order (m,n)\n",
    "print(\"G\\n\",G)\n",
    "\n",
    "B=A[np.ix_([0,1,r-1],[0,1,r-1])]             # choosing matrix B such that its has rank equal to r\n",
    "print(\"B\\n\",B)\n",
    "rB= np.linalg.matrix_rank(B)\n",
    "print(\"rB\\n\" ,rB)\n",
    "\n",
    "if rB==r:                                                                \n",
    "    G[np.ix_([0,1,r-1],[0,1,r-1])]=np.linalg.inv(B.T)\n",
    "    G=(G.T)\n",
    "    print(\"The G inverse of given matrix is\\n\",G)"
   ]
  },
  {
   "cell_type": "code",
   "execution_count": 12,
   "id": "96e2e0d1",
   "metadata": {},
   "outputs": [
    {
     "name": "stdout",
     "output_type": "stream",
     "text": [
      "b\n",
      " [[0.]\n",
      " [0.]\n",
      " [0.]]\n",
      "Z\n",
      " [[4.29]\n",
      " [3.26]\n",
      " [3.39]\n",
      " [3.82]\n",
      " [7.81]]\n",
      "I\n",
      " [[1. 0. 0. 0. 0.]\n",
      " [0. 1. 0. 0. 0.]\n",
      " [0. 0. 1. 0. 0.]\n",
      " [0. 0. 0. 1. 0.]\n",
      " [0. 0. 0. 0. 1.]]\n"
     ]
    }
   ],
   "source": [
    "b=np.zeros((3,1))\n",
    "print(\"b\\n\",b)\n",
    "Z=10*np.random.uniform(size=(5,1))\n",
    "print(\"Z\\n\",np.round(Z,2))\n",
    "I=np.eye(n)\n",
    "print(\"I\\n\",I)\n"
   ]
  },
  {
   "cell_type": "markdown",
   "id": "3c57cb88",
   "metadata": {},
   "source": [
    "solution of homogeneous system of equations is x=(I-GA)*Z  where z is any random vector"
   ]
  },
  {
   "cell_type": "code",
   "execution_count": 13,
   "id": "8dd10eb6",
   "metadata": {},
   "outputs": [
    {
     "name": "stdout",
     "output_type": "stream",
     "text": [
      "solution of given system of linear equation having b(0,0,0) \n",
      " [[13.23]\n",
      " [-0.  ]\n",
      " [11.23]\n",
      " [ 3.82]\n",
      " [ 7.81]]\n"
     ]
    }
   ],
   "source": [
    "sol=(I-G*A)*Z\n",
    "print(\"solution of given system of linear equation having b(0,0,0) \\n\",np.round(sol,2))"
   ]
  },
  {
   "cell_type": "markdown",
   "id": "96ebd4be",
   "metadata": {},
   "source": [
    "solution of system having b vector (coefficient vector) (34 -45 129) is sol=G*b+(I-GA)*Z where z is any random vector"
   ]
  },
  {
   "cell_type": "code",
   "execution_count": 14,
   "id": "61b6c87a",
   "metadata": {},
   "outputs": [
    {
     "name": "stdout",
     "output_type": "stream",
     "text": [
      "b\n",
      " [[ 34]\n",
      " [-45]\n",
      " [129]]\n",
      "Z\n",
      " [[7.4 ]\n",
      " [3.85]\n",
      " [1.29]\n",
      " [6.36]\n",
      " [2.17]]\n",
      "I\n",
      " [[1. 0. 0. 0. 0.]\n",
      " [0. 1. 0. 0. 0.]\n",
      " [0. 0. 1. 0. 0.]\n",
      " [0. 0. 0. 1. 0.]\n",
      " [0. 0. 0. 0. 1.]]\n",
      "solution of given system of linear eqiation having b(34,-45,129) \n",
      " [[14.47]\n",
      " [ 1.8 ]\n",
      " [10.03]\n",
      " [ 6.36]\n",
      " [ 2.17]]\n"
     ]
    }
   ],
   "source": [
    "b=np.matrix([[34],[-45],[129]])\n",
    "print(\"b\\n\",b)\n",
    "Z=10*np.random.uniform(size=(5,1))\n",
    "print(\"Z\\n\",np.round(Z,2))\n",
    "I=np.eye(n)\n",
    "print(\"I\\n\",I)\n",
    "sol=G*b+(I-G*A)*Z\n",
    "print(\"solution of given system of linear eqiation having b(34,-45,129) \\n\",np.round(sol,2))"
   ]
  },
  {
   "cell_type": "code",
   "execution_count": null,
   "id": "a81a74f4",
   "metadata": {},
   "outputs": [],
   "source": []
  },
  {
   "cell_type": "code",
   "execution_count": null,
   "id": "75f11eb1",
   "metadata": {},
   "outputs": [],
   "source": []
  }
 ],
 "metadata": {
  "kernelspec": {
   "display_name": "Python 3",
   "language": "python",
   "name": "python3"
  },
  "language_info": {
   "codemirror_mode": {
    "name": "ipython",
    "version": 3
   },
   "file_extension": ".py",
   "mimetype": "text/x-python",
   "name": "python",
   "nbconvert_exporter": "python",
   "pygments_lexer": "ipython3",
   "version": "3.9.5"
  }
 },
 "nbformat": 4,
 "nbformat_minor": 5
}
