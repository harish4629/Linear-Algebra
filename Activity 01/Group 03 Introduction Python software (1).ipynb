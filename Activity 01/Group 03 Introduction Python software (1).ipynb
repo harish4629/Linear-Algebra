{
 "cells": [
  {
   "cell_type": "markdown",
   "id": "1a3255d7",
   "metadata": {},
   "source": [
    "# Introduction To Python Software:\n",
    "    Assignment \n",
    "    1.Asavari Deshmukh\n",
    "    2.Geetanjali Malpure\n",
    "    3.Sneha Mahale\n",
    "    4.Dinesh Jathar\n",
    "    5.Swapnil Rajput"
   ]
  },
  {
   "cell_type": "markdown",
   "id": "3d15e03a",
   "metadata": {},
   "source": [
    "### What is Python Software ?\n",
    "       Python is a high-level, interpreted, interactive and object-oriented scripting language. Python is designed to be           highly  readable. It uses English keywords frequently whereas the other languages use punctuations. It has fewer        syntactical constructions than other languages.\n",
    "\n",
    "### History of Python:\n",
    "    Python was developed by Guido van Rossum in the late eighties and early nineties at the National Research Institute for Mathematics and Computer Science in the Netherlands.\n",
    "\n",
    "    1. Python is derived from many other languages, including ABC, Modula-3, C, C++, Algol-68, SmallTalk, and Unix shell and other scripting languages.\n",
    "    2. Python is copyrighted. Like Perl, Python source code is now available under the GNU General Public License (GPL).\n",
    "    3. Python is now maintained by a core development team at the institute, although Guido van Rossum still holds a vital   role in directing its progress.\n",
    "            "
   ]
  },
  {
   "cell_type": "markdown",
   "id": "f92905e0",
   "metadata": {},
   "source": [
    "##### Use of '#' in python:\n",
    "            '#' isused for a comment in python markdown.\n",
    "            \n",
    "#####  Command to clear Python Interpreter Console on Window :\n",
    "Using Python Definition:\n",
    "\n",
    "import os\n",
    "\n",
    "def clear(): os.system('cls')       #on Windows System\n",
    "\n",
    "clear()"
   ]
  },
  {
   "cell_type": "markdown",
   "id": "cbd0db34",
   "metadata": {},
   "source": [
    "### Python IDLE:\n",
    "        Python IDLE looks very similar to python shell app or command prompt but it has many more functionalities. It comes with very powerful IDLE Editor tool.Python IDLE editor is a very easy to use and convenient for many people because of its GUI, designed as your simple Notepad file.\n",
    "\n",
    "#### How to run python in IDLE?\n",
    "    Once you have your program ready, save your program in any directory and execute the program from top bar of window.You can see many options available on top of window as such –File, Edit, Format, Run, Options, Windows, and Help.\n",
    "\n",
    "    You can run your program by selecting “Run” >> “Run Module” or just press “F5”. The output of your program will appear in the background “Python 3.8 Shell” window.\n",
    "\n",
    "    If your shell window is not open at that time, then the moment you click on “run module” or press- F5 shell window will automatically open with you program output."
   ]
  },
  {
   "cell_type": "markdown",
   "id": "9cf02e69",
   "metadata": {},
   "source": []
  },
  {
   "cell_type": "markdown",
   "id": "6eb7de54",
   "metadata": {},
   "source": [
    "#### Matrix operations on matrices using python:\n",
    "##### numpy Package- \n",
    "    The numpy library is the code library for scientific computing in python. It provide a high performance multi-dimensional array\n",
    "    object and tools for working with these arrays.\n",
    "\n",
    "In Python we can solve the different matrix manipulations and operations. Numpy Module provides different methods for matrix operations.\n",
    "\n",
    "add() − add elements of two matrices.\n",
    "\n",
    "subtract() − subtract elements of two matrices.\n",
    "\n",
    "divide() − divide elements of two matrices.\n",
    "\n",
    "multiply() − multiply elements of two matrices.\n",
    "\n",
    "dot() − It performs matrix multiplication, does not element wise multiplication.\n",
    "\n",
    "sqrt() − square root of each element of matrix.\n",
    "\n",
    "sum(x,axis) − add to all the elements in matrix. Second argument is optional, it is used when we want to compute the column sum if axis is 0 \n",
    "and row sum if axis is 1.\n",
    "\n",
    "“T” − It performs transpose of the specified matrix."
   ]
  },
  {
   "cell_type": "code",
   "execution_count": 1,
   "id": "aa2cfe6d",
   "metadata": {},
   "outputs": [
    {
     "name": "stdout",
     "output_type": "stream",
     "text": [
      "Addition of two matrices: \n",
      "[[ 8 10]\n",
      " [13 15]]\n",
      "Subtraction of two matrices : \n",
      "[[-6 -6]\n",
      " [-5 -5]]\n",
      "Matrix Division : \n",
      "[[0.14285714 0.25      ]\n",
      " [0.44444444 0.5       ]]\n",
      "Multiplication of two matrices: \n",
      "[[ 7 16]\n",
      " [36 50]]\n",
      "The product of two matrices : \n",
      "[[25 28]\n",
      " [73 82]]\n",
      "square root is : \n",
      "[[1.         1.41421356]\n",
      " [2.         2.23606798]]\n",
      "The summation of elements : \n",
      "34\n",
      "The column wise summation  : \n",
      "[16 18]\n",
      "The row wise summation: \n",
      "[15 19]\n",
      "Matrix transposition : \n",
      "[[1 4]\n",
      " [2 5]]\n"
     ]
    }
   ],
   "source": [
    "#### Example code:\n",
    "import numpy\n",
    "##### Two matrices are initialized by value\n",
    "x = numpy.array([[1, 2], [4, 5]])\n",
    "y = numpy.array([[7, 8], [9, 10]])\n",
    "#####  add()is used to add matrices\n",
    "print (\"Addition of two matrices: \")\n",
    "print (numpy.add(x,y))\n",
    "##### subtract()is used to subtract matrices\n",
    "print (\"Subtraction of two matrices : \")\n",
    "print (numpy.subtract(x,y))\n",
    "##### divide()is used to divide matrices\n",
    "print (\"Matrix Division : \")\n",
    "print (numpy.divide(x,y))\n",
    "print (\"Multiplication of two matrices: \")\n",
    "print (numpy.multiply(x,y))\n",
    "print (\"The product of two matrices : \")\n",
    "print (numpy.dot(x,y))\n",
    "print (\"square root is : \")\n",
    "print (numpy.sqrt(x))\n",
    "print (\"The summation of elements : \")\n",
    "print (numpy.sum(y))\n",
    "print (\"The column wise summation  : \")\n",
    "print (numpy.sum(y,axis=0))\n",
    "print (\"The row wise summation: \")\n",
    "print (numpy.sum(y,axis=1))\n",
    "##### using \"T\" to transpose the matrix\n",
    "print (\"Matrix transposition : \")\n",
    "print (x.T)"
   ]
  },
  {
   "cell_type": "markdown",
   "id": "0f36298c",
   "metadata": {},
   "source": [
    "##### Determinant and rank of matrix-\n",
    "        The NumPy library of Python makes it a breeze to evaluate the determinant of a matrix of any order.\n",
    "\n",
    "We will use the numpy.linalg.det( ) function from the linalg (linear algebra) module of the NumPy library to find the determinant of a matrix.For finding the rank of matrix, we use command rank = numpy.linalg.matrix_rank(a).\n",
    "***Example-"
   ]
  },
  {
   "cell_type": "code",
   "execution_count": 2,
   "id": "d6f246ba",
   "metadata": {},
   "outputs": [
    {
     "name": "stdout",
     "output_type": "stream",
     "text": [
      "Matrix A:\n",
      "[[ 2 -5]\n",
      " [ 6  7]]\n",
      "Determinant of Matrix A:\n",
      "44.0\n",
      "Rank of matrix A:  2\n"
     ]
    }
   ],
   "source": [
    "import numpy as np\n",
    "\n",
    "A = np.array([[2,-5],[6,7]])\n",
    "d = np.linalg.det(A)\n",
    "print('Matrix A:')\n",
    "print(A)\n",
    "print('Determinant of Matrix A:')\n",
    "print(np.around(d, decimals=4))   # Rounding the value\n",
    "rank = numpy.linalg.matrix_rank(A)\n",
    "print(\"Rank of matrix A: \",rank)"
   ]
  },
  {
   "cell_type": "markdown",
   "id": "a43e5e1e",
   "metadata": {},
   "source": [
    "#### Handling various types of file:\n",
    "    Python provides inbuilt functions for creating, writing and reading files. There are two types of files that can be \n",
    "handled in python, normal text files and binary files (written in binary language, 0s and 1s).\n",
    "\n",
    "1. Text files: In this type of file, Each line of text is terminated with a special character called EOL (End of Line), \n",
    "which is the new line character (‘\\n’) in python by default.\n",
    "2. Binary files: In this type of file, there is no terminator for a line and the data is stored after converting it   \n",
    "into machine-understandable binary language.\n",
    "\n",
    "***Syntax-\n",
    "File_object = open(r\"File_Name\", \"Access_Mode\")"
   ]
  },
  {
   "cell_type": "markdown",
   "id": "3f1a52af",
   "metadata": {},
   "source": [
    "##### Getting information about various components of Python using help command.\n",
    "\n",
    "The help() method calls the built-in Python help system.The help() method is used for interactive use. It's recommended \n",
    "to try it in your interpreter when you need help to write Python program and use Python modules.\n",
    "\n",
    "***Syntax-\n",
    "\n",
    "help(object)\n",
    "\n",
    "***Example-\n",
    "\n",
    "help(print)\n",
    "\n",
    "help(list)\n",
    "\n",
    "help(dict)\n"
   ]
  },
  {
   "cell_type": "markdown",
   "id": "5b9692ed",
   "metadata": {},
   "source": [
    "##### Print command in python:\n",
    "    The print() function prints the specified message to the screen, or other standard output device.\n",
    "\n",
    "The message can be a string, or any other object, the object will be converted into a string before written to the screen.\n",
    "\n",
    "***Syntax- \n",
    "\n",
    "print(object(s), sep=separator, end=end, file=file, flush=flush)\n",
    "\n",
    "\n",
    "###### Example-"
   ]
  },
  {
   "cell_type": "code",
   "execution_count": 3,
   "id": "4aca1238",
   "metadata": {},
   "outputs": [
    {
     "name": "stdout",
     "output_type": "stream",
     "text": [
      "Hello world\n",
      "Good morning\n"
     ]
    }
   ],
   "source": [
    "print(\"Hello world\")\n",
    "print(\"Good morning\")"
   ]
  },
  {
   "cell_type": "markdown",
   "id": "671ba973",
   "metadata": {},
   "source": [
    "#### Use of various commands related to looping (repetition) such as if, for, while, break:\n",
    "\n",
    "#####  if statement:\n",
    "    The IF statement is similar to that of other languages. The if statement contains a logical expression using which the data is compared and a decision is made based on the result of the comparison.\n",
    "    \n",
    "***Syntax-\n",
    "    if expression:\n",
    "    \n",
    "         statement(s)\n",
    "               \n",
    "\n",
    "#####  if...else statements:\n",
    "    An else statement can be combined with an if statement. An else statement contains a block of code that executes if the conditional expression in the if statement resolves to 0 or a FALSE value.The else statement is an optional statement and there could be at the most only one else statement following if.\n",
    "    \n",
    "***Syntax-\n",
    "    if expression:\n",
    "    \n",
    "      statement(s)\n",
    "   else:\n",
    "   \n",
    "       statement(s)\n",
    "       \n",
    "\n",
    "######  The elif Statement:\n",
    "    The elif statement allows you to check multiple expressions for TRUE and execute a block of code as soon as one of the conditions evaluates to TRUE.Similar to the else, the elif statement is optional. However, unlike else, for which there can be at the most one statement, there can be an arbitrary number of elif statements following an if.\n",
    "\n",
    "***Syntax-\n",
    "    if expression1:\n",
    "    \n",
    "     statement(s)\n",
    "elif expression2:\n",
    "\n",
    "      statement(s)\n",
    "elif expression3:\n",
    "\n",
    "     statement(s)\n",
    "else:\n",
    "\n",
    "     statement(s)\n",
    "     \n",
    "     \n",
    "######  while Loop Statements:\n",
    "    A while loop statement in Python programming language repeatedly executes a target statement as long as a given condition is true.\n",
    "\n",
    "***Syntax-\n",
    "while expression:\n",
    "\n",
    "    statement(s)\n",
    "    \n",
    "    \n",
    "#####  for Loop Statements:   \n",
    "    The for statement in Python has the ability to iterate over the items of any sequence, such as a list or a string.\n",
    "\n",
    "***Syntax-\n",
    "for iterating_var in sequence:\n",
    "\n",
    "    statements(s)\n",
    "    \n",
    "##### break statement:\n",
    "    The most common use of break is when some external condition is triggered requiring a hasty exit from a loop. The break statement can be used in both while and for loops.If you are using nested loops, the break statement stops the execution of the innermost loop and starts executing the next line of the code after the block.\n",
    "    \n",
    "***Syntax-\n",
    "break\n",
    "\n",
    "\n",
    "\n",
    " \n",
    " ##### Example:\n",
    " "
   ]
  },
  {
   "cell_type": "code",
   "execution_count": 4,
   "id": "be4b1bd8",
   "metadata": {},
   "outputs": [
    {
     "name": "stdout",
     "output_type": "stream",
     "text": [
      "1 - Got a true expression value\n",
      "100\n",
      "Enter amount: 56\n",
      "Discount 2.8000000000000003\n",
      "Net payable: 53.2\n",
      "Enter amount: 89\n",
      "Discount 4.45\n",
      "Net payable: 84.55\n",
      "The count is: 0\n",
      "The count is: 1\n",
      "The count is: 2\n",
      "The count is: 3\n",
      "The count is: 4\n",
      "The count is: 5\n",
      "The count is: 6\n",
      "The count is: 7\n",
      "The count is: 8\n",
      "Good bye!\n",
      "Current Letter : P\n",
      "Current Letter : y\n",
      "Current Letter : t\n",
      "Current Letter : h\n",
      "Current Letter : o\n",
      "Current Letter : n\n",
      "\n",
      "Current fruit : banana\n",
      "Current fruit : apple\n",
      "Current fruit : mango\n",
      "Good bye!\n",
      "any number: 33\n",
      "number found in list\n"
     ]
    }
   ],
   "source": [
    "##### 1). if - \n",
    "\n",
    "var1 = 100\n",
    "if var1:\n",
    " print (\"1 - Got a true expression value\")\n",
    " print (var1)\n",
    " \n",
    "#### 2). if-else - \n",
    "amount=int(input(\"Enter amount: \"))\n",
    "if amount<1000:\n",
    " discount=amount*0.05\n",
    " print (\"Discount\",discount)\n",
    "else:\n",
    " discount=amount*0.10\n",
    " print (\"Discount\",discount)\n",
    " \n",
    "print (\"Net payable:\",amount-discount)\n",
    "\n",
    "#### 3). if-elif -\n",
    "\n",
    "amount=int(input(\"Enter amount: \"))\n",
    "if amount<1000:\n",
    " discount=amount*0.05\n",
    " print (\"Discount\",discount)\n",
    "elif amount<5000:\n",
    " discount=amount*0.10\n",
    " print (\"Discount\",discount)\n",
    "else:\n",
    " discount=amount*0.15\n",
    " print (\"Discount\",discount)\n",
    "print (\"Net payable:\",amount-discount)\n",
    "\n",
    "#### 4). while -\n",
    "\n",
    "count = 0\n",
    "while (count < 9):\n",
    " print ('The count is:', count)\n",
    " count = count + 1\n",
    "print (\"Good bye!\")\n",
    "\n",
    "#### 5). for -\n",
    "\n",
    "for letter in 'Python': # traversal of a string sequence\n",
    " print ('Current Letter :', letter)\n",
    "print()\n",
    "fruits = ['banana', 'apple', 'mango']\n",
    "for fruit in fruits: # traversal of List sequence\n",
    " print ('Current fruit :', fruit)\n",
    "print (\"Good bye!\")\n",
    "\n",
    "#### 6). break -\n",
    "\n",
    "no=int(input('any number: '))\n",
    "numbers=[11,33,55,39,55,75,37,21,23,41,13]\n",
    "for num in numbers:\n",
    " if num==no:\n",
    "    print ('number found in list')\n",
    "    break\n",
    "else:\n",
    "    print ('number not found in list')\n"
   ]
  },
  {
   "cell_type": "markdown",
   "id": "2e80de87",
   "metadata": {},
   "source": [
    "### Various functions in statistics toolbox in Python:\n",
    "\n",
    "#### Averages and measures of central location.\n",
    "    These functions calculate an average or typical value from a population or sample.\n",
    "    \n",
    "    \n",
    "    \n",
    "    "
   ]
  },
  {
   "cell_type": "code",
   "execution_count": 5,
   "id": "4da40cf4",
   "metadata": {},
   "outputs": [
    {
     "name": "stdout",
     "output_type": "stream",
     "text": [
      "Hey! Looks like you accidentally pulled in an incorrect dependency. This can bork your software supply chain in all sorts of ways, so it's very important to be careful with what you're pulling in. Read more about software supply chain security here: https://www.usenix.org/conference/usenixsecurity19/presentation/torres-arias\n",
      "+----------------------------------------------------------------+-------------------------------------------------------------+\n",
      "| Function                                                       | Use                                                         |\n",
      "+================================================================+=============================================================+\n",
      "| mean()                                                         | Arithmetic mean (“average”) of data                         |\n",
      "+----------------------------------------------------------------+-------------------------------------------------------------+\n",
      "| fmean()                                                        | Fast, floating point arithmetic mean                        |\n",
      "+----------------------------------------------------------------+-------------------------------------------------------------+\n",
      "| geometric_mean()                                               | Geometric mean of data                                      |\n",
      "+----------------------------------------------------------------+-------------------------------------------------------------+\n",
      "| harmonic_mean()                                                | Harmonic mean of data                                       |\n",
      "+----------------------------------------------------------------+-------------------------------------------------------------+\n",
      "| Median (middle value) of data                                  | median()                                                    |\n",
      "+----------------------------------------------------------------+-------------------------------------------------------------+\n",
      "| median_low()                                                   | Low median of data                                          |\n",
      "+----------------------------------------------------------------+-------------------------------------------------------------+\n",
      "| median_high()                                                  | High median of data                                         |\n",
      "+----------------------------------------------------------------+-------------------------------------------------------------+\n",
      "| median_grouped()                                               | Median, or 50th percentile, of grouped data                 |\n",
      "+----------------------------------------------------------------+-------------------------------------------------------------+\n",
      "| mode()                                                         | Single mode (most common value) of discrete or nominal data |\n",
      "+----------------------------------------------------------------+-------------------------------------------------------------+\n",
      "| List of modes (most common values) of discrete or nomimal data | multimode()                                                 |\n",
      "+----------------------------------------------------------------+-------------------------------------------------------------+\n",
      "| quantiles()                                                    | Divide data into intervals with equal probability           |\n",
      "+----------------------------------------------------------------+-------------------------------------------------------------+\n"
     ]
    }
   ],
   "source": [
    "import module\n",
    "from tabulate import tabulate\n",
    "  \n",
    "mydata =[{\"mean()\",\"Arithmetic mean (“average”) of data\"},\n",
    "         {\"fmean()\",\"Fast, floating point arithmetic mean\"},\n",
    "          {\"geometric_mean()\",\"Geometric mean of data\"},\n",
    "           {\"harmonic_mean()\",\"Harmonic mean of data\"},\n",
    "            {\"median()\",\"Median (middle value) of data\"},\n",
    "             {\"median_low()\",\"Low median of data\"},\n",
    "              {\"median_high()\",\"High median of data\"},\n",
    "               {\"median_grouped()\",\"Median, or 50th percentile, of grouped data\"},\n",
    "                 {\"mode()\",\"Single mode (most common value) of discrete or nominal data\"},\n",
    "                   {\"multimode()\",\"List of modes (most common values) of discrete or nomimal data\"},\n",
    "                     {\"quantiles()\",\"Divide data into intervals with equal probability\"}]\n",
    "\n",
    "head=[\"Function\",\"Use\"]\n",
    "print(tabulate(mydata, headers=head, tablefmt=\"grid\"))\n"
   ]
  },
  {
   "cell_type": "markdown",
   "id": "68b4e80a",
   "metadata": {},
   "source": [
    "#### Measures of spread:\n",
    "    These functions calculate a measure of how much the population or sample tends to deviate from the typical or average values."
   ]
  },
  {
   "cell_type": "code",
   "execution_count": 6,
   "id": "83b23b8d",
   "metadata": {},
   "outputs": [
    {
     "name": "stdout",
     "output_type": "stream",
     "text": [
      "+-----------------------------------+---------------------------------------+\n",
      "| Function                          | Use                                   |\n",
      "+===================================+=======================================+\n",
      "| pstdev()                          | Population standard deviation of data |\n",
      "+-----------------------------------+---------------------------------------+\n",
      "| pvariance()                       | Population variance of data           |\n",
      "+-----------------------------------+---------------------------------------+\n",
      "| Sample standard deviation of data | stdev()                               |\n",
      "+-----------------------------------+---------------------------------------+\n",
      "| Sample variance of data           | variance()                            |\n",
      "+-----------------------------------+---------------------------------------+\n"
     ]
    }
   ],
   "source": [
    "\n",
    "mydata=[{\"pstdev()\",\"Population standard deviation of data\"},\n",
    "          {\"pvariance()\",\"Population variance of data\"},\n",
    "            {\"stdev()\",\"Sample standard deviation of data\"},\n",
    "              {\"variance()\",\"Sample variance of data\"}]\n",
    "head=[\"Function\",\"Use\"]\n",
    "print(tabulate(mydata,headers=head,tablefmt=\"grid\"))"
   ]
  },
  {
   "cell_type": "markdown",
   "id": "eb472df0",
   "metadata": {},
   "source": [
    "#### Various basic mathematical operators and inbuilt functions:"
   ]
  },
  {
   "cell_type": "code",
   "execution_count": 9,
   "id": "93e3051d",
   "metadata": {},
   "outputs": [
    {
     "name": "stdout",
     "output_type": "stream",
     "text": [
      "+--------+-----------------+----------------------------------------------------------------------------------------+\n",
      "| Sr no. |     Function    |                                      Description                                       |\n",
      "+--------+-----------------+----------------------------------------------------------------------------------------+\n",
      "|   1    |     ceil(x)     | Return the Ceiling value. It is the smallest integer, greater or equal to the number x |\n",
      "|   2    |  copysign(x, y) |                  It returns the number x and copy the sign of y to x                   |\n",
      "|   3    |     fabs(x)     |                            Returns the absolute value of x                             |\n",
      "|   4    |   factorial(x)  |                          Returns factorial of x. where x ≥ 0                           |\n",
      "|   5    |     floor(x)    |    Return the Floor value. It is the largest integer, less or equal to the number x    |\n",
      "|   6    |  fsum(iterable) |                     Find sum of the elements in an iterable object                     |\n",
      "|   7    |    gcd(x, y)    |                     Returns the Greatest Common Divisor of x and y                     |\n",
      "|   8    |   isfinite(x)   |                    Checks whether x is neither an infinity nor nan                     |\n",
      "|   9    |     isinf(x)    |                              Checks whether x is infinity                              |\n",
      "|   10   |     isnan(x)    |                            Checks whether x is not a number                            |\n",
      "|   11   | remainder(x, y) |                          Find remainder after dividing x by y                          |\n",
      "+--------+-----------------+----------------------------------------------------------------------------------------+\n"
     ]
    }
   ],
   "source": [
    "\n",
    "from prettytable import PrettyTable \n",
    "\n",
    "myTable = PrettyTable([\"Sr no.\",\"Function\",\"Description\"]) \n",
    "  \n",
    "myTable.add_row([\"1\",\"ceil(x)\",\"Return the Ceiling value. It is the smallest integer, greater or equal to the number x\"]) \n",
    "myTable.add_row([\"2\",\"copysign(x, y)\",\"It returns the number x and copy the sign of y to x\"]) \n",
    "myTable.add_row([\"3\",\"fabs(x)\",\"Returns the absolute value of x\"]) \n",
    "myTable.add_row([\"4\",\"factorial(x)\",\"Returns factorial of x. where x ≥ 0\"]) \n",
    "myTable.add_row([\"5\",\"floor(x)\",\"Return the Floor value. It is the largest integer, less or equal to the number x\"]) \n",
    "myTable.add_row([\"6\",\"fsum(iterable)\",\"Find sum of the elements in an iterable object\"]) \n",
    "myTable.add_row([\"7\",\"gcd(x, y)\",\"Returns the Greatest Common Divisor of x and y\"]) \n",
    "myTable.add_row([\"8\",\"isfinite(x)\",\"Checks whether x is neither an infinity nor nan\"]) \n",
    "myTable.add_row([\"9\",\"isinf(x)\",\"Checks whether x is infinity\"]) \n",
    "myTable.add_row([\"10\",\"isnan(x)\",\"Checks whether x is not a number\"]) \n",
    "myTable.add_row([\"11\",\"remainder(x, y)\",\"Find remainder after dividing x by y\"]) \n",
    "\n",
    "print(myTable)"
   ]
  },
  {
   "cell_type": "code",
   "execution_count": null,
   "id": "6fc293c9",
   "metadata": {},
   "outputs": [],
   "source": []
  }
 ],
 "metadata": {
  "kernelspec": {
   "display_name": "Python 3",
   "language": "python",
   "name": "python3"
  },
  "language_info": {
   "codemirror_mode": {
    "name": "ipython",
    "version": 3
   },
   "file_extension": ".py",
   "mimetype": "text/x-python",
   "name": "python",
   "nbconvert_exporter": "python",
   "pygments_lexer": "ipython3",
   "version": "3.9.5"
  }
 },
 "nbformat": 4,
 "nbformat_minor": 5
}
