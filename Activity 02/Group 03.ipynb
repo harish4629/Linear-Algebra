{
 "cells": [
  {
   "cell_type": "markdown",
   "id": "2da97f98",
   "metadata": {},
   "source": [
    "## Group Members\n",
    "\n",
    "1.Asavari Deshmukh\n",
    "\n",
    "2.Geetanjali Malpure\n",
    "\n",
    "3.Sneha Mahale\n",
    "\n",
    "4.Dinesh Jathar\n",
    "\n",
    "5.Swapnil Rajput"
   ]
  },
  {
   "cell_type": "markdown",
   "id": "22cc0d8e",
   "metadata": {},
   "source": [
    "# Q11\n",
    "Explain the following list methods with an example. a) \\verb\"append()\" b)\\verb\"extend()\" c) \\verb\"insert()\" \n",
    "d) \\verb\"index()\" e) \\verb\"sort()\"\n",
    "\n",
    "### Answer:-\n",
    "\n",
    "Lists are just like dynamic sized arrays, declared in other languages.List in Python are ordered and have a definite count. The elements in a list are indexed according to a definite sequence and the indexing of a list is done with 0 being the first index. Each element in the list has its definite place in the list, which allows duplicating of elements in the list, with each element having its own distinct place and credibility.\n",
    "\n",
    "a)\"append\" function:-\n",
    "Elements can be added to the List by using built-in append() function. \n",
    "\n",
    "b)\"extend\" function:-\n",
    "This method is used to add multiple elements at the same time at the end of the list.\n",
    "\n",
    "c)\"insert\" function:-\n",
    "For addition of element at the desired position, insert() method is used.\n",
    "\n",
    "d)\"index\" function:-\n",
    "Use the index operator [] to access an item in a list.\n",
    "\n",
    "e)\"sort\" function:-\n",
    "Sort items in a list in ascending order.\n"
   ]
  },
  {
   "cell_type": "code",
   "execution_count": 1,
   "id": "906b9262",
   "metadata": {},
   "outputs": [
    {
     "name": "stdout",
     "output_type": "stream",
     "text": [
      "Initial blank List: \n",
      "[]\n",
      "\n",
      "List after Addition of Three elements: \n",
      "[1, 2, 4]\n",
      "Initial List: \n",
      "[1, 2, 3, 4]\n",
      "\n",
      "List after performing Extend Operation: \n",
      "[1, 2, 3, 4, 8, 'Geeks', 'Always']\n",
      "Initial List: \n",
      "[1, 2, 3, 4]\n",
      "\n",
      "List after performing Insert Operation: \n",
      "[1, 2, 3, 12, 4]\n",
      "Accessing a element from the list\n",
      "Geeks\n",
      "Geeks\n",
      "[1, 2, 3, 4]\n"
     ]
    }
   ],
   "source": [
    "# Examples:\n",
    "\n",
    "# a)append fun-\n",
    "# Creating a List\n",
    "List = []\n",
    "print(\"Initial blank List: \")\n",
    "print(List)\n",
    "  \n",
    "List.append(1)\n",
    "List.append(2)\n",
    "List.append(4)\n",
    "print(\"\\nList after Addition of Three elements: \")\n",
    "print(List)\n",
    "\n",
    "# b)extend fun-\n",
    "# Creating a List\n",
    "List = [1,2,3,4]\n",
    "print(\"Initial List: \")\n",
    "print(List)\n",
    "  \n",
    "# (using Extend Method)\n",
    "List.extend([8, 'Geeks', 'Always'])\n",
    "print(\"\\nList after performing Extend Operation: \")\n",
    "print(List)\n",
    "\n",
    "# c)insert fun-\n",
    "# Creating a List\n",
    "List = [1,2,3,4]\n",
    "print(\"Initial List: \")\n",
    "print(List)\n",
    "  \n",
    "# (using Insert Method)\n",
    "List.insert(3, 12)\n",
    "print(\"\\nList after performing Insert Operation: \")\n",
    "print(List)\n",
    "\n",
    "# d)index fun-\n",
    "# Creating a List with\n",
    "# the use of multiple values\n",
    "List = [\"Geeks\", \"For\", \"Geeks\"]\n",
    "List\n",
    "# accessing a element from list\n",
    "# list using index number\n",
    "print(\"Accessing a element from the list\")\n",
    "print(List[0]) \n",
    "print(List[2])\n",
    "\n",
    "# e)sort fun-\n",
    "# List of Integers\n",
    "numbers = [1, 3, 4, 2]\n",
    "  \n",
    "# Sorting list of Integers\n",
    "numbers.sort()\n",
    "print(numbers)"
   ]
  },
  {
   "cell_type": "markdown",
   "id": "4fc66e2e",
   "metadata": {},
   "source": [
    "# Q12\n",
    "Write Python program to check if the items in the list are sorted in ascending or descending order and \n",
    "print suitable messages accordingly. Otherwise, print ``Items in list are not sorted''\n",
    "\n",
    "Answer:-\n",
    "The simplest way to check this is run a loop for first element and check if we could find any smaller element than it after that element, if items in the list is not sorted."
   ]
  },
  {
   "cell_type": "code",
   "execution_count": 2,
   "id": "97b15ed1",
   "metadata": {},
   "outputs": [
    {
     "name": "stdout",
     "output_type": "stream",
     "text": [
      "Original list : [10, 4, 5, 8, 10]\n",
      "Items in List is not sorted.\n"
     ]
    }
   ],
   "source": [
    "# initializing list\n",
    "test_list = [10, 4, 5, 8, 10]\n",
    "  \n",
    "# printing original list \n",
    "print (\"Original list : \" + str(test_list))\n",
    "  \n",
    "# using sort() to \n",
    "# check sorted list \n",
    "flag = 0\n",
    "test_list1 = test_list[:]\n",
    "test_list1.sort()\n",
    "if (test_list1 == test_list):\n",
    "    flag = 1\n",
    "      \n",
    "# printing result\n",
    "if (flag) :\n",
    "    print (\"Items in List is sorted.\")\n",
    "else :\n",
    "    print (\"Items in List is not sorted.\")"
   ]
  },
  {
   "cell_type": "markdown",
   "id": "87df488e",
   "metadata": {},
   "source": [
    "# Q13\n",
    "Write Python program to sort words in a sentence in decreasing order of their length. Display the sorted words along with their length.\n",
    "\n",
    "Answer:-"
   ]
  },
  {
   "cell_type": "code",
   "execution_count": 3,
   "id": "d890130b",
   "metadata": {},
   "outputs": [
    {
     "name": "stdout",
     "output_type": "stream",
     "text": [
      "morning Good\n"
     ]
    }
   ],
   "source": [
    "# Function to sort the words\n",
    "# in ascending order\n",
    "def sortedSentence(Sentence):\n",
    "      \n",
    "    # Splitting the Sentence into words\n",
    "    words = Sentence.split(\" \")\n",
    "      \n",
    "    # Sorting the words\n",
    "    words.sort(reverse=True)\n",
    "    \n",
    "    # Making new Sentence by \n",
    "    # joining the sorted words\n",
    "    newSentence = \" \".join(words)\n",
    "      \n",
    "    # Return newSentence\n",
    "    return newSentence\n",
    "  \n",
    "# Driver's Code  \n",
    "Sentence = \"Good morning\"\n",
    "\n",
    "# Print the sortedSentence\n",
    "print(sortedSentence(Sentence))\n"
   ]
  },
  {
   "cell_type": "markdown",
   "id": "817d420b",
   "metadata": {},
   "source": [
    "# Q14\n",
    "Write a function which receives a variable number of strings as arguments. Find unique characters in each string.\n",
    "\n",
    "Answer:-"
   ]
  },
  {
   "cell_type": "code",
   "execution_count": 4,
   "id": "1e5430e9",
   "metadata": {},
   "outputs": [
    {
     "name": "stdout",
     "output_type": "stream",
     "text": [
      "The String  Geetanjali Malpure  has duplicate characters\n"
     ]
    }
   ],
   "source": [
    "# Python program to illustrate string\n",
    "# with unique characters using\n",
    " \n",
    "def uniqueCharacters(str):\n",
    "     \n",
    "    # If at any time we encounter 2\n",
    "    # same characters, return false\n",
    "    for i in range(len(str)):\n",
    "        for j in range(i + 1,len(str)):\n",
    "            if(str[i] == str[j]):\n",
    "                return False;\n",
    "            \n",
    "\n",
    "    # If no duplicate characters\n",
    "   # encountered, return true\n",
    "    return True;\n",
    "     \n",
    "      \n",
    " \n",
    "# Driver Code\n",
    "str = \"Geetanjali Malpure\";\n",
    " \n",
    "if(uniqueCharacters(str)):\n",
    "    print(\"The String \", str,\" has all unique characters\");\n",
    "else:\n",
    "    print(\"The String \", str, \" has duplicate characters\");\n",
    "            "
   ]
  },
  {
   "cell_type": "markdown",
   "id": "bfdb201b",
   "metadata": {},
   "source": [
    "# Q15\n",
    "Write Pythonic code to create a function called most_frequent that takes a string and prints the letters in decreasing order of frequency. Use dictionaries.\n",
    "\n",
    "Answer:-"
   ]
  },
  {
   "cell_type": "code",
   "execution_count": 5,
   "id": "5ba43e6a",
   "metadata": {},
   "outputs": [
    {
     "name": "stdout",
     "output_type": "stream",
     "text": [
      "{'the': 2, 'quick': 1, 'brown': 1, 'fox': 1, 'jumps': 1, 'over': 1, 'lazy': 1, 'dog.': 1}\n"
     ]
    }
   ],
   "source": [
    "def word_count(str):\n",
    "    counts = dict()\n",
    "    words = str.split()\n",
    "\n",
    "    for word in words:\n",
    "        if word in counts:\n",
    "            counts[word] += 1\n",
    "        else:\n",
    "            counts[word] = 1\n",
    "\n",
    "    return counts\n",
    "\n",
    "\n",
    "print( word_count('the quick brown fox jumps over the lazy dog.'))"
   ]
  },
  {
   "cell_type": "code",
   "execution_count": null,
   "id": "549e1c4f",
   "metadata": {},
   "outputs": [],
   "source": [
    "#no order\n",
    "W= input('Please enter a string ')\n",
    "def most_frequent(string):\n",
    "    d = dict()\n",
    "    for key in string:\n",
    "        if key not in d:\n",
    "            d[key] = 1\n",
    "        else:\n",
    "            d[key] += 1\n",
    "    return d\n",
    "\n",
    "print (most_frequent(W))"
   ]
  },
  {
   "cell_type": "code",
   "execution_count": null,
   "id": "0baa03fd",
   "metadata": {},
   "outputs": [],
   "source": []
  }
 ],
 "metadata": {
  "kernelspec": {
   "display_name": "Python 3",
   "language": "python",
   "name": "python3"
  },
  "language_info": {
   "codemirror_mode": {
    "name": "ipython",
    "version": 3
   },
   "file_extension": ".py",
   "mimetype": "text/x-python",
   "name": "python",
   "nbconvert_exporter": "python",
   "pygments_lexer": "ipython3",
   "version": "3.9.5"
  }
 },
 "nbformat": 4,
 "nbformat_minor": 5
}
