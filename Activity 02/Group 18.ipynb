{
 "cells": [
  {
   "cell_type": "markdown",
   "id": "8cf6b1b5",
   "metadata": {},
   "source": [
    "# Q 86) Write a Python class to convert an integer to a roman numeral."
   ]
  },
  {
   "cell_type": "code",
   "execution_count": 2,
   "id": "e56028f2",
   "metadata": {},
   "outputs": [],
   "source": [
    "class py_solution:\n",
    "    def int_to_Roman(self, num):\n",
    "        val = [\n",
    "            1000, 900, 500, 400,\n",
    "            100, 90, 50, 40,\n",
    "            10, 9, 5, 4,\n",
    "            1\n",
    "            ]\n",
    "        syb = [\n",
    "            \"M\", \"CM\", \"D\", \"CD\",\n",
    "            \"C\", \"XC\", \"L\", \"XL\",\n",
    "            \"X\", \"IX\", \"V\", \"IV\",\n",
    "            \"I\"\n",
    "            ]\n",
    "        roman_num = ''\n",
    "        i = 0\n",
    "        while  num > 0:\n",
    "            for _ in range(num // val[i]):\n",
    "                roman_num += syb[i]\n",
    "                num -= val[i]\n",
    "            i += 1\n",
    "        return roman_num"
   ]
  },
  {
   "cell_type": "code",
   "execution_count": 3,
   "id": "928082ac",
   "metadata": {},
   "outputs": [
    {
     "name": "stdout",
     "output_type": "stream",
     "text": [
      "IV\n",
      "XLIV\n"
     ]
    }
   ],
   "source": [
    "print(py_solution().int_to_Roman(4))\n",
    "print(py_solution().int_to_Roman(44))"
   ]
  },
  {
   "cell_type": "markdown",
   "id": "ceedf13b",
   "metadata": {},
   "source": [
    "# Q 87 Write a Python class named Rectangle constructed by a length and width and a method which will compute the area of a rectangle."
   ]
  },
  {
   "cell_type": "markdown",
   "id": "2fcb1aff",
   "metadata": {},
   "source": [
    "### Algorithm:\n",
    "#### 1. Take the value of length and breadth from the user.\n",
    "#### 2. Create a class and using a constructor initialise values of that class.\n",
    "#### 3. Create a method called as area and return the area of the class.\n",
    "#### 4. Create an object for the class.\n",
    "#### 5. Using the object, call the method area() with the parameters as the length and breadth taken from the user.\n",
    "#### 6. Print the area.\n",
    "#### 7. Exit"
   ]
  },
  {
   "cell_type": "code",
   "execution_count": 4,
   "id": "17c5427f",
   "metadata": {
    "scrolled": true
   },
   "outputs": [
    {
     "name": "stdout",
     "output_type": "stream",
     "text": [
      "Enter length of rectangle: 5\n",
      "Enter breadth of rectangle: 3\n",
      "Area of rectangle: 15\n",
      "\n"
     ]
    }
   ],
   "source": [
    "class rectangle():\n",
    "    def __init__(self,breadth,length):\n",
    "        self.breadth=breadth\n",
    "        self.length=length\n",
    "    def area(self):\n",
    "        return self.breadth*self.length\n",
    "a=int(input(\"Enter length of rectangle: \"))\n",
    "b=int(input(\"Enter breadth of rectangle: \"))\n",
    "obj=rectangle(a,b)\n",
    "print(\"Area of rectangle:\",obj.area())\n",
    " \n",
    "print()\n"
   ]
  },
  {
   "cell_type": "code",
   "execution_count": null,
   "id": "94c7a11e",
   "metadata": {},
   "outputs": [],
   "source": []
  },
  {
   "cell_type": "markdown",
   "id": "451b2fa8",
   "metadata": {},
   "source": [
    "# Q 89) How to add a border (filled with 0’s) around an existing two dimensional array?"
   ]
  },
  {
   "cell_type": "code",
   "execution_count": 5,
   "id": "f96022ec",
   "metadata": {},
   "outputs": [
    {
     "name": "stdout",
     "output_type": "stream",
     "text": [
      "Original array:\n",
      "[[1. 1. 1.]\n",
      " [1. 1. 1.]\n",
      " [1. 1. 1.]]\n",
      "0 on the border and 1 inside in the array\n",
      "[[0. 0. 0. 0. 0.]\n",
      " [0. 1. 1. 1. 0.]\n",
      " [0. 1. 1. 1. 0.]\n",
      " [0. 1. 1. 1. 0.]\n",
      " [0. 0. 0. 0. 0.]]\n"
     ]
    }
   ],
   "source": [
    "import numpy as np\n",
    "x = np.ones((3,3))\n",
    "print(\"Original array:\")\n",
    "print(x)\n",
    "print(\"0 on the border and 1 inside in the array\")\n",
    "x = np.pad(x, pad_width=1, mode='constant', constant_values=0)\n",
    "print(x)\n"
   ]
  },
  {
   "cell_type": "code",
   "execution_count": null,
   "id": "0a4d6250",
   "metadata": {},
   "outputs": [],
   "source": []
  },
  {
   "cell_type": "markdown",
   "id": "5e65c2dc",
   "metadata": {},
   "source": [
    "# Q 92) What Advantages Do Numpy Arrays Offer Over (nested) Python Lists?"
   ]
  },
  {
   "cell_type": "markdown",
   "id": "fad97592",
   "metadata": {},
   "source": [
    "Python’s lists are efficient general-purpose containers. They support (fairly) efficient insertion, deletion, appending, and concatenation, and Python’s list comprehensions make them easy to construct and manipulate. However, they have certain limitations: they don’t support “vectorized” operations, like elementwise addition and multiplication, and the fact that they can contain objects of differing types mean that Python must store type information for every element, and must execute type-dispatching code when operating on each element. This also means that very few list operations can be carried out by efficient C loops – each iteration would require type checks and other Python API bookkeeping.\n"
   ]
  },
  {
   "cell_type": "code",
   "execution_count": null,
   "id": "a8baaa68",
   "metadata": {},
   "outputs": [],
   "source": []
  },
  {
   "cell_type": "markdown",
   "id": "d911db68",
   "metadata": {},
   "source": [
    "# Q 93) Explain all file processing modes supported in Python."
   ]
  },
  {
   "cell_type": "markdown",
   "id": "a9d812d3",
   "metadata": {},
   "source": [
    " Python language supports two types of files. First one is text file that store data in the form of text file and readable by human and computer. Second one is binary file that store binary data and readable by computer only. Python has a built-in function open() to open a file. This function returns a file object, also called a handle, as it is used to read or modify the file accordingly.\n"
   ]
  },
  {
   "cell_type": "markdown",
   "id": "6b7226f5",
   "metadata": {},
   "source": [
    "open(file_name , [access_mode],[buffer_size],[encoding])\n",
    "\n",
    "The access_mode is an optional string that specifies the mode in which the file is opened. By default, it is set to read-only \"r\". In this mode, we get data in text form after reading from the file. On the other hand, binary mode returns bytes. It's preferable for accessing the non-text files like an image or the exe files.\n",
    "\n",
    "Different modes of opening a file are\n",
    "\n",
    "r - open a file for reading. (default)\n",
    "\n",
    "w - Open a file for writing. If file already exists its data will be cleared before opening. Otherwise new file will be created\n",
    "\n",
    "x - open for exclusive creation, failing if the file already exists\n",
    "\n",
    "a - open for writing, appending to the end of the file if it exists\n",
    "\n",
    "b - binary mode\n",
    "\n",
    "t - text mode (default)\n",
    "\n",
    "+r - Open a file for updating (reading and writing)\n"
   ]
  },
  {
   "cell_type": "code",
   "execution_count": null,
   "id": "fc83103e",
   "metadata": {},
   "outputs": [],
   "source": []
  },
  {
   "cell_type": "markdown",
   "id": "979eebc9",
   "metadata": {},
   "source": [
    "# Q 94) Write few NumPy package commands useful for linear algebra with examples"
   ]
  },
  {
   "cell_type": "code",
   "execution_count": 6,
   "id": "45a95900",
   "metadata": {},
   "outputs": [],
   "source": [
    "import numpy as np"
   ]
  },
  {
   "cell_type": "code",
   "execution_count": 7,
   "id": "cf26c0e0",
   "metadata": {},
   "outputs": [
    {
     "name": "stdout",
     "output_type": "stream",
     "text": [
      "[[  8   1   3  16]\n",
      " [  0   3   0  -9]\n",
      " [ -8  -1  -3 -16]]\n"
     ]
    }
   ],
   "source": [
    "# we use np.array for creating matrix in python\n",
    "A=np.array([[8,1,3,16],[0,3,0,-9],[-8,-1,-3,-16]])\n",
    "print(A)"
   ]
  },
  {
   "cell_type": "markdown",
   "id": "555205b3",
   "metadata": {},
   "source": [
    "### Examples\n",
    "###  i) Cholesky decomposition."
   ]
  },
  {
   "cell_type": "code",
   "execution_count": 8,
   "id": "f50e0b30",
   "metadata": {},
   "outputs": [
    {
     "name": "stdout",
     "output_type": "stream",
     "text": [
      "[[ 2.44948974  0.          0.        ]\n",
      " [ 6.12372436  4.18330013  0.        ]\n",
      " [22.45365598 20.91650066  6.11010093]]\n"
     ]
    }
   ],
   "source": [
    "a=np.array([[6,15,55],\n",
    "            [15,55,225],\n",
    "            [55,225,979]])\n",
    "z=np.linalg.cholesky(a)\n",
    "print(z)"
   ]
  },
  {
   "cell_type": "markdown",
   "id": "9a0ac001",
   "metadata": {},
   "source": [
    "###  ii) for finding rank of matrix"
   ]
  },
  {
   "cell_type": "code",
   "execution_count": 9,
   "id": "ec03ea96",
   "metadata": {},
   "outputs": [
    {
     "name": "stdout",
     "output_type": "stream",
     "text": [
      "2\n"
     ]
    }
   ],
   "source": [
    "r=np.linalg.matrix_rank(A)\n",
    "print(r)"
   ]
  },
  {
   "cell_type": "markdown",
   "id": "d029a4b8",
   "metadata": {},
   "source": [
    "###   iii) compute eigen values and eigen vector of square array"
   ]
  },
  {
   "cell_type": "code",
   "execution_count": 19,
   "id": "a36f39a5",
   "metadata": {},
   "outputs": [
    {
     "name": "stdout",
     "output_type": "stream",
     "text": [
      "[[ 6 15  5]\n",
      " [ 5  6  8]\n",
      " [ 1  2  3]]\n",
      "[16.20314318 -2.80774182  1.60459864]\n"
     ]
    }
   ],
   "source": [
    "a=np.array([[6,15,5],[5,6,8],[1,2,3]])\n",
    "print(a)\n",
    "e=np.linalg.eigvals(a)\n",
    "print(e)"
   ]
  },
  {
   "cell_type": "markdown",
   "id": "83531493",
   "metadata": {},
   "source": [
    "###   iv) for finding determinate"
   ]
  },
  {
   "cell_type": "code",
   "execution_count": 20,
   "id": "8ff60c0a",
   "metadata": {},
   "outputs": [
    {
     "name": "stdout",
     "output_type": "stream",
     "text": [
      "-72.99999999999999\n"
     ]
    }
   ],
   "source": [
    "det=np.linalg.det(a)\n",
    "print(det)"
   ]
  },
  {
   "cell_type": "markdown",
   "id": "bb3b66af",
   "metadata": {},
   "source": [
    "###   v) for matrix multiplication"
   ]
  },
  {
   "cell_type": "code",
   "execution_count": 18,
   "id": "c9f5fabc",
   "metadata": {},
   "outputs": [
    {
     "name": "stdout",
     "output_type": "stream",
     "text": [
      "b :\n",
      " [[6 6]\n",
      " [1 3]]\n",
      "c : \n",
      " [[3 4]\n",
      " [6 7]]\n",
      "Product of the two matrices :\n",
      "  [[54 66]\n",
      " [21 25]]\n"
     ]
    }
   ],
   "source": [
    "b=np.array([[6,6], [1,3]])\n",
    "print('b :\\n',b)\n",
    "c=np.array([[3,4],[6,7]])\n",
    "print('c : \\n',c)\n",
    "d=np.dot(b,c)\n",
    "print('Product of the two matrices :\\n ',d)"
   ]
  },
  {
   "cell_type": "code",
   "execution_count": null,
   "id": "9d05deac",
   "metadata": {},
   "outputs": [],
   "source": []
  }
 ],
 "metadata": {
  "kernelspec": {
   "display_name": "Python 3 (ipykernel)",
   "language": "python",
   "name": "python3"
  },
  "language_info": {
   "codemirror_mode": {
    "name": "ipython",
    "version": 3
   },
   "file_extension": ".py",
   "mimetype": "text/x-python",
   "name": "python",
   "nbconvert_exporter": "python",
   "pygments_lexer": "ipython3",
   "version": "3.8.3"
  }
 },
 "nbformat": 4,
 "nbformat_minor": 5
}
