{
 "cells": [
  {
   "cell_type": "markdown",
   "metadata": {},
   "source": [
    "## Group no 5\n",
    "\n",
    "### Damini Badgujar\n",
    "### Chinmay Patil\n",
    "### Tejas Jadhav\n",
    "###  Manish Hire\n",
    "\n",
    " \n",
    " \n",
    " \n",
    " \n",
    " "
   ]
  },
  {
   "cell_type": "markdown",
   "metadata": {},
   "source": [
    "### "
   ]
  },
  {
   "cell_type": "markdown",
   "metadata": {},
   "source": [
    "\n",
    "\n",
    "\n",
    "\n",
    "### Q.21) Write Codes snippets in python to perform accessing, modyfying and deleting elements of a Tuple."
   ]
  },
  {
   "cell_type": "code",
   "execution_count": 2,
   "metadata": {},
   "outputs": [
    {
     "name": "stdout",
     "output_type": "stream",
     "text": [
      "(63, 41, 52, 18, 20, 22, 16, 78)\n",
      "('statistics', 'maths', 'geography', 'chemisrty', 'physics')\n",
      "(63, 41, 52, 18, 20, 22, 16, 78, 'statistics', 'maths', 'geography', 'chemisrty', 'physics')\n",
      "('a', 'b', 'c', 'd', 'e')\n",
      "('a', 'b', 'd', 'e')\n"
     ]
    }
   ],
   "source": [
    "tup1=(63,41,52,18,20,22,16,78)\n",
    "tup2=('statistics','maths', 'geography', 'chemisrty','physics' )\n",
    "t_1=print(tup1)\n",
    "t_2=print(tup2)\n",
    "\n",
    "#Accessing values in tuples: To access values in tuples, we use square brackets for slicing along with the index.\n",
    "tup1[1:4]\n",
    "tup2[0]\n",
    "tup2[3]\n",
    "tup2[1:5]\n",
    "\n",
    "#Modifying tuples : Tuples are immutable which means we cannot update or change the values of tuple elements. We able to take portions of existing tuples to create new tuples as below.\n",
    "\n",
    "tup3= tup1 + tup2\n",
    "t_3=print(tup3)\n",
    "\n",
    "#Deleting tuples elements : Removing individual tuple elements is not possible. To explicitly remove an entire tuple, we just use the del statement.\n",
    "\n",
    "tup=('a','b','c','d','e')\n",
    "print(tup)\n",
    "tup= tup[:2]+tup[3:]\n",
    "print(tup)\n"
   ]
  },
  {
   "cell_type": "markdown",
   "metadata": {},
   "source": [
    "### Q.22) What are the conditional statements used in python.\n"
   ]
  },
  {
   "cell_type": "code",
   "execution_count": 41,
   "metadata": {},
   "outputs": [
    {
     "name": "stdout",
     "output_type": "stream",
     "text": [
      "a is less than b\n",
      "a is not equal to b\n",
      "Above 10\n",
      "enter the a value50\n",
      "below 100\n"
     ]
    }
   ],
   "source": [
    "#1)If statement : If statement is most usually used as a conditional statement.\n",
    "a=50\n",
    "b=51\n",
    "\n",
    "if a<b :\n",
    "    print(\"a is less than b\")\n",
    "    \n",
    "#2) If else statements\n",
    "if a==b :\n",
    "    print(\"a is equal to b\")\n",
    "else :\n",
    "    print(\"a is not equal to b\")\n",
    "    \n",
    "#3) Nested if statement: In python is using \"if\" statements inside other if statements it is called nested if statement.\n",
    "a = 100  \n",
    "if a > 10 :  \n",
    "    print(\"Above 10\")\n",
    "    if a>100 :\n",
    "        print(\"and also above 100\")\n",
    "        \n",
    "#4) Nested if else statement: In Python is using one “if else” statement inside other  if else statements it is called nested if else statement.\n",
    "a=int(input(\"enter the a value\"))#user give a value  \n",
    "if a> 100:  \n",
    "  print(\"Above 100\")  \n",
    "  if a > 1000:  \n",
    "    print(\"and also above 1000\")  \n",
    "  else:  \n",
    "    print(\"and also below 1000\")  \n",
    "else:  \n",
    "    print(\"below 100\")  \n",
    "   \n",
    "\n"
   ]
  },
  {
   "cell_type": "markdown",
   "metadata": {},
   "source": [
    "### Q.23) Define if - - else statements in python"
   ]
  },
  {
   "cell_type": "raw",
   "metadata": {},
   "source": [
    "\n",
    "The if statement alone tells us that if a condition is true it will execute a block of statements and if the condition is false it won’t. But what if we want to do something else if the condition is false. Here comes the else statement. We can use the else statement with if statement to execute a block of code when the condition is false.\n",
    "\n",
    "Syntax:\n",
    "\n",
    "if (condition):\n",
    "    # Executes this block if\n",
    "    # Condition is true\n",
    "else:\n",
    "    # Executes this block if\n",
    "    # Condition is false\n"
   ]
  },
  {
   "cell_type": "markdown",
   "metadata": {},
   "source": [
    "###  Example of if - - else statement"
   ]
  },
  {
   "cell_type": "code",
   "execution_count": 2,
   "metadata": {},
   "outputs": [
    {
     "name": "stdout",
     "output_type": "stream",
     "text": [
      "i is greater than 15\n"
     ]
    }
   ],
   "source": [
    "i = 20;\n",
    "if (i < 15):\n",
    "    print (\"i is smaller than 15\")\n",
    "else:\n",
    "    print (\"i is greater than 15\")\n"
   ]
  },
  {
   "cell_type": "markdown",
   "metadata": {},
   "source": [
    "### Q.24) Define chained conditionals"
   ]
  },
  {
   "cell_type": "raw",
   "metadata": {},
   "source": [
    "Que.24) Define chained conditionals\n",
    "\n",
    "A chained conditional is when you use if/elif/else flow controls and they are all indented to the same depth. \n",
    "Python provides an alternative way to write nested selection. This is sometimes referred to as a chained conditional.\n"
   ]
  },
  {
   "cell_type": "markdown",
   "metadata": {},
   "source": [
    "### Example "
   ]
  },
  {
   "cell_type": "code",
   "execution_count": 1,
   "metadata": {},
   "outputs": [
    {
     "name": "stdout",
     "output_type": "stream",
     "text": [
      "x is less than y\n"
     ]
    }
   ],
   "source": [
    "\n",
    "\n",
    "x = 5\n",
    "y = 10\n",
    "if x < y:\n",
    "    print(\"x is less than y\")\n",
    "elif x > y:\n",
    "    print(\"x is greater than y\")\n",
    "else:\n",
    "    print(\"x and y must be equal\")\n"
   ]
  },
  {
   "cell_type": "markdown",
   "metadata": {},
   "source": [
    "### Q. 25) What are the different iterative statements.\n"
   ]
  },
  {
   "cell_type": "raw",
   "metadata": {},
   "source": [
    "1. While Loop In Python\n",
    "\n",
    "While Loop In Python is used to execute a block of statement as long as a given condition is true. And when the condition is false, the control will come out of the loop.\n",
    "\n",
    "The condition is checked every time at the beginning of the loop.\n",
    "\n",
    "Syntax :\n",
    "\n",
    "while (condition):\n",
    "statements"
   ]
  },
  {
   "cell_type": "code",
   "execution_count": 8,
   "metadata": {},
   "outputs": [
    {
     "name": "stdout",
     "output_type": "stream",
     "text": [
      "0\n",
      "1\n",
      "2\n",
      "3\n",
      "4\n"
     ]
    }
   ],
   "source": [
    "x = 0\n",
    "while (x < 5):\n",
    "   print(x)\n",
    "   x = x + 1\n",
    "    "
   ]
  },
  {
   "cell_type": "raw",
   "metadata": {},
   "source": [
    "2. For Loop In Python\n",
    "    For loop in Python is used to iterate over items of any sequence, such as a list or a string.\n",
    "\n",
    "Syntax :\n",
    "\n",
    "for val in sequence:\n",
    "statements"
   ]
  },
  {
   "cell_type": "code",
   "execution_count": 9,
   "metadata": {},
   "outputs": [
    {
     "name": "stdout",
     "output_type": "stream",
     "text": [
      "1\n",
      "2\n",
      "3\n",
      "4\n"
     ]
    }
   ],
   "source": [
    "for i in range(1,5):\n",
    "   print(i)"
   ]
  },
  {
   "cell_type": "raw",
   "metadata": {},
   "source": [
    "3. Nested For Loops In Python\n",
    "\n",
    "When one Loop defined within another Loop is called Nested Loops.\n",
    "\n",
    "Syntax of Nested For Loops:\n",
    "    \n",
    "for val in sequence:\n",
    "for val in sequence:\n",
    "statements\n",
    "statements\n"
   ]
  },
  {
   "cell_type": "code",
   "execution_count": 10,
   "metadata": {},
   "outputs": [
    {
     "name": "stdout",
     "output_type": "stream",
     "text": [
      "1 \n",
      "2 2 \n",
      "3 3 3 \n",
      "4 4 4 4 \n",
      "5 5 5 5 5 \n"
     ]
    }
   ],
   "source": [
    "for i in range(1,6):\n",
    "   for j in range(0,i):\n",
    "      print(i, end=\" \")\n",
    "   print('')"
   ]
  },
  {
   "cell_type": "code",
   "execution_count": null,
   "metadata": {},
   "outputs": [],
   "source": []
  }
 ],
 "metadata": {
  "kernelspec": {
   "display_name": "Python 3",
   "language": "python",
   "name": "python3"
  },
  "language_info": {
   "codemirror_mode": {
    "name": "ipython",
    "version": 3
   },
   "file_extension": ".py",
   "mimetype": "text/x-python",
   "name": "python",
   "nbconvert_exporter": "python",
   "pygments_lexer": "ipython3",
   "version": "3.9.5"
  }
 },
 "nbformat": 4,
 "nbformat_minor": 4
}
