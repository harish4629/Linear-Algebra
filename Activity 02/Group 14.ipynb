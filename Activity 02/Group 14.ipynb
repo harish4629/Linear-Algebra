{
 "cells": [
  {
   "cell_type": "markdown",
   "id": "610b0d03",
   "metadata": {},
   "source": [
    "## Q.66\n",
    "### What is tkinter?\n",
    "\n",
    "#### Answer"
   ]
  },
  {
   "cell_type": "markdown",
   "id": "ee2ae9c7",
   "metadata": {},
   "source": [
    "### The tkinter package (“Tk interface”) is the standard Python interface to the Tk GUI (Graphical User Interface) toolkit. Both Tk and tkinter are available on most Unix platforms, as well as on Windows systems. (Tk itself is not part of Python; it is maintained at ActiveState.)\n",
    "\n",
    "### Running python \" -m tkinter\"  from the command line should open a window demonstrating a simple Tk interface, letting you know that tkinter is properly installed on your system, and also showing what version of Tcl/Tk is installed, so you can read the Tcl/Tk documentation specific to that version."
   ]
  },
  {
   "cell_type": "markdown",
   "id": "c58e070d",
   "metadata": {},
   "source": [
    "## Q.67\n",
    "### Write the difference between Python Modules and Packages.\n",
    "\n",
    "\n",
    "#### Answer\n"
   ]
  },
  {
   "cell_type": "markdown",
   "id": "c35b5879",
   "metadata": {},
   "source": [
    "### Module: The module is a simple Python file that contains collections of functions and global variables and with having a .py extension file. It is an executable file and to organize all the modules we have the concept called Package in Python."
   ]
  },
  {
   "cell_type": "markdown",
   "id": "a39eeb77",
   "metadata": {},
   "source": [
    "### Package: The package is a simple directory having collections of modules. This directory contains Python modules and also having __init__.py file by which the interpreter interprets it as a Package. The package is simply a namespace. The package also contains sub-packages inside it."
   ]
  },
  {
   "cell_type": "markdown",
   "id": "fb30889a",
   "metadata": {},
   "source": [
    "### Any Python file is a module, its name being the file's base name/module's __name__ property without the .py extension. A package is a collection of Python modules, i.e., a package is a directory of Python modules containing an additional __init__.py file. The __init__.py distinguishes a package from a directory that just happens to contain a bunch of Python scripts. Packages can be nested to any depth, provided that the corresponding directories contain their own __init__.py file.\n",
    "\n",
    "### When you import a module or a package, the corresponding object created by Python is always of type module. This means that the distinction between module and package is just at the file system level. Note, however, when you import a package, only variables/functions/classes in the __init__.py file of that package are directly visible, not sub-packages or modules.\n",
    "\n",
    "### For example, in the datetime module, there is a submodule called date. When you import datetime, it won't be imported. You'll need to import it separately."
   ]
  },
  {
   "cell_type": "code",
   "execution_count": 7,
   "id": "958c9fbd",
   "metadata": {},
   "outputs": [
    {
     "ename": "NameError",
     "evalue": "name 'date' is not defined",
     "output_type": "error",
     "traceback": [
      "\u001b[1;31m---------------------------------------------------------------------------\u001b[0m",
      "\u001b[1;31mNameError\u001b[0m                                 Traceback (most recent call last)",
      "\u001b[1;32m<ipython-input-7-8d822e36bdd1>\u001b[0m in \u001b[0;36m<module>\u001b[1;34m\u001b[0m\n\u001b[0;32m      1\u001b[0m \u001b[1;32mimport\u001b[0m \u001b[0mdatetime\u001b[0m\u001b[1;33m\u001b[0m\u001b[1;33m\u001b[0m\u001b[0m\n\u001b[1;32m----> 2\u001b[1;33m \u001b[0mdate\u001b[0m\u001b[1;33m.\u001b[0m\u001b[0mtoday\u001b[0m\u001b[1;33m(\u001b[0m\u001b[1;33m)\u001b[0m\u001b[1;33m\u001b[0m\u001b[1;33m\u001b[0m\u001b[0m\n\u001b[0m",
      "\u001b[1;31mNameError\u001b[0m: name 'date' is not defined"
     ]
    }
   ],
   "source": [
    " import datetime\n",
    " date.today()"
   ]
  },
  {
   "cell_type": "code",
   "execution_count": 8,
   "id": "cbb4811c",
   "metadata": {},
   "outputs": [
    {
     "data": {
      "text/plain": [
       "datetime.date(2021, 7, 18)"
      ]
     },
     "execution_count": 8,
     "metadata": {},
     "output_type": "execute_result"
    }
   ],
   "source": [
    "from datetime import date\n",
    "date.today()"
   ]
  },
  {
   "cell_type": "markdown",
   "id": "71c839b3",
   "metadata": {},
   "source": [
    "## Q.68\n",
    "### Write a python code for the developing graphical user interface for calculation sum of two given numbers.\n",
    "\n",
    "\n",
    "\n",
    "#### Answer\n"
   ]
  },
  {
   "cell_type": "markdown",
   "id": "fe5ed6cd",
   "metadata": {},
   "source": [
    "## out of syllabus"
   ]
  },
  {
   "cell_type": "markdown",
   "id": "7ec704cf",
   "metadata": {},
   "source": [
    "## Q.69\n",
    "### Write a Python GUI program to create a window and disable to resize the window using tkinter module.\n",
    "\n",
    "\n",
    "\n",
    "#### Answer\n"
   ]
  },
  {
   "cell_type": "markdown",
   "id": "ca22c334",
   "metadata": {},
   "source": [
    "## out of syllabus"
   ]
  },
  {
   "cell_type": "markdown",
   "id": "bc20e921",
   "metadata": {},
   "source": [
    "## Q.70\n",
    "### Write a Python GUI program to create three radio buttons widgets using tkinter module.\n",
    "\n",
    "\n",
    "\n",
    "\n",
    "#### Answer"
   ]
  },
  {
   "cell_type": "markdown",
   "id": "768e4131",
   "metadata": {},
   "source": [
    "## out of syllabus"
   ]
  },
  {
   "cell_type": "code",
   "execution_count": null,
   "id": "8ff2235d",
   "metadata": {},
   "outputs": [],
   "source": []
  }
 ],
 "metadata": {
  "kernelspec": {
   "display_name": "Python 3",
   "language": "python",
   "name": "python3"
  },
  "language_info": {
   "codemirror_mode": {
    "name": "ipython",
    "version": 3
   },
   "file_extension": ".py",
   "mimetype": "text/x-python",
   "name": "python",
   "nbconvert_exporter": "python",
   "pygments_lexer": "ipython3",
   "version": "3.9.5"
  }
 },
 "nbformat": 4,
 "nbformat_minor": 5
}
