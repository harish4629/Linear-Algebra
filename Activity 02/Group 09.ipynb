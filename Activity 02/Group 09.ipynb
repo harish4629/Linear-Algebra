{
 "cells": [
  {
   "cell_type": "markdown",
   "metadata": {},
   "source": [
    "# HARISH PATIL"
   ]
  },
  {
   "cell_type": "markdown",
   "metadata": {},
   "source": [
    "# VAIBHAVI SHINDE"
   ]
  },
  {
   "cell_type": "markdown",
   "metadata": {},
   "source": [
    "# MUBIN SHAIKH"
   ]
  },
  {
   "cell_type": "markdown",
   "metadata": {},
   "source": [
    "# KAVERI MAHAJAN"
   ]
  },
  {
   "cell_type": "raw",
   "metadata": {},
   "source": [
    "#Q43) What are the types of parameters in functions?"
   ]
  },
  {
   "cell_type": "code",
   "execution_count": 2,
   "metadata": {},
   "outputs": [
    {
     "name": "stdout",
     "output_type": "stream",
     "text": [
      "25 10\n"
     ]
    }
   ],
   "source": [
    "#1. Positional parameters\n",
    "def show(a,b):\n",
    "     print(a,b)\n",
    "\n",
    "show(25,10) "
   ]
  },
  {
   "cell_type": "code",
   "execution_count": 3,
   "metadata": {},
   "outputs": [],
   "source": [
    "#. Passing string as function parameter\n",
    "def show(var1):\n",
    "     print(var1)"
   ]
  },
  {
   "cell_type": "code",
   "execution_count": 6,
   "metadata": {},
   "outputs": [
    {
     "name": "stdout",
     "output_type": "stream",
     "text": [
      "RAM\n"
     ]
    }
   ],
   "source": [
    "show('RAM')"
   ]
  },
  {
   "cell_type": "code",
   "execution_count": 7,
   "metadata": {},
   "outputs": [],
   "source": [
    "#Q44) What are the various parameter passing techniques?"
   ]
  },
  {
   "cell_type": "raw",
   "metadata": {},
   "source": [
    "#In Python, we know that a function can call other functions. It is even possible for the function to call itself. These types of construct are termed as recursive functions.\n",
    "\n",
    "The following image shows the working of a recursive function called recurse"
   ]
  },
  {
   "cell_type": "raw",
   "metadata": {},
   "source": [
    "#Advantages of Recursion\n",
    "Recursive functions make the code look clean and elegant.\n",
    "A complex task can be broken down into simpler sub-problems using recursion.\n",
    "Sequence generation is easier with recursion than using some nested iteration.\n",
    "#Disadvantages of Recursion\n",
    "Sometimes the logic behind recursion is hard to follow through.\n",
    "Recursive calls are expensive (inefficient) as they take up a lot of memory and time.\n",
    "Recursive functions are hard to debug."
   ]
  },
  {
   "cell_type": "code",
   "execution_count": 8,
   "metadata": {},
   "outputs": [
    {
     "name": "stdout",
     "output_type": "stream",
     "text": [
      "The factorial of 3 is 6\n"
     ]
    }
   ],
   "source": [
    "def factorial(x):\n",
    "    \"\"\"This is a recursive function\n",
    "    to find the factorial of an integer\"\"\"\n",
    "\n",
    "    if x == 1:\n",
    "        return 1\n",
    "    else:\n",
    "        return (x * factorial(x-1))\n",
    "\n",
    "\n",
    "num = 3\n",
    "print(\"The factorial of\", num, \"is\", factorial(num))"
   ]
  },
  {
   "cell_type": "code",
   "execution_count": 38,
   "metadata": {},
   "outputs": [],
   "source": [
    "#Q45)Write the merits of using functions in a program"
   ]
  },
  {
   "cell_type": "raw",
   "metadata": {},
   "source": [
    "A function is a block of reusable code that is used to perform a specific action. The advantages of using functions are:\n",
    "\n",
    "Reducing duplication of code\n",
    "Decomposing complex problems into simpler pieces\n",
    "Improving clarity of the code\n",
    "Reuse of code\n",
    "Information hiding\n",
    "Functions in Python are first-class citizens. It means that functions have equal status with other objects in Python. Functions can be assigned to variables, stored in collections, or passed as arguments. This brings additional flexibility to the language.\n",
    "\n",
    "Python function types\n",
    "There are two basic types of functions: built-in functions and user defined functions. The built-in functions are part of the Python language; for instance dir(), len(), or abs(). The user defined functions are functions created with the def keyword.\n",
    "\n",
    "Python creating functions\n",
    "A function is created with the def keyword. The statements in the block of the function must be indented.\n",
    "\n",
    "def function():\n",
    "    pass\n",
    "The def keyword is followed by the function name with round brackets and a colon. The indented statements form a body of the function.\n",
    "\n",
    "The function is later executed when needed. We say that we call the function. If we call a function, the statements inside the function body are executed. They are not executed until the function is called.\n",
    "\n",
    "myfunc()"
   ]
  },
  {
   "cell_type": "code",
   "execution_count": 45,
   "metadata": {},
   "outputs": [],
   "source": [
    "#Q50)Write Pythonic code to solve the quadratic equation $ax^2 + bx + c = 0$ by getting input for coefficients from the user."
   ]
  },
  {
   "cell_type": "code",
   "execution_count": 43,
   "metadata": {},
   "outputs": [],
   "source": [
    "def quadratic_equation(a,b,c):\n",
    "    equation=a*4^2+b*4+c\n",
    "    return equation"
   ]
  },
  {
   "cell_type": "code",
   "execution_count": 44,
   "metadata": {},
   "outputs": [
    {
     "data": {
      "text/plain": [
       "80"
      ]
     },
     "execution_count": 44,
     "metadata": {},
     "output_type": "execute_result"
    }
   ],
   "source": [
    "quadratic_equation(12,23,2)"
   ]
  },
  {
   "cell_type": "code",
   "execution_count": null,
   "metadata": {},
   "outputs": [],
   "source": [
    "#Q51Find the area and perimeter of a circle using functions. Prompt the user for inpu"
   ]
  },
  {
   "cell_type": "code",
   "execution_count": 48,
   "metadata": {},
   "outputs": [],
   "source": [
    "def circle(r):\n",
    "    area=3.14*r*r\n",
    "    perimeter=2*3.14*r\n",
    "    print(area)\n",
    "    print(perimeter)"
   ]
  },
  {
   "cell_type": "code",
   "execution_count": 53,
   "metadata": {},
   "outputs": [
    {
     "name": "stdout",
     "output_type": "stream",
     "text": [
      "28.259999999999998\n",
      "18.84\n"
     ]
    }
   ],
   "source": [
    "circle(3)"
   ]
  },
  {
   "cell_type": "code",
   "execution_count": null,
   "metadata": {},
   "outputs": [],
   "source": []
  }
 ],
 "metadata": {
  "kernelspec": {
   "display_name": "Python 3",
   "language": "python",
   "name": "python3"
  },
  "language_info": {
   "codemirror_mode": {
    "name": "ipython",
    "version": 3
   },
   "file_extension": ".py",
   "mimetype": "text/x-python",
   "name": "python",
   "nbconvert_exporter": "python",
   "pygments_lexer": "ipython3",
   "version": "3.8.5"
  }
 },
 "nbformat": 4,
 "nbformat_minor": 4
}
