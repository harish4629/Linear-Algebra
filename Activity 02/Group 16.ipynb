{
 "cells": [
  {
   "cell_type": "markdown",
   "id": "46115af5",
   "metadata": {},
   "source": [
    "## Q31 Explain in detail about Control flow structures.\n",
    "\n",
    "Answer\n",
    "\n"
   ]
  },
  {
   "cell_type": "markdown",
   "id": "c204def8",
   "metadata": {},
   "source": [
    "A control structure (or flow of control) is a block of programming that analyses variables and chooses a direction in which to go based on given parameters. In simple sentence, a control structure is just a decision that the computer makes. So, it is the basic decision-making process in programming and flow of control determines how a computer program will respond when given certain conditions and parameters.\n",
    "There are two basic aspects of computer programming: data and instructions . To work with data, you need to understand variables and data types; to work with instructions, you need to understand control structures and statements. Flow of control through any given program is implemented with three basic types of control structures: Sequential, C and Repetition.\n",
    "\n",
    "1. Sequencial :\n",
    "Sequential execution is when statements are executed one after another in order. You don't need to do anything more for this to happen.\n",
    "\n",
    "2. Selection :\n",
    "Selection used for decisions, branching - choosing between 2 or more alternative paths.\n",
    "\n",
    " - if\n",
    " - if...else\n",
    " - switch\n",
    "\n",
    "3. Repetation :\n",
    "Repetition used for looping, i.e. repeating a piece of code multiple times in a row.\n",
    "\n",
    " - while loop\n",
    " - do..while loop\n",
    " - for loop\n",
    " \n",
    "These control structures can be combined in computer programming. A sequence may contain several loops; a loop may contain a loop nested within it, or the two branches of a conditional may each contain sequences with loops and more conditionals. From the following lessons you can understand the control structures"
   ]
  },
  {
   "cell_type": "markdown",
   "id": "bfffb5b4",
   "metadata": {},
   "source": [
    "## Q32 Write a program using while loop first N numbers divisible by 5.\n",
    "\n",
    "Answer\n",
    "\n"
   ]
  },
  {
   "cell_type": "code",
   "execution_count": null,
   "id": "6d701be7",
   "metadata": {},
   "outputs": [],
   "source": [
    "def NumGen(n):\n",
    "     \n",
    "    for j in range(1, n+1):\n",
    " \n",
    "        if j % 5 == 0 :\n",
    "            yield j\n",
    "\n",
    "if __name__ == \"__main__\":\n",
    "    N = 100\n",
    "    for j in NumGen(N):\n",
    "        print(j, end = \" \")\n",
    "\n"
   ]
  },
  {
   "cell_type": "markdown",
   "id": "a2f4aadb",
   "metadata": {},
   "source": [
    "## Q33 List some of the methods in List Operations.\n",
    "\n",
    "Answer\n",
    "\n"
   ]
  },
  {
   "cell_type": "markdown",
   "id": "09f63369",
   "metadata": {},
   "source": [
    "### Some of the most widely used list operations in Python :\n",
    "\n",
    "1. append()\n",
    "The append() method is used to add elements at the end of the list. This method can only add a single element at a time. To add multiple elements, the append() method can be used inside a loop.\n",
    "- Ex. myList.append(4)\n",
    "    myList.append(5)\n",
    "    \n",
    "    \n",
    "2. remove()\n",
    "The remove() method is used to remove an element from the list. In the case of multiple occurrences of the same element, only the first occurrence is removed.\n",
    "- Ex. myList.remove('makes learning fun!')\n",
    "\n",
    "\n",
    "3. Slice\n",
    "The Slice operation is used to print a section of the list. The Slice operation returns a specific range of elements. It does not modify the original list.\n",
    "- Ex. print(myList[:4])  # prints from beginning to end index\n",
    "    print(myList[2:])  # prints from start index to end of list\n",
    "    print(myList[2:4]) # prints from start index to end index\n",
    "    print(myList[:])   # prints from beginning to end of list\n",
    "    \n",
    "    \n",
    "3. Reverse()\n",
    "The reverse() operation is used to reverse the elements of the list. This method modifies the original list. To reverse a list without modifying the original one, we use the slice operation with negative indices. Specifying negative indices iterates the list from the rear end to the front end of the list.\n",
    "- Ex. print(myList[::-1])  # does not modify the original list\n",
    "    myList.reverse()     # modifies the original list\n",
    "    print(myList)\n",
    "\n",
    "\n",
    "4. len()\n",
    "The len() method returns the length of the list, i.e. the number of elements in the list.\n",
    "- Ex. print(len(myList))\n",
    "\n",
    "\n",
    "5. min() & max()\n",
    "The min() method returns the minimum value in the list. The max() method returns the maximum value in the list. Both the methods accept only homogeneous lists, i.e. list having elements of similar type.\n",
    "- Ex. print(min([1, 2, 3]))\n",
    "    print(max([1, 2, 3]))\n",
    "    \n",
    "    \n",
    "6. count()\n",
    "The function count() returns the number of occurrences of a given element in the list.\n",
    "- Ex. print(myList.count(3))    "
   ]
  },
  {
   "cell_type": "markdown",
   "id": "82be0a89",
   "metadata": {},
   "source": [
    "## Q34 List out the types of Modules and Explain any two types in detail.\n",
    "\n",
    "Answer\n",
    "\n"
   ]
  },
  {
   "cell_type": "code",
   "execution_count": null,
   "id": "41789ddf",
   "metadata": {},
   "outputs": [],
   "source": []
  },
  {
   "cell_type": "markdown",
   "id": "799ac7c9",
   "metadata": {},
   "source": [
    "## Q35 Write Python program to replace comma-separated words with hyphens and print hyphen-separated words in ascending order.\n",
    "\n",
    "Answer"
   ]
  },
  {
   "cell_type": "code",
   "execution_count": 4,
   "id": "b84da09d",
   "metadata": {},
   "outputs": [
    {
     "name": "stdout",
     "output_type": "stream",
     "text": [
      "Enter comma separated words Welcome,Bhushan\n",
      "Hyphen separated words in ascending order are'Bhushan-Welcome'\n"
     ]
    }
   ],
   "source": [
    "def replace_comma_with_hyphen(comma_separated_words):\n",
    "    split_words = comma_separated_words.split(\",\")\n",
    "    split_words.sort()\n",
    "    hyphen_separated_words = \"-\".join(split_words)\n",
    "    print(f\"Hyphen separated words in ascending order are'{hyphen_separated_words}'\")\n",
    "def main():\n",
    "    comma_separated_words = input(\"Enter comma separated words \")\n",
    "    replace_comma_with_hyphen(comma_separated_words)\n",
    "if __name__ == \"__main__\":\n",
    "    main()\n"
   ]
  },
  {
   "cell_type": "code",
   "execution_count": null,
   "id": "d0f8eb05",
   "metadata": {},
   "outputs": [],
   "source": []
  },
  {
   "cell_type": "code",
   "execution_count": null,
   "id": "cc6a35a7",
   "metadata": {},
   "outputs": [],
   "source": []
  }
 ],
 "metadata": {
  "kernelspec": {
   "display_name": "Python 3",
   "language": "python",
   "name": "python3"
  }
 },
 "nbformat": 4,
 "nbformat_minor": 5
}
