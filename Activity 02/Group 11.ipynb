{
 "cells": [
  {
   "cell_type": "markdown",
   "id": "9c2401e9",
   "metadata": {},
   "source": [
    "## Q51\n",
    "## Find the area and perimeter of a circle using functions. Prompt the user for input."
   ]
  },
  {
   "cell_type": "code",
   "execution_count": 15,
   "id": "925075ff",
   "metadata": {},
   "outputs": [
    {
     "name": "stdout",
     "output_type": "stream",
     "text": [
      "Enter the value of radious :3\n",
      "Area Of Circle : 28.259999999999998\n",
      "Perimeter Of Circle : 18.84\n"
     ]
    }
   ],
   "source": [
    "r = float(input(\"Enter the value of radious :\"))\n",
    "Area = 3.14*r*r\n",
    "Perimeter = 2*3.14*r\n",
    "print(\"Area Of Circle :\",Area)\n",
    "print(\"Perimeter Of Circle :\",Perimeter)"
   ]
  },
  {
   "cell_type": "markdown",
   "id": "36bb0177",
   "metadata": {},
   "source": [
    "## Q52\n",
    "## Discuss the following methods supported by compiled regular expression objects: a) \\verb\"search()\" b) \\verb\"match()\" c) \\verb\"findall()\""
   ]
  },
  {
   "cell_type": "code",
   "execution_count": null,
   "id": "a5264e4a",
   "metadata": {},
   "outputs": [],
   "source": [
    " ## Out of syllabus"
   ]
  },
  {
   "cell_type": "markdown",
   "id": "a462d327",
   "metadata": {},
   "source": [
    "## Q53\n",
    "## Given the Coordinates(x,y) of a center of a Circle and its radius, write Python program to determine whether the Point lies inside the Circle, on the Circle or outside the Circle."
   ]
  },
  {
   "cell_type": "code",
   "execution_count": 16,
   "id": "87939c6e",
   "metadata": {},
   "outputs": [
    {
     "name": "stdout",
     "output_type": "stream",
     "text": [
      "Outside\n"
     ]
    }
   ],
   "source": [
    "def isInside(circle_x, circle_y, r,x,y):\n",
    "    if ((x - circle_x) * (y - circle_x) +                  #compare radious of circle distance of its centre.\n",
    "        (y - circle_y) * (y - circle_y) <=r * r):\n",
    "        return True;\n",
    "    else:\n",
    "        return False;\n",
    "\n",
    "x = 3;\n",
    "y = 3;\n",
    "circle_x = 0;\n",
    "circle_y = 1;\n",
    "r = 2;\n",
    "if(isInside(circle_x, circle_y, r,x,y)):\n",
    "    print(\"Inside\");\n",
    "else:\n",
    "    print(\"Outside\");\n",
    "    "
   ]
  },
  {
   "cell_type": "markdown",
   "id": "d5dc9192",
   "metadata": {},
   "source": [
    "## Q55\n",
    "## How will you create a Package and import it? Explain it with an example program."
   ]
  },
  {
   "cell_type": "code",
   "execution_count": null,
   "id": "562c35bc",
   "metadata": {},
   "outputs": [],
   "source": [
    "## Out of Syllabus"
   ]
  },
  {
   "cell_type": "markdown",
   "id": "f9a69510",
   "metadata": {},
   "source": [
    "## Q91\n",
    "## Explain different ways to create an empty NumPy array in Python."
   ]
  },
  {
   "cell_type": "markdown",
   "id": "9c06943b",
   "metadata": {},
   "source": [
    "##  There are many ways to create empty numpy array in python..\n",
    "## Syntax\n",
    "## array=np.empty(shape,dtype(data type), order='c')\n",
    "\n",
    "## Where ,\n",
    "## Shape = it is used to determine shape of an empty array.\n",
    "## dtype = it is used to define the data type of an empty array and it is optional parameter.\n",
    "## order = it is used to determine which is order we store in multidimensional data..\n"
   ]
  },
  {
   "cell_type": "code",
   "execution_count": 8,
   "id": "a1897917",
   "metadata": {},
   "outputs": [
    {
     "name": "stdout",
     "output_type": "stream",
     "text": [
      "[[0.00000000e+000 0.00000000e+000 0.00000000e+000]\n",
      " [0.00000000e+000 0.00000000e+000 5.63234836e-321]\n",
      " [4.45042952e-307 2.55896735e-307 9.79101081e-307]]\n"
     ]
    }
   ],
   "source": [
    "\n",
    "import numpy as np\n",
    "sample_array=np.empty((3,3))\n",
    "print(sample_array)"
   ]
  },
  {
   "cell_type": "code",
   "execution_count": 10,
   "id": "f2fadec4",
   "metadata": {},
   "outputs": [
    {
     "name": "stdout",
     "output_type": "stream",
     "text": [
      "[[0. 0. 0. 0.]\n",
      " [0. 0. 0. 0.]\n",
      " [0. 0. 0. 0.]]\n"
     ]
    }
   ],
   "source": [
    "A=np.zeros([3,4])\n",
    "print(A)"
   ]
  },
  {
   "cell_type": "code",
   "execution_count": 12,
   "id": "cd8fced6",
   "metadata": {},
   "outputs": [
    {
     "name": "stdout",
     "output_type": "stream",
     "text": [
      "[[6.23042070e-307 4.67296746e-307 1.69121096e-306 3.22647084e-307]\n",
      " [1.42418987e-306 1.37961641e-306 1.60220528e-306 1.24611266e-306]\n",
      " [9.34598925e-307 1.24612081e-306 1.11260755e-306 1.60220393e-306]\n",
      " [1.51320640e-306 9.34609790e-307 1.86921279e-306 1.24610723e-306]]\n"
     ]
    }
   ],
   "source": [
    "A=np.empty([4,4],dtype=float)\n",
    "print(A)"
   ]
  },
  {
   "cell_type": "code",
   "execution_count": 13,
   "id": "797b49b8",
   "metadata": {},
   "outputs": [
    {
     "name": "stdout",
     "output_type": "stream",
     "text": [
      "[[6.23042070e-307 4.67296746e-307 1.69121096e-306 3.22647084e-307]\n",
      " [1.42418987e-306 1.37961641e-306 1.60220528e-306 1.24611266e-306]\n",
      " [9.34598925e-307 1.24612081e-306 1.11260755e-306 1.60220393e-306]\n",
      " [1.51320640e-306 9.34609790e-307 1.86921279e-306 1.24610723e-306]]\n"
     ]
    }
   ],
   "source": [
    "A=np.empty([4,4],dtype=float,order='C')   ## we passed order (row style)\n",
    "print(A)"
   ]
  },
  {
   "cell_type": "code",
   "execution_count": 14,
   "id": "f063f329",
   "metadata": {},
   "outputs": [
    {
     "name": "stdout",
     "output_type": "stream",
     "text": [
      "[7.74860419e-304 7.74860419e-304]\n"
     ]
    }
   ],
   "source": [
    "A=np.empty(shape=2)\n",
    "print(A)"
   ]
  },
  {
   "cell_type": "code",
   "execution_count": null,
   "id": "308e2394",
   "metadata": {},
   "outputs": [],
   "source": []
  }
 ],
 "metadata": {
  "kernelspec": {
   "display_name": "Python 3",
   "language": "python",
   "name": "python3"
  },
  "language_info": {
   "codemirror_mode": {
    "name": "ipython",
    "version": 3
   },
   "file_extension": ".py",
   "mimetype": "text/x-python",
   "name": "python",
   "nbconvert_exporter": "python",
   "pygments_lexer": "ipython3",
   "version": "3.9.5"
  }
 },
 "nbformat": 4,
 "nbformat_minor": 5
}
