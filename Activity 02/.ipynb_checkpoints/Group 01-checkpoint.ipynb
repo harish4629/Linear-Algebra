{
 "cells": [
  {
   "cell_type": "markdown",
   "id": "dd0723ea",
   "metadata": {},
   "source": [
    "## Q1 Write a program to display the fibonacci sequences up to $n^\\text{th}$ term where $n$ is provided by the user."
   ]
  },
  {
   "cell_type": "markdown",
   "id": "dacdf277",
   "metadata": {},
   "source": [
    "A Fibonacci sequence is the integer sequence of 0, 1, 1, 2, 3, 5, 8....\n",
    "\n",
    "The first two terms are 0 and 1. All other terms are obtained by adding the preceding two terms. This means to say the nth term is the sum of (n-1)th and (n-2)th term.\n",
    "In mathematical terms, the sequence Fn of Fibonacci numbers is defined by the recurrence relation \n",
    "**Fn = Fn-1 + Fn-2**\n",
    "With seed values \n",
    "**F0 = 0 and F1 = 1.**"
   ]
  },
  {
   "cell_type": "code",
   "execution_count": 1,
   "id": "74334f31",
   "metadata": {},
   "outputs": [
    {
     "name": "stdout",
     "output_type": "stream",
     "text": [
      "How many terms? 10\n",
      "Fibonacci sequence:\n",
      "0\n",
      "1\n",
      "1\n",
      "2\n",
      "3\n",
      "5\n",
      "8\n",
      "13\n",
      "21\n",
      "34\n"
     ]
    }
   ],
   "source": [
    "n = int(input(\"How many terms? \"))\n",
    "\n",
    "n1, n2 = 0, 1\n",
    "count = 0\n",
    "\n",
    "if n <= 0:\n",
    "   print(\"Please enter a positive integer\")\n",
    "# if there is only one term, return n1\n",
    "elif n == 1:\n",
    "   print(\"Fibonacci sequence upto\",n,\":\")\n",
    "   print(n1)\n",
    "# generate fibonacci sequence\n",
    "else:\n",
    "   print(\"Fibonacci sequence:\")\n",
    "   while count < n:\n",
    "       print(n1)\n",
    "       nth = n1 + n2\n",
    "       # update values\n",
    "       n1 = n2\n",
    "       n2 = nth\n",
    "       count += 1"
   ]
  },
  {
   "cell_type": "markdown",
   "id": "4f8d8de7",
   "metadata": {},
   "source": [
    "## Q2 Write a program to repeatedly check for the largest number until the user enters ''done''."
   ]
  },
  {
   "cell_type": "code",
   "execution_count": 8,
   "id": "03889300",
   "metadata": {},
   "outputs": [
    {
     "name": "stdout",
     "output_type": "stream",
     "text": [
      "Enter a number: 50000\n",
      "Enter a number: 10000\n",
      "Enter a number: 60000\n",
      "Enter a number: 30000\n",
      "Enter a number: done\n",
      "Maximum is 60000\n"
     ]
    }
   ],
   "source": [
    "largest = None\n",
    "\n",
    "while True:\n",
    "    try:\n",
    "        num = input(\"Enter a number: \")\n",
    "        if num == \"done\":\n",
    "            break\n",
    "#print (num)\n",
    "        num = int(num)\n",
    "        if largest is None or largest < num:\n",
    "            largest = num\n",
    "        \n",
    "    except ValueError:\n",
    "            print(\"Invalid input\")\n",
    "\n",
    "print (\"Maximum is\", largest)"
   ]
  },
  {
   "cell_type": "markdown",
   "id": "a36334ba",
   "metadata": {},
   "source": [
    "## Q3 Write a program to find the sum of all Odd and Even numbers up to a number specified by the user."
   ]
  },
  {
   "cell_type": "code",
   "execution_count": 4,
   "id": "b6feee40",
   "metadata": {},
   "outputs": [
    {
     "name": "stdout",
     "output_type": "stream",
     "text": [
      "Enter the maximum value: 100\n",
      "\n",
      "The sum of Even numbers 1 to 100 = 2550\n",
      "\n",
      "The sum of odd numbers 1 to 100 = 2500\n"
     ]
    }
   ],
   "source": [
    "maximum=int(input(\"Enter the maximum value: \"))\n",
    "even_Sum=0\n",
    "odd_Sum=0\n",
    "for num in range(1,maximum+1):\n",
    "    if (num%2==0):\n",
    "        even_Sum=even_Sum+num\n",
    "    else:\n",
    "        odd_Sum=odd_Sum+num\n",
    "print(\"\\nThe sum of Even numbers 1 to {0} = {1}\".format(num,even_Sum))\n",
    "print(\"\\nThe sum of odd numbers 1 to {0} = {1}\".format(num,odd_Sum))"
   ]
  },
  {
   "cell_type": "markdown",
   "id": "4a9597ec",
   "metadata": {},
   "source": [
    "## Q4 Explain the need for \\verb\"continue\" and \\verb\"break\" statements. Write a program to check whether a number is prime or not. Prompt the user for input."
   ]
  },
  {
   "cell_type": "markdown",
   "id": "48cd5e3d",
   "metadata": {},
   "source": [
    "##### Python continue statement\n",
    "The continue statement is used to skip the rest of the code inside a loop for the current iteration only. Loop does not terminate but continues on with the next iteration.\n",
    "\n",
    "Syntax of Continue:\n",
    "continue\n",
    "\n"
   ]
  },
  {
   "cell_type": "markdown",
   "id": "763c8301",
   "metadata": {},
   "source": [
    "##### Python break statement \n",
    "The break statement terminates the loop containing it. Control of the program flows to the statement immediately after the body of the loop.\n",
    "\n",
    "If the break statement is inside a nested loop (loop inside another loop), the break statement will terminate the innermost loop.\n",
    "\n",
    "Syntax of Break: break "
   ]
  },
  {
   "cell_type": "code",
   "execution_count": 5,
   "id": "c75d23b3",
   "metadata": {},
   "outputs": [
    {
     "name": "stdout",
     "output_type": "stream",
     "text": [
      "Enter a number: 10\n",
      "10 is not a prime number\n"
     ]
    }
   ],
   "source": [
    "n = int(input(\"Enter a number: \"))\n",
    "\n",
    "if n > 1:\n",
    "    for i in range(2,n):\n",
    "        if (n % i) == 0:\n",
    "            print(n,\"is not a prime number\")\n",
    "            break\n",
    "    else:\n",
    "        print(n,\"is a prime number\") "
   ]
  },
  {
   "cell_type": "markdown",
   "id": "af8b26ff",
   "metadata": {},
   "source": [
    "## Q5 Write a program using functions to find the value of $^nP_r$ and $^nC_r$ without using inbuilt \"factorial()\" function."
   ]
  },
  {
   "cell_type": "markdown",
   "id": "e059cbbf",
   "metadata": {},
   "source": [
    "##### PERMUTATIONS\n",
    "nPr represents n permutation r which is calculated as:\n",
    "#### n!/(n-r)!.\n",
    "\n",
    "Permutation refers to the process of arranging all the members of a given set to form a sequence. The number of permutations on a set of n elements is given by n! where “!” represents factorial. "
   ]
  },
  {
   "cell_type": "code",
   "execution_count": 9,
   "id": "41760ca2",
   "metadata": {},
   "outputs": [
    {
     "name": "stdout",
     "output_type": "stream",
     "text": [
      "Enter value of n : 10\n",
      "\n",
      "Enter value of  r: 5\n",
      "\n",
      "The nPr value is: 30240\n"
     ]
    }
   ],
   "source": [
    "import math\n",
    "\n",
    "n=int(input('Enter value of n : ')) \n",
    "r=int(input('\\nEnter value of  r: '))\n",
    " \n",
    "def nPr(n, r):\n",
    "     \n",
    "    return math.floor(fact(n)/\n",
    "                 (fact(n - r)))\n",
    "\n",
    "def fact(n):\n",
    " \n",
    "    res = 1\n",
    "     \n",
    "    for i in range(2, n+1):\n",
    "        res = res * i\n",
    "         \n",
    "    return res\n",
    "\n",
    "print(\"\\nThe nPr value is:\", nPr(n, r))"
   ]
  },
  {
   "cell_type": "markdown",
   "id": "80074e85",
   "metadata": {},
   "source": [
    "##### COMBINATIONS\n",
    "nCr is used to find the number of ways where r objects chosen from n objects and the order is not important. It is represented in the following way:\n",
    " \n",
    " #### nCr=n!/r! * (n-r)!\n",
    "\n",
    "n is the total number of things.<br>\n",
    "r is the number of things to be chosen out of n things.\n"
   ]
  },
  {
   "cell_type": "code",
   "execution_count": 10,
   "id": "6d2ff1bf",
   "metadata": {},
   "outputs": [
    {
     "name": "stdout",
     "output_type": "stream",
     "text": [
      "Enter value of n : 6\n",
      "\n",
      "Enter value of  r: 3\n",
      "\n",
      "The nCr value is: 20\n"
     ]
    }
   ],
   "source": [
    "n=int(input('Enter value of n : ')) \n",
    "r=int(input('\\nEnter value of  r: '))\n",
    "\n",
    "def nCr(n, r):\n",
    " \n",
    "    return (fact(n) / (fact(r)\n",
    "                * fact(n - r)))\n",
    "\n",
    "def fact(n):\n",
    " \n",
    "    res = 1\n",
    "     \n",
    "    for i in range(2, n+1):\n",
    "        res = res * i\n",
    "         \n",
    "    return res\n",
    " \n",
    "\n",
    "print(\"\\nThe nCr value is:\",int(nCr(n, r)))\n",
    " "
   ]
  }
 ],
 "metadata": {
  "kernelspec": {
   "display_name": "Python 3",
   "language": "python",
   "name": "python3"
  },
  "language_info": {
   "codemirror_mode": {
    "name": "ipython",
    "version": 3
   },
   "file_extension": ".py",
   "mimetype": "text/x-python",
   "name": "python",
   "nbconvert_exporter": "python",
   "pygments_lexer": "ipython3",
   "version": "3.9.5"
  },
  "latex_envs": {
   "LaTeX_envs_menu_present": true,
   "autoclose": false,
   "autocomplete": true,
   "bibliofile": "biblio.bib",
   "cite_by": "apalike",
   "current_citInitial": 1,
   "eqLabelWithNumbers": true,
   "eqNumInitial": 1,
   "hotkeys": {
    "equation": "Ctrl-E",
    "itemize": "Ctrl-I"
   },
   "labels_anchors": false,
   "latex_user_defs": false,
   "report_style_numbering": false,
   "user_envs_cfg": false
  },
  "toc": {
   "base_numbering": 1,
   "nav_menu": {},
   "number_sections": true,
   "sideBar": true,
   "skip_h1_title": false,
   "title_cell": "Table of Contents",
   "title_sidebar": "Contents",
   "toc_cell": false,
   "toc_position": {},
   "toc_section_display": true,
   "toc_window_display": false
  }
 },
 "nbformat": 4,
 "nbformat_minor": 5
}
