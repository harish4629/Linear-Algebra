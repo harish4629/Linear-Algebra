{
 "cells": [
  {
   "cell_type": "markdown",
   "id": "762b9038",
   "metadata": {},
   "source": [
    "## 2005_Prajakta Bhoi\n",
    "## 2018_Kirti Khalge\n",
    "## 2021_Gayatri lakhotia"
   ]
  },
  {
   "cell_type": "code",
   "execution_count": null,
   "id": "178412f8",
   "metadata": {},
   "outputs": [],
   "source": [
    "import numpy as np"
   ]
  },
  {
   "cell_type": "markdown",
   "id": "7e9a2ce8",
   "metadata": {},
   "source": [
    "# Q36\n",
    "\n",
    "Write Pythonic code to multiply two matrices using nested loops."
   ]
  },
  {
   "cell_type": "code",
   "execution_count": null,
   "id": "bce50b1b",
   "metadata": {},
   "outputs": [],
   "source": [
    "# 3x3 matrix\n",
    "A = [[12,7,3],\n",
    "    [4 ,5,6],\n",
    "    [7 ,8,9]]\n",
    "\n",
    "# 3x4 matrix\n",
    "B = [[5,8,1,2],\n",
    "    [6,7,3,0],\n",
    "    [4,5,9,1]]\n",
    "\n",
    "# result is 3x4\n",
    "result = [[0,0,0,0],\n",
    "         [0,0,0,0],\n",
    "         [0,0,0,0]]\n",
    "\n",
    "# iterating by row of A\n",
    "for i in range(len(A)):\n",
    "  \n",
    "    # iterating by coloum by B \n",
    "    for j in range(len(B[0])):\n",
    "  \n",
    "        # iterating by rows of B\n",
    "        for k in range(len(B)):\n",
    "            result[i][j] += A[i][k] * B[k][j]\n",
    "  \n",
    "for r in result:\n",
    "    print(r)  "
   ]
  },
  {
   "cell_type": "markdown",
   "id": "59d9b0dd",
   "metadata": {},
   "source": [
    "# Q37\n",
    "\n",
    "Program to demonstrate the Overriding of the Base Class method in the Derived Class."
   ]
  },
  {
   "cell_type": "code",
   "execution_count": null,
   "id": "e8db02d1",
   "metadata": {},
   "outputs": [],
   "source": [
    "import math\n",
    "\n",
    "class Point:\n",
    "    \"\"\" Point class for representing and manipulating x,y coordinates. \"\"\"\n",
    "\n",
    "    def __init__(self, initX, initY):\n",
    "\n",
    "        self.x = initX\n",
    "        self.y = initY\n",
    "\n",
    "    def getX(self):\n",
    "        return self.x\n",
    "\n",
    "    def getY(self):\n",
    "        return self.y\n",
    "\n",
    "    def distanceFromOrigin(self):\n",
    "        return ((self.x ** 2) + (self.y ** 2)) ** 0.5\n",
    "\n",
    "    def distance(self, point2):\n",
    "        xdiff = point2.getX()-self.getX()\n",
    "        ydiff = point2.getY()-self.getY()\n",
    "\n",
    "        dist = math.sqrt(xdiff**2 + ydiff**2)\n",
    "        return dist\n",
    "\n",
    "p = Point(4,3)\n",
    "q = Point(0,0)\n",
    "print(p.distance(q))"
   ]
  },
  {
   "cell_type": "markdown",
   "id": "a840d83b",
   "metadata": {},
   "source": [
    "# Q38\n",
    "\n",
    "Write Python program to demonstrate Multiple Inheritance."
   ]
  },
  {
   "cell_type": "code",
   "execution_count": null,
   "id": "5d45cc71",
   "metadata": {},
   "outputs": [],
   "source": [
    "class Base1(object):\n",
    "    def __init__(self):\n",
    "        self.str1 = \"group1\"\n",
    "        print(\"Base1\")\n",
    "  \n",
    "class Base2(object):\n",
    "    def __init__(self):\n",
    "        self.str2 = \"group2\"        \n",
    "        print(\"Base2\")\n",
    "  \n",
    "class Derived(Base1, Base2):\n",
    "    def __init__(self):\n",
    "          \n",
    "        # Calling constructors of Base1\n",
    "        # and Base2 classes\n",
    "        Base1.__init__(self)\n",
    "        Base2.__init__(self)\n",
    "        print(\"Derived\")\n",
    "          \n",
    "    def printStrs(self):\n",
    "        print(self.str1, self.str2)\n",
    "         \n",
    "  \n",
    "ob = Derived()\n",
    "ob.printStrs()"
   ]
  },
  {
   "cell_type": "markdown",
   "id": "ba1fe8ba",
   "metadata": {},
   "source": [
    "# Q39\n",
    "\n",
    "What are the different function prototypes? Explain it with suitable example."
   ]
  },
  {
   "cell_type": "markdown",
   "id": "f189a733",
   "metadata": {},
   "source": [
    "Prototype Method is a Creational Design Pattern which aims to reduce the number of classes used for an application. It allows you to copy existing objects independent of the concrete implementation of their classes. Generally, here the object is created by copying a prototypical instance during run-time.\n",
    "It is highly recommended to use Prototype Method when the object creation is an expensive task in terms of time and usage of resources and already there exists a similar object. This method provides a way to copy the original object and then modify it according to our needs."
   ]
  },
  {
   "cell_type": "markdown",
   "id": "a39b8915",
   "metadata": {},
   "source": [
    "# Function Prototypes:\n",
    "    \n",
    "i. Function without arguments and without return type\n",
    "\n",
    "ii.Function with arguments and without return type\n",
    "\n",
    "iii.Function without arguments and with return type\n",
    "\n",
    "iv.Function with arguments and with return type"
   ]
  },
  {
   "cell_type": "markdown",
   "id": "e0e6d0b7",
   "metadata": {},
   "source": [
    "## i) Function without arguments and without return type\n",
    "\n",
    "o  In this type no argument is passed through the function call and no output is return to main function\n",
    "\n",
    "o  The sub function will read the input values perform the operation and print the result in the same block"
   ]
  },
  {
   "cell_type": "code",
   "execution_count": null,
   "id": "50dd9876",
   "metadata": {},
   "outputs": [],
   "source": [
    "def add():\n",
    "    a=int(input(\"enter a :\"))\n",
    "    b=int(input(\"enter b :\"))\n",
    "    c=a+b\n",
    "    print(\"Addition of the two number is \",c)\n",
    "\n",
    "add()"
   ]
  },
  {
   "cell_type": "markdown",
   "id": "5d14654b",
   "metadata": {},
   "source": [
    "## ii)Function with arguments and without return type\n",
    "o Arguments are passed through the function call but output is not return to the main function"
   ]
  },
  {
   "cell_type": "code",
   "execution_count": null,
   "id": "a7c93437",
   "metadata": {},
   "outputs": [],
   "source": [
    "def add(a,b):\n",
    "    c=a+b\n",
    "    print(c)\n",
    "    a=int(input(\"enter a\"))\n",
    "    b=int(input(\"enter b\"))\n",
    "\n",
    "add(a,b)"
   ]
  },
  {
   "cell_type": "markdown",
   "id": "474e4c2e",
   "metadata": {},
   "source": [
    "## iii) Function without arguments and with return type\n",
    "o In this type no argument is passed through the function call but output is return to the main function."
   ]
  },
  {
   "cell_type": "code",
   "execution_count": null,
   "id": "5447ba52",
   "metadata": {},
   "outputs": [],
   "source": [
    "def add():\n",
    "    a=int(input(\"enter a\"))\n",
    "    b=int(input(\"enter b\"))\n",
    "    c=a+b\n",
    "    return c\n",
    "c=add()\n",
    "print(c)"
   ]
  },
  {
   "cell_type": "markdown",
   "id": "745cd969",
   "metadata": {},
   "source": [
    "## iv) Function with arguments and with return type\n",
    "In this type arguments are passed through the function call and output is return to the main function"
   ]
  },
  {
   "cell_type": "code",
   "execution_count": null,
   "id": "6c775da7",
   "metadata": {},
   "outputs": [],
   "source": [
    "def add(a,b):\n",
    "c=a+b\n",
    "return c\n",
    "a=int(input(\"enter a\"))\n",
    "b=int(input(\"enter b\"))\n",
    "c=add(a,b)\n",
    "print(c)"
   ]
  },
  {
   "cell_type": "markdown",
   "id": "4a4410ec",
   "metadata": {},
   "source": [
    "# Q40\n",
    "\n",
    "Write a program to circulate value of $N$ numbers."
   ]
  },
  {
   "cell_type": "code",
   "execution_count": null,
   "id": "375e1e8d",
   "metadata": {},
   "outputs": [],
   "source": [
    "no_of_terms = int(input(\"Enter number of values : \"))\n",
    "list1 = []\n",
    "\n",
    "for val in range(0,no_of_terms,1):\n",
    "\n",
    "   element = int(input(\"Enter integer : \"))\n",
    "\n",
    "   list1.append(element)\n",
    "\n",
    "print(\"Circulating the elements of list \", list1)\n",
    "\n",
    "   \n",
    "\n",
    "for val in range(0,no_of_terms,1):\n",
    "\n",
    "   element = list1.pop(0)\n",
    "\n",
    "   list1.append(element)\n",
    "\n",
    "   print(list1)"
   ]
  }
 ],
 "metadata": {
  "kernelspec": {
   "display_name": "Python 3",
   "language": "python",
   "name": "python3"
  },
  "language_info": {
   "codemirror_mode": {
    "name": "ipython",
    "version": 3
   },
   "file_extension": ".py",
   "mimetype": "text/x-python",
   "name": "python",
   "nbconvert_exporter": "python",
   "pygments_lexer": "ipython3",
   "version": "3.9.5"
  },
  "latex_envs": {
   "LaTeX_envs_menu_present": true,
   "autoclose": false,
   "autocomplete": true,
   "bibliofile": "biblio.bib",
   "cite_by": "apalike",
   "current_citInitial": 1,
   "eqLabelWithNumbers": true,
   "eqNumInitial": 1,
   "hotkeys": {
    "equation": "Ctrl-E",
    "itemize": "Ctrl-I"
   },
   "labels_anchors": false,
   "latex_user_defs": false,
   "report_style_numbering": false,
   "user_envs_cfg": false
  },
  "toc": {
   "base_numbering": 1,
   "nav_menu": {},
   "number_sections": true,
   "sideBar": true,
   "skip_h1_title": false,
   "title_cell": "Table of Contents",
   "title_sidebar": "Contents",
   "toc_cell": false,
   "toc_position": {},
   "toc_section_display": true,
   "toc_window_display": false
  }
 },
 "nbformat": 4,
 "nbformat_minor": 5
}
