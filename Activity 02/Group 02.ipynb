{
 "cells": [
  {
   "cell_type": "markdown",
   "id": "6e9ee8fd",
   "metadata": {},
   "source": [
    "# Q6\n",
    "Write a program to print the sum of the following series   $ 1 + \\frac{1}{2} +\\cdots + \\frac{1}{n} $"
   ]
  },
  {
   "cell_type": "code",
   "execution_count": 22,
   "id": "501d2d39",
   "metadata": {},
   "outputs": [
    {
     "name": "stdout",
     "output_type": "stream",
     "text": [
      "Enter n :4\n",
      "2.083333333333333\n"
     ]
    }
   ],
   "source": [
    "n=int(input(\"Enter n :\"))\n",
    "sum1=0\n",
    "\n",
    "for i in range(n):\n",
    "    sum1=sum1+1/(i+1)\n",
    "    \n",
    "print(sum1)"
   ]
  },
  {
   "cell_type": "markdown",
   "id": "a7367985",
   "metadata": {},
   "source": [
    "# Q7\n",
    "What is the difference between list and tuples in Python?"
   ]
  },
  {
   "cell_type": "markdown",
   "id": "f908aa4c",
   "metadata": {},
   "source": [
    "### List\n",
    "List is just like the arrays, declared in other languages. Lists need not be homogeneous always which makes it the most powerful tool in Python. In Python, the list is a type of container in Data Structures, which is used to store multiple data at the same time. Lists are a useful tool for preserving a sequence of data and further iterating over it. \n",
    "Syntax: \n",
    "\n",
    "list_data = ['an', 'example', 'of', 'a', 'list']\n",
    "\n",
    "### Tuple\n",
    "Tuple is also a sequence data type that can contain elements of different data types, but these are immutable in nature. In other words, a tuple is a collection of Python objects separated by commas. The tuple is faster than the list because of static in nature. \n",
    "Syntax:  \n",
    "\n",
    "tuple_data = ('this', 'is', 'an', 'example', 'of', 'tuple')"
   ]
  },
  {
   "cell_type": "markdown",
   "id": "bc21237f",
   "metadata": {},
   "source": [
    "# Q8\n",
    "How does break, continue and pass work?"
   ]
  },
  {
   "cell_type": "markdown",
   "id": "98b53623",
   "metadata": {},
   "source": [
    "### break\n",
    "The break statement is used to terminate the loop or statement in which it is present. After that, the control will pass to the statements that are present after the break statement, if available. If the break statement is present in the nested loop, then it terminates only those loops which contains break statement.\n",
    "\n",
    "Syntax:break"
   ]
  },
  {
   "cell_type": "code",
   "execution_count": 21,
   "id": "6083f4f6",
   "metadata": {},
   "outputs": [
    {
     "name": "stdout",
     "output_type": "stream",
     "text": [
      "g\n",
      "e\n",
      "Out of for loop\n",
      "\n"
     ]
    }
   ],
   "source": [
    "s = 'geeksforgeeks'\n",
    "# Using for loop \n",
    "for letter in s: \n",
    "    \n",
    "    print(letter) \n",
    "    # break the loop as soon it sees 'e' \n",
    "    # or 's' \n",
    "    if letter == 'e' or letter == 's': \n",
    "        break\n",
    "    \n",
    "print(\"Out of for loop\") \n",
    "print() "
   ]
  },
  {
   "cell_type": "markdown",
   "id": "d2d0bb67",
   "metadata": {},
   "source": [
    "### Continue\n",
    "Continue is also a loop control statement just like the break statement. continue statement is opposite to that of break statement, instead of terminating the loop, it forces to execute the next iteration of the loop.\n",
    "As the name suggests the continue statement forces the loop to continue or execute the next iteration. When the continue statement is executed in the loop, the code inside the loop following the continue statement will be skipped and the next iteration of the loop will begin.\n",
    "\n",
    "Syntax:continue\n"
   ]
  },
  {
   "cell_type": "code",
   "execution_count": 8,
   "id": "ba3ea90c",
   "metadata": {},
   "outputs": [
    {
     "name": "stdout",
     "output_type": "stream",
     "text": [
      "1 2 3 4 5 7 8 9 10 "
     ]
    }
   ],
   "source": [
    "# loop from 1 to 10 \n",
    "for i in range(1, 11): \n",
    "    \n",
    "    # If i is equals to 6,   \n",
    "    # continue to next iteration   \n",
    "    # without printing  \n",
    "    if i == 6: \n",
    "        continue\n",
    "    else: \n",
    "        # otherwise print the value \n",
    "        # of i \n",
    "        print(i, end = \" \")"
   ]
  },
  {
   "cell_type": "markdown",
   "id": "368e0b00",
   "metadata": {},
   "source": [
    "### pass\n",
    "As the name suggests pass statement simply does nothing. The pass statement in Python is used when a statement is required syntactically but you do not want any command or code to execute. It is like null operation, as nothing will happen is it is executed. Pass statement can also be used for writing empty loops. Pass is also used for empty control statement, function and classes.\n",
    "\n",
    "Syntax:pass"
   ]
  },
  {
   "cell_type": "code",
   "execution_count": 15,
   "id": "3a99139f",
   "metadata": {},
   "outputs": [
    {
     "name": "stdout",
     "output_type": "stream",
     "text": [
      "g\n",
      "e\n",
      "e\n",
      "Pass executed\n",
      "k\n",
      "s\n",
      "f\n",
      "o\n",
      "r\n",
      "g\n",
      "e\n",
      "e\n",
      "Pass executed\n",
      "k\n",
      "s\n"
     ]
    }
   ],
   "source": [
    "# Pass statement\n",
    "s = 'geeksforgeeks'\n",
    "for i in s:\n",
    "    if i == 'k':\n",
    "        print('Pass executed')\n",
    "        pass\n",
    "    print(i)"
   ]
  },
  {
   "cell_type": "markdown",
   "id": "ad90880b",
   "metadata": {},
   "source": [
    "# Q9\n",
    "What is a dictionary in Python?"
   ]
  },
  {
   "cell_type": "markdown",
   "id": "9f525627",
   "metadata": {},
   "source": [
    "Dictionary in Python is an ordered collection of data values, used to store data values like a map, which, unlike other Data Types that hold only a single value as an element, Dictionary holds key:value pair. Key-value is provided in the dictionary to make it more optimized. "
   ]
  },
  {
   "cell_type": "code",
   "execution_count": 10,
   "id": "72b13f9d",
   "metadata": {},
   "outputs": [
    {
     "name": "stdout",
     "output_type": "stream",
     "text": [
      "\n",
      "Dictionary with the use of Mixed Keys: \n",
      "{'Name': 'Geeks', 1: [1, 2, 3, 4]}\n"
     ]
    }
   ],
   "source": [
    "# Creating a Dictionary\n",
    "# with Mixed keys\n",
    "Dict = {'Name': 'Geeks', 1: [1, 2, 3, 4]}\n",
    "print(\"\\nDictionary with the use of Mixed Keys: \")\n",
    "print(Dict)"
   ]
  },
  {
   "cell_type": "markdown",
   "id": "1a60b64d",
   "metadata": {},
   "source": [
    "# Q10\n",
    "Discuss the following list functions: a)\"len()\" b)\"sum()\" c)\"any()\" d)\"all()\" e)\"sorted()\""
   ]
  },
  {
   "cell_type": "markdown",
   "id": "735dfd37",
   "metadata": {},
   "source": [
    "### a)\"len()\"\n",
    "len()\tReturns length of the list or size of the list\n"
   ]
  },
  {
   "cell_type": "code",
   "execution_count": 11,
   "id": "15e0c19d",
   "metadata": {},
   "outputs": [
    {
     "data": {
      "text/plain": [
       "8"
      ]
     },
     "execution_count": 11,
     "metadata": {},
     "output_type": "execute_result"
    }
   ],
   "source": [
    "numbers = [1,2,3,4,5,1,4,5] \n",
    "len(numbers)"
   ]
  },
  {
   "cell_type": "markdown",
   "id": "87ab1b82",
   "metadata": {},
   "source": [
    "### b)\"sum()\"\n",
    "The sum () function returns a number, the sum of all items in an iterable."
   ]
  },
  {
   "cell_type": "code",
   "execution_count": 12,
   "id": "91b559e2",
   "metadata": {},
   "outputs": [
    {
     "name": "stdout",
     "output_type": "stream",
     "text": [
      "25\n"
     ]
    }
   ],
   "source": [
    " numbers = [1,2,3,4,5,1,4,5] \n",
    "Sum = sum(numbers) \n",
    "\n",
    "print(Sum) "
   ]
  },
  {
   "cell_type": "markdown",
   "id": "293354b6",
   "metadata": {},
   "source": [
    "### c)\"any()\"\n",
    "Returns true if any of the items is True. It returns False if empty or all are false. Any can be thought of as a sequence of OR operations on the provided iterables.\n",
    "It short circuit the execution i.e. stop the execution as soon as the result is known.\n",
    "\n",
    "Syntax : any(list of iterables)"
   ]
  },
  {
   "cell_type": "markdown",
   "id": "c0b2973a",
   "metadata": {},
   "source": [
    "#### Since all are false, false is returned \n",
    "\n",
    "print (any([False, False, False, False])) \n",
    "\n",
    "  \n",
    "##### Here the method will short-circuit at the \n",
    "##### second item (True) and will return True. \n",
    "\n",
    "print (any([False, True, False, False])) \n"
   ]
  },
  {
   "cell_type": "markdown",
   "id": "3b660f2e",
   "metadata": {},
   "source": [
    "### d)\"all()\"\n",
    "Returns true if all of the items are True (or if the iterable is empty). All can be thought of as a sequence of AND operations on the provided iterables. It also short circuit the execution i.e. stop the execution as soon as the result is known.\n",
    "\n",
    "Syntax : all(list of iterables)\n",
    "\n"
   ]
  },
  {
   "cell_type": "markdown",
   "id": "900160e6",
   "metadata": {},
   "source": [
    "##### Here all the iterables are True so all \n",
    "##### will return True and the same will be printed \n",
    "\n",
    "print (all([True, True, True, True])) \n",
    "\n",
    "  \n",
    "##### Here the method will short-circuit at the  \n",
    "##### first item (False) and will return False. \n",
    "\n",
    "print (all([False, True, True, False])) "
   ]
  },
  {
   "cell_type": "markdown",
   "id": "ea99956a",
   "metadata": {},
   "source": [
    "### e)\"sorted()\"\n",
    "sorted() function returns a sorted list of the specified iterable object.\n",
    "Syntax: sorted(iterable, key=key, reverse=reverse)"
   ]
  },
  {
   "cell_type": "code",
   "execution_count": 13,
   "id": "56fa4b17",
   "metadata": {},
   "outputs": [
    {
     "name": "stdout",
     "output_type": "stream",
     "text": [
      "['a', 'b', 'c', 'd', 'e', 'f', 'g', 'h']\n"
     ]
    }
   ],
   "source": [
    "a = (\"h\", \"b\", \"a\", \"c\", \"f\", \"d\", \"e\", \"g\")\n",
    "x = sorted(a)\n",
    "print(x)"
   ]
  },
  {
   "cell_type": "code",
   "execution_count": null,
   "id": "22132156",
   "metadata": {},
   "outputs": [],
   "source": []
  }
 ],
 "metadata": {
  "kernelspec": {
   "display_name": "Python 3",
   "language": "python",
   "name": "python3"
  },
  "language_info": {
   "codemirror_mode": {
    "name": "ipython",
    "version": 3
   },
   "file_extension": ".py",
   "mimetype": "text/x-python",
   "name": "python",
   "nbconvert_exporter": "python",
   "pygments_lexer": "ipython3",
   "version": "3.9.5"
  }
 },
 "nbformat": 4,
 "nbformat_minor": 5
}
